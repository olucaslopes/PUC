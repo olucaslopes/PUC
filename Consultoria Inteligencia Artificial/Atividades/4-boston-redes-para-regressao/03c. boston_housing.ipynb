{
  "cells": [
    {
      "cell_type": "markdown",
      "metadata": {},
      "source": [
        "# Redes Neurais para Regressão - Boston Housing\n",
        "\n",
        "Aprendizados:\n",
        "- Redes neurais para regressão\n",
        "- Normalização dos dados\n",
        "- Validação cruzada"
      ]
    },
    {
      "cell_type": "code",
      "execution_count": 80,
      "metadata": {},
      "outputs": [],
      "source": [
        "from keras.datasets import boston_housing\n",
        "from keras.callbacks import EarlyStopping\n",
        "from keras import models, layers\n",
        "from keras.utils import set_random_seed\n",
        "import numpy as np\n",
        "import matplotlib.pyplot as plt\n",
        "import time\n",
        "from copy import deepcopy\n",
        "import warnings\n",
        "\n",
        "warnings.filterwarnings(\"ignore\")"
      ]
    },
    {
      "cell_type": "code",
      "execution_count": 2,
      "metadata": {
        "colab": {
          "base_uri": "https://localhost:8080/"
        },
        "id": "ZFvsbfZnpYsL",
        "outputId": "1ea7dbb9-7097-494a-bab2-1e9ff94d674f"
      },
      "outputs": [
        {
          "name": "stdout",
          "output_type": "stream",
          "text": [
            "(404, 13)\n",
            "(102, 13)\n",
            "[15.2 42.3 50.  21.1 17.7 18.5 11.3 15.6 15.6 14.4 12.1 17.9 23.1 19.9\n",
            " 15.7  8.8 50.  22.5 24.1 27.5 10.9 30.8 32.9 24.  18.5 13.3 22.9 34.7\n",
            " 16.6 17.5 22.3 16.1 14.9 23.1 34.9 25.  13.9 13.1 20.4 20.  15.2 24.7\n",
            " 22.2 16.7 12.7 15.6 18.4 21.  30.1 15.1 18.7  9.6 31.5 24.8 19.1 22.\n",
            " 14.5 11.  32.  29.4 20.3 24.4 14.6 19.5 14.1 14.3 15.6 10.5  6.3 19.3\n",
            " 19.3 13.4 36.4 17.8 13.5 16.5  8.3 14.3 16.  13.4 28.6 43.5 20.2 22.\n",
            " 23.  20.7 12.5 48.5 14.6 13.4 23.7 50.  21.7 39.8 38.7 22.2 34.9 22.5\n",
            " 31.1 28.7 46.  41.7 21.  26.6 15.  24.4 13.3 21.2 11.7 21.7 19.4 50.\n",
            " 22.8 19.7 24.7 36.2 14.2 18.9 18.3 20.6 24.6 18.2  8.7 44.  10.4 13.2\n",
            " 21.2 37.  30.7 22.9 20.  19.3 31.7 32.  23.1 18.8 10.9 50.  19.6  5.\n",
            " 14.4 19.8 13.8 19.6 23.9 24.5 25.  19.9 17.2 24.6 13.5 26.6 21.4 11.9\n",
            " 22.6 19.6  8.5 23.7 23.1 22.4 20.5 23.6 18.4 35.2 23.1 27.9 20.6 23.7\n",
            " 28.  13.6 27.1 23.6 20.6 18.2 21.7 17.1  8.4 25.3 13.8 22.2 18.4 20.7\n",
            " 31.6 30.5 20.3  8.8 19.2 19.4 23.1 23.  14.8 48.8 22.6 33.4 21.1 13.6\n",
            " 32.2 13.1 23.4 18.9 23.9 11.8 23.3 22.8 19.6 16.7 13.4 22.2 20.4 21.8\n",
            " 26.4 14.9 24.1 23.8 12.3 29.1 21.  19.5 23.3 23.8 17.8 11.5 21.7 19.9\n",
            " 25.  33.4 28.5 21.4 24.3 27.5 33.1 16.2 23.3 48.3 22.9 22.8 13.1 12.7\n",
            " 22.6 15.  15.3 10.5 24.  18.5 21.7 19.5 33.2 23.2  5.  19.1 12.7 22.3\n",
            " 10.2 13.9 16.3 17.  20.1 29.9 17.2 37.3 45.4 17.8 23.2 29.  22.  18.\n",
            " 17.4 34.6 20.1 25.  15.6 24.8 28.2 21.2 21.4 23.8 31.  26.2 17.4 37.9\n",
            " 17.5 20.   8.3 23.9  8.4 13.8  7.2 11.7 17.1 21.6 50.  16.1 20.4 20.6\n",
            " 21.4 20.6 36.5  8.5 24.8 10.8 21.9 17.3 18.9 36.2 14.9 18.2 33.3 21.8\n",
            " 19.7 31.6 24.8 19.4 22.8  7.5 44.8 16.8 18.7 50.  50.  19.5 20.1 50.\n",
            " 17.2 20.8 19.3 41.3 20.4 20.5 13.8 16.5 23.9 20.6 31.5 23.3 16.8 14.\n",
            " 33.8 36.1 12.8 18.3 18.7 19.1 29.  30.1 50.  50.  22.  11.9 37.6 50.\n",
            " 22.7 20.8 23.5 27.9 50.  19.3 23.9 22.6 15.2 21.7 19.2 43.8 20.3 33.2\n",
            " 19.9 22.5 32.7 22.  17.1 19.  15.  16.1 25.1 23.7 28.7 37.2 22.6 16.4\n",
            " 25.  29.8 22.1 17.4 18.1 30.3 17.5 24.7 12.6 26.5 28.7 13.3 10.4 24.4\n",
            " 23.  20.  17.8  7.  11.8 24.4 13.8 19.4 25.2 19.4 19.4 29.1]\n"
          ]
        }
      ],
      "source": [
        "### Loading the Boston housing dataset\n",
        "\n",
        "(train_data, train_targets), (test_data, test_targets) = boston_housing.load_data()\n",
        "\n",
        "#looking at the data\n",
        "print(train_data.shape)\n",
        "print(test_data.shape)\n",
        "\n",
        "#the targets are the median values of owner-occupied homes, in thousands of dollars\n",
        "print(train_targets)"
      ]
    },
    {
      "cell_type": "markdown",
      "metadata": {
        "id": "j3gVT73V1snc"
      },
      "source": [
        "**Preparando os dados**"
      ]
    },
    {
      "cell_type": "code",
      "execution_count": 3,
      "metadata": {
        "id": "Wixjx6YX13Aq"
      },
      "outputs": [],
      "source": [
        "### Normalizing the data\n",
        "\n",
        "mean = train_data.mean(axis=0)\n",
        "train_data -= mean\n",
        "std = train_data.std(axis=0)\n",
        "train_data /= std\n",
        "test_data -= mean\n",
        "test_data /= std"
      ]
    },
    {
      "cell_type": "markdown",
      "metadata": {
        "id": "7zXbwKEH2EIO"
      },
      "source": [
        "**Construindo a rede**\n",
        "Devido ao número limitado de amostras disponíveis, usaremos uma rede muito pequena com duas camadas ocultas, cada uma com 64 unidades. Em geral, quanto menos dados de treinamento houver, pior será o *overfitting*, e usar uma rede pequena é uma maneira de mitigar o *overfitting*."
      ]
    },
    {
      "cell_type": "code",
      "execution_count": 4,
      "metadata": {
        "id": "j8zheEiMSEIh"
      },
      "outputs": [],
      "source": [
        "def build_model():\n",
        "  model = models.Sequential()\n",
        "  model.add(layers.Dense(64, activation='relu', input_shape=(train_data.shape[1],)))\n",
        "  model.add(layers.Dense(64, activation='relu'))\n",
        "  model.add(layers.Dense(1))\n",
        "  model.compile(optimizer='rmsprop', loss='mse', metrics=['mae'])\n",
        "  return model"
      ]
    },
    {
      "cell_type": "markdown",
      "metadata": {
        "id": "zjCWwz2-STeI"
      },
      "source": [
        "A rede termina com uma única unidade e sem ativação (será uma camada linear). Essa é uma configuração típica para regressão escalar (uma regressão em que você está tentando prever um único valor contínuo). Aplicar uma função de ativação restringiria o intervalo que a saída pode assumir; por exemplo, se você aplicasse uma função de ativação `sigmoid` à última camada, a rede só poderia aprender a prever valores entre 0 e 1. Aqui, porque a última camada é puramente linear, a rede está livre para aprender a prever valores em qualquer faixa.\n",
        "\n",
        "Observe que estamos compilando a rede com a função de perda `mse` (*erro médio quadrático*), o quadrado da diferença entre as previsões e os alvos. Esta é uma função de perda amplamente utilizada para problemas de regressão.\n",
        "Também estamos monitorando uma nova métrica durante o treinamento: o *erro médio absoluto* (`MAE`). É o valor absoluto da diferença entre as previsões e os alvos. Por exemplo, um `MAE` de 0.5 neste problema significaria que suas previsões têm um desvio médio de $500."
      ]
    },
    {
      "cell_type": "markdown",
      "metadata": {
        "id": "f5UVAo9TS4sJ"
      },
      "source": [
        "**Validando a abordagem usando validação K-fold**\n",
        "\n",
        "Para avaliar sua rede enquanto continua ajustando seus parâmetros (como o número de épocas usado para o treinamento), você poderia dividir os dados em um conjunto de treinamento e um conjunto de validação, como fez nos exemplos anteriores. Mas, devido ao número limitado de pontos de dados, o conjunto de validação acabaria sendo muito pequeno (por exemplo, cerca de 100 exemplos). Como consequência, as pontuações de validação podem variar bastante dependendo de quais pontos de dados você escolheu para usar na validação e quais você escolheu para o treinamento: as pontuações de validação podem ter uma alta **variância** em relação à divisão de validação. Isso impediria que você avaliasse confiavelmente seu modelo.\n",
        "\n",
        "A melhor prática em tais situações é usar a validação cruzada *K-fold*. Ela consiste em dividir os dados disponíveis em K partições (tipicamente K = 4 ou 5), instanciar K modelos idênticos e treinar cada um em K - 1 partições enquanto avalia na partição restante. A pontuação de validação para o modelo usado é então a média das K pontuações de validação obtidas. Em termos de código, isso é muito simples."
      ]
    },
    {
      "cell_type": "code",
      "execution_count": 43,
      "metadata": {
        "colab": {
          "base_uri": "https://localhost:8080/"
        },
        "id": "OCXPg-cbUKQ5",
        "outputId": "044c0c61-b72c-428f-c053-bcecfda5017e"
      },
      "outputs": [
        {
          "name": "stdout",
          "output_type": "stream",
          "text": [
            "processing fold # 0\n",
            "Fold # 0 MAE: 2.523258924484253\n",
            "processing fold # 1\n",
            "Fold # 1 MAE: 2.592108964920044\n",
            "processing fold # 2\n",
            "Fold # 2 MAE: 2.6593167781829834\n",
            "processing fold # 3\n",
            "Fold # 3 MAE: 2.7368087768554688\n",
            "[2.523258924484253, 2.592108964920044, 2.6593167781829834, 2.7368087768554688]\n"
          ]
        },
        {
          "data": {
            "text/plain": [
              "2.6278733611106873"
            ]
          },
          "execution_count": 43,
          "metadata": {},
          "output_type": "execute_result"
        }
      ],
      "source": [
        "### K-fold validation\n",
        "\n",
        "k = 4\n",
        "num_val_samples = len(train_data) // k\n",
        "num_epochs = 100\n",
        "all_scores = []\n",
        "\n",
        "for i in range(k):\n",
        "  print('processing fold #', i)\n",
        "  val_data = train_data[i * num_val_samples: (i + 1) * num_val_samples]\n",
        "  val_targets = train_targets[i * num_val_samples: (i + 1) * num_val_samples]\n",
        "  partial_train_data = np.concatenate([train_data[:i * num_val_samples],\n",
        "    train_data[(i + 1) * num_val_samples:]],axis=0)\n",
        "  partial_train_targets = np.concatenate([train_targets[:i * num_val_samples],\n",
        "    train_targets[(i + 1) * num_val_samples:]],axis=0)\n",
        "  model = build_model()\n",
        "  model.fit(partial_train_data, partial_train_targets,\n",
        "  epochs=num_epochs, batch_size=1, verbose=0)\n",
        "  val_mse, val_mae = model.evaluate(val_data, val_targets, verbose=0)\n",
        "  all_scores.append(val_mae)\n",
        "  print(f'\\tFold # {i} MAE: {val_mae:.2f}')\n",
        "print(all_scores)\n",
        "np.mean(all_scores)"
      ]
    },
    {
      "cell_type": "markdown",
      "metadata": {
        "id": "SysLh2xIaGzb"
      },
      "source": [
        "As diferentes execuções realmente mostram pontuações de validação bastante diferentes, de 2.6 a 3.2. A média (3.0) é uma métrica muito mais confiável do que qualquer pontuação única - esse é o ponto principal da validação cruzada K-fold. Neste caso, você está errando em média \\$3000, o que é significativo considerando que os preços variam de \\$10000 a \\$50000.\n",
        "\n",
        "Vamos tentar treinar a rede um pouco mais: 500 épocas. Para manter um registro de quão bem o modelo se sai a cada época, modificaremos o loop de treinamento para salvar o registro da pontuação de validação por época."
      ]
    },
    {
      "cell_type": "code",
      "execution_count": 6,
      "metadata": {
        "colab": {
          "base_uri": "https://localhost:8080/",
          "height": 518
        },
        "id": "CPY-YcwBaYTp",
        "outputId": "b8945a71-a4f5-4912-f583-44ada637d0ea"
      },
      "outputs": [
        {
          "name": "stdout",
          "output_type": "stream",
          "text": [
            "processing fold # 0\n",
            "processing fold # 1\n",
            "processing fold # 2\n",
            "processing fold # 3\n"
          ]
        },
        {
          "data": {
            "image/png": "[encoded data removed]",
            "text/plain": [
              "<Figure size 640x480 with 1 Axes>"
            ]
          },
          "metadata": {},
          "output_type": "display_data"
        }
      ],
      "source": [
        "### Saving the validation logs at each fold\n",
        "\n",
        "num_epochs = 500\n",
        "all_mae_histories = []\n",
        "for i in range(k):\n",
        "  print('processing fold #', i)\n",
        "  val_data = train_data[i * num_val_samples: (i + 1) * num_val_samples]\n",
        "  val_targets = train_targets[i * num_val_samples: (i + 1) * num_val_samples]\n",
        "  partial_train_data = np.concatenate([train_data[:i * num_val_samples],\n",
        "    train_data[(i + 1) * num_val_samples:]], axis=0)\n",
        "  partial_train_targets = np.concatenate([train_targets[:i * num_val_samples],\n",
        "    train_targets[(i + 1) * num_val_samples:]], axis=0)\n",
        "  model = build_model()\n",
        "  history = model.fit(partial_train_data, partial_train_targets,\n",
        "    validation_data=(val_data, val_targets),\n",
        "  epochs=num_epochs, batch_size=32, verbose=0)\n",
        "  mae_history = history.history['val_mae']\n",
        "  all_mae_histories.append(mae_history)\n",
        "\n",
        "### Building the history of successive mean K-fold validation scores\n",
        "average_mae_history = [\n",
        "np.mean([x[i] for x in all_mae_histories]) for i in range(num_epochs)]\n",
        "\n",
        "### Plotting validation scores\n",
        "\n",
        "plt.plot(range(1, len(average_mae_history) + 1), average_mae_history)\n",
        "plt.xlabel('Epochs')\n",
        "plt.ylabel('Validation MAE')\n",
        "plt.show()"
      ]
    },
    {
      "cell_type": "markdown",
      "metadata": {
        "id": "U7sGPP8QclMq"
      },
      "source": [
        "Pode ser um pouco difícil ver o gráfico, devido a problemas de escala e variância relativamente alta. Vamos fazer o seguinte:\n",
        "- Omitir os primeiros 10 pontos de dados, que estão em uma escala diferente do resto da curva.\n",
        "- Substituir cada ponto por uma média móvel exponencial dos pontos anteriores para obter uma curva suave."
      ]
    },
    {
      "cell_type": "code",
      "execution_count": 7,
      "metadata": {
        "colab": {
          "base_uri": "https://localhost:8080/",
          "height": 449
        },
        "id": "gu2xP6RTcuQ1",
        "outputId": "dcf07050-d88a-4f35-ae5c-56ba7a10bd57"
      },
      "outputs": [
        {
          "data": {
            "image/png": "[encoded data removed]",
            "text/plain": [
              "<Figure size 640x480 with 1 Axes>"
            ]
          },
          "metadata": {},
          "output_type": "display_data"
        }
      ],
      "source": [
        "### Plotting validation scores, excluding the first 10 data points\n",
        "def smooth_curve(points, factor=0.9):\n",
        "  smoothed_points = []\n",
        "  for point in points:\n",
        "    if smoothed_points:\n",
        "      previous = smoothed_points[-1]\n",
        "      smoothed_points.append(previous * factor + point * (1 - factor))\n",
        "    else:\n",
        "      smoothed_points.append(point)\n",
        "  return smoothed_points\n",
        "smooth_mae_history = smooth_curve(average_mae_history[10:])\n",
        "plt.plot(range(1, len(smooth_mae_history) + 1), smooth_mae_history)\n",
        "plt.xlabel('Epochs')\n",
        "plt.ylabel('Validation MAE')\n",
        "plt.show()"
      ]
    },
    {
      "cell_type": "markdown",
      "metadata": {
        "id": "0CM9cUkfc_XV"
      },
      "source": [
        "De acordo com este gráfico, a validação por MAE para de melhorar significativamente após 80 épocas. Após esse ponto, começa-se a ter *overfitting*. Assim que terminarmos de ajustar outros parâmetros do modelo (além do número de épocas, você também pode ajustar o tamanho das camadas ocultas), podemos treinar um modelo final em todos os dados de treinamento, com os melhores parâmetros, e então avaliar seu desempenho nos dados de teste."
      ]
    },
    {
      "cell_type": "code",
      "execution_count": 8,
      "metadata": {
        "colab": {
          "base_uri": "https://localhost:8080/"
        },
        "id": "FWoVTeF4jt1C",
        "outputId": "006dd2f2-8d7f-4946-e495-28d969abe8e3"
      },
      "outputs": [
        {
          "name": "stdout",
          "output_type": "stream",
          "text": [
            "\u001b[1m4/4\u001b[0m \u001b[32m━━━━━━━━━━━━━━━━━━━━\u001b[0m\u001b[37m\u001b[0m \u001b[1m0s\u001b[0m 2ms/step - loss: 27.0270 - mae: 2.8030 \n",
            "3.009676456451416\n"
          ]
        }
      ],
      "source": [
        "### Training the final model\n",
        "model = build_model()\n",
        "model.fit(train_data, train_targets,epochs=80, batch_size=32, verbose=0)\n",
        "test_mse_score, test_mae_score = model.evaluate(test_data, test_targets)\n",
        "print(test_mae_score)"
      ]
    },
    {
      "cell_type": "markdown",
      "metadata": {
        "id": "LxmwS2XQlVTi"
      },
      "source": [
        "**Exercícios**\n",
        "\n",
        "1. Aumente o número de camadas da rede. Qual é o efeito dessa mudança no *overfitting* da rede?\n"
      ]
    },
    {
      "cell_type": "code",
      "execution_count": 9,
      "metadata": {},
      "outputs": [],
      "source": [
        "def create_model(architecture, early_stopping_patience=3):\n",
        "    \"\"\"Creates a model from a given architecture and fits it to the training data\"\"\"\n",
        "    set_random_seed(0)\n",
        "    np.random.seed(0)\n",
        "    model = models.Sequential()\n",
        "        \n",
        "    for i, layer in enumerate(architecture['layers']):\n",
        "        if i == 0:\n",
        "            model.add(layers.Dense(**layer))\n",
        "        else:\n",
        "            model.add(layers.Dense(**layer))\n",
        "\n",
        "    model.compile(optimizer=architecture['optimizer'],\n",
        "                    loss=architecture['loss'],\n",
        "                    metrics=architecture['metrics'])\n",
        "    \n",
        "    return model"
      ]
    },
    {
      "cell_type": "code",
      "execution_count": 38,
      "metadata": {},
      "outputs": [],
      "source": [
        "def fit_model(model, x_train, y_train, x_val, y_val, epochs=20, batch_size=32, early_stopping_patience=None, verbose=0):\n",
        "    set_random_seed(0)\n",
        "    np.random.seed(0)\n",
        "    callbacks = []\n",
        "    if early_stopping_patience is not None:\n",
        "        early_stopping = [EarlyStopping(monitor='val_loss', patience=early_stopping_patience)]\n",
        "        callbacks.append(early_stopping)\n",
        "    \n",
        "    return model.fit(x_train, y_train, epochs=epochs, batch_size=batch_size,\n",
        "                    validation_data=(x_val, y_val), callbacks=callbacks, verbose=verbose)"
      ]
    },
    {
      "cell_type": "code",
      "execution_count": 31,
      "metadata": {},
      "outputs": [],
      "source": [
        "def fit_model_k_fold(model, x_train, y_train, k=4, epochs=20, batch_size=32, early_stopping_patience=3):\n",
        "    set_random_seed(0)\n",
        "    np.random.seed(0)\n",
        "    num_val_samples = len(x_train) // k\n",
        "    all_scores = []\n",
        "    all_histories = []\n",
        "    \n",
        "    for i in range(k):\n",
        "        print('   processing fold #', i+1)\n",
        "        s_time = time.time()\n",
        "        val_data = x_train[i * num_val_samples: (i + 1) * num_val_samples]\n",
        "        val_targets = y_train[i * num_val_samples: (i + 1) * num_val_samples]\n",
        "        partial_train_data = np.concatenate([x_train[:i * num_val_samples],\n",
        "            x_train[(i + 1) * num_val_samples:]], axis=0)\n",
        "        partial_train_targets = np.concatenate([y_train[:i * num_val_samples],\n",
        "            y_train[(i + 1) * num_val_samples:]], axis=0)\n",
        "        \n",
        "        history = fit_model(model, partial_train_data, partial_train_targets, val_data, val_targets, epochs=epochs, batch_size=batch_size, early_stopping_patience=early_stopping_patience)\n",
        "        \n",
        "        val_mse, val_mae = model.evaluate(val_data, val_targets, verbose=0)\n",
        "        all_scores.append(val_mae)\n",
        "        all_histories.append(history)\n",
        "        print(f'Time taken for fold # {i+1}:', time.time() - s_time)\n",
        "    \n",
        "    return all_scores, all_histories"
      ]
    },
    {
      "cell_type": "code",
      "execution_count": 78,
      "metadata": {},
      "outputs": [],
      "source": [
        "def fit_model_k_fold(architecture, x_train, y_train, k=4, epochs=20, batch_size=32, early_stopping_patience=3, verbose=0):\n",
        "    set_random_seed(0)\n",
        "    np.random.seed(0)\n",
        "    num_val_samples = len(x_train) // k\n",
        "    all_scores = []\n",
        "    all_histories = []\n",
        "    models_ = []\n",
        "    \n",
        "    for i in range(k):\n",
        "        print('   processing fold #', i+1)\n",
        "        s_time = time.time()\n",
        "        val_data = x_train[i * num_val_samples: (i + 1) * num_val_samples]\n",
        "        val_targets = y_train[i * num_val_samples: (i + 1) * num_val_samples]\n",
        "        partial_train_data = np.concatenate([x_train[:i * num_val_samples],\n",
        "            x_train[(i + 1) * num_val_samples:]], axis=0)\n",
        "        partial_train_targets = np.concatenate([y_train[:i * num_val_samples],\n",
        "            y_train[(i + 1) * num_val_samples:]], axis=0)\n",
        "        \n",
        "        model = create_model(architecture)\n",
        "        history = fit_model(model, partial_train_data, partial_train_targets, val_data, val_targets, epochs=epochs, batch_size=batch_size, early_stopping_patience=early_stopping_patience, verbose=verbose)\n",
        "        \n",
        "        val_mse, val_mae = model.evaluate(val_data, val_targets, verbose=0)\n",
        "        all_scores.append(val_mae)\n",
        "        all_histories.append(history)\n",
        "        models_.append(model)\n",
        "        print(f'      fold # {i} Val MAE: {val_mae:.2f}')\n",
        "        # print(f'      Time taken for fold # {i+1}: {(time.time() - s_time):.2f} seconds')\n",
        "    \n",
        "    return all_scores, all_histories, models_"
      ]
    },
    {
      "cell_type": "code",
      "execution_count": 12,
      "metadata": {},
      "outputs": [],
      "source": [
        "base_architecture = {\n",
        "        'layers': [\n",
        "            {'units': 64, 'activation': 'relu', 'input_shape': (train_data.shape[1],)}\n",
        "        ],\n",
        "        'optimizer': 'rmsprop',\n",
        "        'loss': 'mse',\n",
        "        'metrics': ['mae']\n",
        "    }"
      ]
    },
    {
      "cell_type": "code",
      "execution_count": 14,
      "metadata": {},
      "outputs": [],
      "source": [
        "architectures = []\n",
        "for i in range(1, 11):\n",
        "    architecture = deepcopy(base_architecture)\n",
        "    layers_ = [{'units': 64, 'activation': 'relu'} for _ in range(i)] + [{'units': 1}]\n",
        "    architecture['layers'].extend(layers_)\n",
        "    architectures.append(architecture)"
      ]
    },
    {
      "cell_type": "code",
      "execution_count": 88,
      "metadata": {},
      "outputs": [
        {
          "name": "stdout",
          "output_type": "stream",
          "text": [
            "Training model with 1 layer(s)\n",
            "   processing fold # 1\n",
            "      fold # 0 Val MAE: 1.81\n",
            "   processing fold # 2\n",
            "      fold # 1 Val MAE: 2.32\n",
            "   processing fold # 3\n",
            "      fold # 2 Val MAE: 2.52\n",
            "   processing fold # 4\n",
            "      fold # 3 Val MAE: 2.36\n",
            "   average MAE: 2.25\n",
            "   Time taken: 22.16 seconds\n",
            "\n",
            "Training model with 2 layer(s)\n",
            "   processing fold # 1\n",
            "      fold # 0 Val MAE: 1.91\n",
            "   processing fold # 2\n",
            "      fold # 1 Val MAE: 2.32\n",
            "   processing fold # 3\n",
            "      fold # 2 Val MAE: 2.47\n",
            "   processing fold # 4\n",
            "      fold # 3 Val MAE: 2.47\n",
            "   average MAE: 2.29\n",
            "   Time taken: 11.61 seconds\n",
            "\n",
            "Training model with 3 layer(s)\n",
            "   processing fold # 1\n",
            "      fold # 0 Val MAE: 2.09\n",
            "   processing fold # 2\n",
            "      fold # 1 Val MAE: 2.46\n",
            "   processing fold # 3\n",
            "      fold # 2 Val MAE: 2.59\n",
            "   processing fold # 4\n",
            "      fold # 3 Val MAE: 2.83\n",
            "   average MAE: 2.49\n",
            "   Time taken: 7.72 seconds\n",
            "\n",
            "Training model with 4 layer(s)\n",
            "   processing fold # 1\n",
            "      fold # 0 Val MAE: 2.41\n",
            "   processing fold # 2\n",
            "      fold # 1 Val MAE: 3.21\n",
            "   processing fold # 3\n",
            "      fold # 2 Val MAE: 2.80\n",
            "   processing fold # 4\n",
            "      fold # 3 Val MAE: 3.40\n",
            "   average MAE: 2.96\n",
            "   Time taken: 5.57 seconds\n",
            "\n",
            "Training model with 5 layer(s)\n",
            "   processing fold # 1\n",
            "      fold # 0 Val MAE: 2.58\n",
            "   processing fold # 2\n",
            "      fold # 1 Val MAE: 2.81\n",
            "   processing fold # 3\n",
            "      fold # 2 Val MAE: 3.04\n",
            "   processing fold # 4\n",
            "      fold # 3 Val MAE: 3.16\n",
            "   average MAE: 2.90\n",
            "   Time taken: 5.91 seconds\n",
            "\n",
            "Training model with 6 layer(s)\n",
            "   processing fold # 1\n",
            "      fold # 0 Val MAE: 3.38\n",
            "   processing fold # 2\n",
            "      fold # 1 Val MAE: 3.84\n",
            "   processing fold # 3\n",
            "      fold # 2 Val MAE: 3.23\n",
            "   processing fold # 4\n",
            "      fold # 3 Val MAE: 4.90\n",
            "   average MAE: 3.84\n",
            "   Time taken: 5.98 seconds\n",
            "\n",
            "Training model with 7 layer(s)\n",
            "   processing fold # 1\n",
            "      fold # 0 Val MAE: 2.50\n",
            "   processing fold # 2\n",
            "      fold # 1 Val MAE: 4.77\n",
            "   processing fold # 3\n",
            "      fold # 2 Val MAE: 3.30\n",
            "   processing fold # 4\n",
            "      fold # 3 Val MAE: 2.95\n",
            "   average MAE: 3.38\n",
            "   Time taken: 5.46 seconds\n",
            "\n",
            "Training model with 8 layer(s)\n",
            "   processing fold # 1\n",
            "      fold # 0 Val MAE: 2.78\n",
            "   processing fold # 2\n",
            "      fold # 1 Val MAE: 3.35\n",
            "   processing fold # 3\n",
            "      fold # 2 Val MAE: 3.56\n",
            "   processing fold # 4\n",
            "      fold # 3 Val MAE: 2.96\n",
            "   average MAE: 3.17\n",
            "   Time taken: 6.72 seconds\n",
            "\n",
            "Training model with 9 layer(s)\n",
            "   processing fold # 1\n",
            "      fold # 0 Val MAE: 4.30\n",
            "   processing fold # 2\n",
            "      fold # 1 Val MAE: 5.27\n",
            "   processing fold # 3\n",
            "      fold # 2 Val MAE: 4.32\n",
            "   processing fold # 4\n",
            "      fold # 3 Val MAE: 5.27\n",
            "   average MAE: 4.79\n",
            "   Time taken: 5.20 seconds\n",
            "\n",
            "Training model with 10 layer(s)\n",
            "   processing fold # 1\n",
            "      fold # 0 Val MAE: 1.94\n",
            "   processing fold # 2\n",
            "      fold # 1 Val MAE: 4.95\n",
            "   processing fold # 3\n",
            "      fold # 2 Val MAE: 4.60\n",
            "   processing fold # 4\n",
            "      fold # 3 Val MAE: 2.60\n",
            "   average MAE: 3.52\n",
            "   Time taken: 6.34 seconds\n",
            "\n"
          ]
        }
      ],
      "source": [
        "# Training models for 500 epochs\n",
        "all_scores = []\n",
        "all_histories = []\n",
        "all_models = []\n",
        "for i, architecture in enumerate(architectures):\n",
        "    s_time_arch = time.time()\n",
        "    n_layers = len(architecture['layers']) - 2\n",
        "    print(f\"Training model with {n_layers} layer(s)\")\n",
        "    scores, histories, models_ = fit_model_k_fold(architecture, train_data, train_targets, epochs=500, batch_size=32)\n",
        "    all_scores.append(scores)\n",
        "    all_histories.append(histories)\n",
        "    all_models.append(models_)\n",
        "    print(f\"   average MAE: {np.mean(scores):.2f}\")\n",
        "    print(f\"   Time taken: {time.time() - s_time_arch:.2f} seconds\")\n",
        "    print()"
      ]
    },
    {
      "cell_type": "code",
      "execution_count": 90,
      "metadata": {},
      "outputs": [],
      "source": [
        "# Get the average MAE for each model in the test set\n",
        "all_test_scores = []\n",
        "for i, models_ in enumerate(all_models):\n",
        "    test_scores = []\n",
        "    for j, model in enumerate(models_):\n",
        "        test_mse, test_mae = model.evaluate(test_data, test_targets, verbose=0)\n",
        "        test_scores.append(test_mae)\n",
        "    all_test_scores.append(test_scores)"
      ]
    },
    {
      "cell_type": "code",
      "execution_count": 99,
      "metadata": {},
      "outputs": [
        {
          "data": {
            "image/png": "[encoded data removed]",
            "text/plain": [
              "<Figure size 640x480 with 1 Axes>"
            ]
          },
          "metadata": {},
          "output_type": "display_data"
        }
      ],
      "source": [
        "# Plot bar chart with average MAE for test data for each model\n",
        "plt.figure()\n",
        "n_layers = [len(architecture['layers']) - 2 for architecture in architectures]\n",
        "average_test_scores = [np.mean(test_scores) for test_scores in all_test_scores]\n",
        "plt.bar(n_layers, average_test_scores)\n",
        "plt.xlabel('Number of layers')\n",
        "plt.xticks(n_layers)\n",
        "plt.ylabel('Average Test MAE')\n",
        "\n",
        "# Plot the values on top of the bars\n",
        "for i, score in enumerate(average_test_scores):\n",
        "    plt.text(n_layers[i], score, f'{score:.2f}', ha='center', va='bottom')\n",
        "\n",
        "plt.tight_layout()\n",
        "plt.savefig('./imgs/average_test_mae_by_layer.png')\n",
        "plt.suptitle('Average Test MAE for each model')\n",
        "plt.tight_layout()\n",
        "plt.show()"
      ]
    },
    {
      "cell_type": "code",
      "execution_count": 100,
      "metadata": {},
      "outputs": [
        {
          "data": {
            "image/png": "[encoded data removed]",
            "text/plain": [
              "<Figure size 640x480 with 1 Axes>"
            ]
          },
          "metadata": {},
          "output_type": "display_data"
        }
      ],
      "source": [
        "# Plot validation score vs test score for each model\n",
        "plt.figure()\n",
        "for i, scores in enumerate(all_scores):\n",
        "    n_layers = len(architectures[i]['layers']) - 2\n",
        "    plt.scatter(np.mean(scores), np.mean(all_test_scores[i]), label=f'{n_layers} layers')\n",
        "plt.xlabel('Average Validation MAE')\n",
        "plt.ylabel('Average Test MAE')\n",
        "plt.legend()\n",
        "plt.tight_layout()\n",
        "plt.savefig('./imgs/validation_vs_test_mae_by_layer.png')\n",
        "plt.suptitle('Validation vs Test MAE for each model')\n",
        "plt.tight_layout()\n",
        "plt.show()"
      ]
    },
    {
      "cell_type": "markdown",
      "metadata": {},
      "source": [
        "### Análise\n",
        "\n",
        "Com base nos resultados obtidos, é possível observar que a medida que aumentamos o número de camadas da rede, o *overfitting* da rede aumenta (obser a tendência de crescimento do erro no gráfico de barras). Isso ocorre porque a rede passa a ter mais parâmetros para ajustar, o que pode levar a um ajuste excessivo dos dados de treinamento."
      ]
    }
  ],
  "metadata": {
    "colab": {
      "provenance": []
    },
    "kernelspec": {
      "display_name": "Python 3",
      "name": "python3"
    },
    "language_info": {
      "codemirror_mode": {
        "name": "ipython",
        "version": 3
      },
      "file_extension": ".py",
      "mimetype": "text/x-python",
      "name": "python",
      "nbconvert_exporter": "python",
      "pygments_lexer": "ipython3",
      "version": "3.9.13"
    }
  },
  "nbformat": 4,
  "nbformat_minor": 0
}
