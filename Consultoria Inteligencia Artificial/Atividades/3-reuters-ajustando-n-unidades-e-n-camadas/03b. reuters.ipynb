{
  "cells": [
    {
      "cell_type": "markdown",
      "metadata": {},
      "source": [
        "# Reuters: Classificação de Tópicos de Notícias"
      ]
    },
    {
      "cell_type": "code",
      "execution_count": 1,
      "metadata": {},
      "outputs": [],
      "source": [
        "from keras.utils import set_random_seed\n",
        "import numpy as np\n",
        "from keras.callbacks import EarlyStopping\n",
        "from keras import regularizers\n",
        "from sklearn.metrics import accuracy_score, f1_score, roc_auc_score\n",
        "import pandas as pd\n",
        "\n",
        "set_random_seed(0)\n",
        "np.random.seed(0)"
      ]
    },
    {
      "cell_type": "code",
      "execution_count": 2,
      "metadata": {
        "colab": {
          "base_uri": "https://localhost:8080/"
        },
        "id": "G_iarxmHRNfw",
        "outputId": "99708d79-d21c-441a-e062-64e5723251ea"
      },
      "outputs": [
        {
          "name": "stdout",
          "output_type": "stream",
          "text": [
            "8982\n",
            "2246\n",
            "[1, 245, 273, 207, 156, 53, 74, 160, 26, 14, 46, 296, 26, 39, 74, 2979, 3554, 14, 46, 4689, 4329, 86, 61, 3499, 4795, 14, 61, 451, 4329, 17, 12]\n"
          ]
        }
      ],
      "source": [
        "### Loading the Reuters dataset\n",
        "\n",
        "from keras.datasets import reuters\n",
        "(train_data, train_labels), (test_data, test_labels) = reuters.load_data(num_words=10000)\n",
        "\n",
        "print(len(train_data))\n",
        "print(len(test_data))\n",
        "print(train_data[10])"
      ]
    },
    {
      "cell_type": "code",
      "execution_count": 3,
      "metadata": {
        "colab": {
          "base_uri": "https://localhost:8080/"
        },
        "id": "8wUtjn7_R3qI",
        "outputId": "ac2af593-623a-46a1-8873-90fc594a0dce"
      },
      "outputs": [
        {
          "name": "stdout",
          "output_type": "stream",
          "text": [
            "? said as a result of its december acquisition of space co it expects earnings per share in 1987 of 1 15 to 1 30 dlrs per share up from 70 cts in 1986 the company said pretax net should rise to nine to 10 mln dlrs from six mln dlrs in 1986 and rental operation revenues to 19 to 22 mln dlrs from 12 5 mln dlrs it said cash flow per share this year should be 2 50 to three dlrs reuter 3\n",
            "('cocoa', 'grain', 'veg-oil', 'earn', 'acq', 'wheat', 'copper', 'housing', 'money-supply', 'coffee', 'sugar', 'trade', 'reserves', 'ship', 'cotton', 'carcass', 'crude', 'nat-gas', 'cpi', 'money-fx', 'interest', 'gnp', 'meal-feed', 'alum', 'oilseed', 'gold', 'tin', 'strategic-metal', 'livestock', 'retail', 'ipi', 'iron-steel', 'rubber', 'heat', 'jobs', 'lei', 'bop', 'zinc', 'orange', 'pet-chem', 'dlr', 'gas', 'silver', 'wpi', 'hog', 'lead')\n",
            "earn\n"
          ]
        }
      ],
      "source": [
        "### Decoding newswires back to text\n",
        "word_index = reuters.get_word_index()\n",
        "reverse_word_index = dict([(value, key) for (key, value) in word_index.items()])\n",
        "decoded_newswire = ' '.join([reverse_word_index.get(i - 3, '?') for i in\n",
        "train_data[0]])\n",
        "\n",
        "print(decoded_newswire[4:])\n",
        "\n",
        "label_index = reuters.get_label_names()\n",
        "print(label_index)\n",
        "print(label_index[train_labels[0]])\n"
      ]
    },
    {
      "cell_type": "markdown",
      "metadata": {
        "id": "6-k9F95EToCI"
      },
      "source": [
        "**Preparação dos dados**"
      ]
    },
    {
      "cell_type": "code",
      "execution_count": 4,
      "metadata": {
        "id": "h7wVXBNYTDDC"
      },
      "outputs": [],
      "source": [
        "### Encoding the data\n",
        "\n",
        "import numpy as np\n",
        "def vectorize_sequences(sequences, dimension=10000):\n",
        "  results = np.zeros((len(sequences), dimension))\n",
        "  for i, sequence in enumerate(sequences):\n",
        "    results[i, sequence] = 1.\n",
        "  return results\n",
        "x_train = vectorize_sequences(train_data)\n",
        "x_test = vectorize_sequences(test_data)"
      ]
    },
    {
      "cell_type": "markdown",
      "metadata": {
        "id": "ZFsaa17nTtmo"
      },
      "source": [
        "Para vetorizar os rótulos, existem duas possibilidades: você pode converter a lista de rótulos em um tensor de números inteiros, ou pode usar a codificação *one-hot*. A codificação *one-hot* é um formato amplamente utilizado para dados categóricos, também chamado de **codificação categórica**. Neste caso, a codificação *one-hot* dos rótulos consiste em incorporar cada rótulo como um vetor todo-zero com um 1 no local do índice do rótulo. Aqui está um exemplo:"
      ]
    },
    {
      "cell_type": "code",
      "execution_count": 5,
      "metadata": {
        "id": "FrAckQvyULRn"
      },
      "outputs": [],
      "source": [
        "def to_one_hot(labels, dimension=46):\n",
        "  results = np.zeros((len(labels), dimension))\n",
        "  for i, label in enumerate(labels):\n",
        "    results[i, label] = 1.\n",
        "  return results\n",
        "one_hot_train_labels = to_one_hot(train_labels)\n",
        "one_hot_test_labels = to_one_hot(test_labels)\n",
        "\n",
        "#there is a built-in way to do this in Keras\n",
        "from keras.utils import to_categorical\n",
        "one_hot_train_labels = to_categorical(train_labels)\n",
        "one_hot_test_labels = to_categorical(test_labels)"
      ]
    },
    {
      "cell_type": "markdown",
      "metadata": {
        "id": "JFq2062UU3lw"
      },
      "source": [
        "**Construindo a rede**\n",
        "\n",
        "Esse problema de classificação de tópicos parece semelhante ao problema anterior de classificação de resenha de filmes: em ambos os casos, você está tentando classificar trechos curtos de texto. Mas há uma nova restrição aqui: o número de classes de saída aumentou de 2 para 46. O número de dimensões do espaço de saída é muito maior.\n",
        "\n",
        "Em uma pilha de camadas `Dense` como a que estamos usando, cada camada só pode acessar informações presentes na saída da camada anterior. Se uma camada descartar algumas informações relevantes para o problema de classificação, essas informações nunca poderão ser recuperadas por camadas posteriores: cada camada pode se tornar potencialmente um gargalo de informação. No exemplo anterior, usamos camadas intermediárias de 16 dimensões, mas um espaço de 16 dimensões pode ser muito limitado para aprender a separar 46 classes diferentes: essas camadas pequenas podem atuar como gargalos de informação, descartando permanentemente informações relevantes.\n",
        "\n",
        "Por esse motivo, usaremos camadas maiores, com 64 unidades."
      ]
    },
    {
      "cell_type": "code",
      "execution_count": 6,
      "metadata": {
        "id": "IKQvaMUyVdzs"
      },
      "outputs": [
        {
          "name": "stderr",
          "output_type": "stream",
          "text": [
            "c:\\Users\\lucas\\AppData\\Local\\Programs\\Python\\Python39\\lib\\site-packages\\keras\\src\\layers\\core\\dense.py:85: UserWarning: Do not pass an `input_shape`/`input_dim` argument to a layer. When using Sequential models, prefer using an `Input(shape)` object as the first layer in the model instead.\n",
            "  super().__init__(activity_regularizer=activity_regularizer, **kwargs)\n"
          ]
        }
      ],
      "source": [
        "### Defining the model\n",
        "\n",
        "from keras import models\n",
        "from keras import layers\n",
        "model = models.Sequential()\n",
        "model.add(layers.Dense(64, activation='relu', input_shape=(10000,)))\n",
        "model.add(layers.Dense(64, activation='relu'))\n",
        "model.add(layers.Dense(46, activation='softmax'))"
      ]
    },
    {
      "cell_type": "markdown",
      "metadata": {
        "id": "gb3oi9ySVm_L"
      },
      "source": [
        "Existem mais duas coisas que se deve observar sobre esta arquitetura:\n",
        "\n",
        "- A rede encerra com uma camada `Dense` de tamanho 46. Isso significa que, para cada amostra de entrada, a rede produzirá um vetor de 46 dimensões. Cada entrada neste vetor (cada dimensão) codificará uma classe de saída diferente.\n",
        "- A última camada usa uma ativação `softmax`. Vimos esse padrão no exemplo do MNIST. Isso significa que a rede produzirá uma **distribuição de probabilidade** sobre as 46 diferentes classes de saída - para cada amostra de entrada, a rede produzirá um vetor de saída de 46 dimensões, onde `output[i]` é a probabilidade de que a amostra pertença à classe i. As 46 pontuações somarão 1.\n",
        "\n",
        "A melhor função de perda a ser usada neste caso é `categorical_crossentropy`. Ela mede a distância entre duas distribuições de probabilidade: neste caso, entre a distribuição de probabilidade produzida pela rede e a verdadeira distribuição dos rótulos. Ao minimizar a distância entre essas duas distribuições, você treina a rede para produzir algo o mais próximo possível dos verdadeiros rótulos."
      ]
    },
    {
      "cell_type": "code",
      "execution_count": 7,
      "metadata": {
        "id": "WsUSrvl9XoOm"
      },
      "outputs": [],
      "source": [
        "### Compiling the model\n",
        "\n",
        "model.compile(optimizer='rmsprop',\n",
        "loss='categorical_crossentropy',\n",
        "metrics=['accuracy'])"
      ]
    },
    {
      "cell_type": "markdown",
      "metadata": {
        "id": "s6WZvTx5XysU"
      },
      "source": [
        "**Validando a abordagem**"
      ]
    },
    {
      "cell_type": "code",
      "execution_count": 8,
      "metadata": {
        "colab": {
          "base_uri": "https://localhost:8080/"
        },
        "id": "tHGEsCl4X1qz",
        "outputId": "af438042-e841-474b-d409-a6e60932d370"
      },
      "outputs": [
        {
          "name": "stdout",
          "output_type": "stream",
          "text": [
            "Epoch 1/20\n",
            "\u001b[1m16/16\u001b[0m \u001b[32m━━━━━━━━━━━━━━━━━━━━\u001b[0m\u001b[37m\u001b[0m \u001b[1m1s\u001b[0m 15ms/step - accuracy: 0.3219 - loss: 3.2579 - val_accuracy: 0.5920 - val_loss: 1.8752\n",
            "Epoch 2/20\n",
            "\u001b[1m16/16\u001b[0m \u001b[32m━━━━━━━━━━━━━━━━━━━━\u001b[0m\u001b[37m\u001b[0m \u001b[1m0s\u001b[0m 7ms/step - accuracy: 0.6423 - loss: 1.6662 - val_accuracy: 0.6980 - val_loss: 1.3681\n",
            "Epoch 3/20\n",
            "\u001b[1m16/16\u001b[0m \u001b[32m━━━━━━━━━━━━━━━━━━━━\u001b[0m\u001b[37m\u001b[0m \u001b[1m0s\u001b[0m 7ms/step - accuracy: 0.7486 - loss: 1.2009 - val_accuracy: 0.7510 - val_loss: 1.1740\n",
            "Epoch 4/20\n",
            "\u001b[1m16/16\u001b[0m \u001b[32m━━━━━━━━━━━━━━━━━━━━\u001b[0m\u001b[37m\u001b[0m \u001b[1m0s\u001b[0m 7ms/step - accuracy: 0.7931 - loss: 0.9670 - val_accuracy: 0.7770 - val_loss: 1.0647\n",
            "Epoch 5/20\n",
            "\u001b[1m16/16\u001b[0m \u001b[32m━━━━━━━━━━━━━━━━━━━━\u001b[0m\u001b[37m\u001b[0m \u001b[1m0s\u001b[0m 7ms/step - accuracy: 0.8245 - loss: 0.8014 - val_accuracy: 0.7870 - val_loss: 0.9895\n",
            "Epoch 6/20\n",
            "\u001b[1m16/16\u001b[0m \u001b[32m━━━━━━━━━━━━━━━━━━━━\u001b[0m\u001b[37m\u001b[0m \u001b[1m0s\u001b[0m 7ms/step - accuracy: 0.8536 - loss: 0.6686 - val_accuracy: 0.7970 - val_loss: 0.9368\n",
            "Epoch 7/20\n",
            "\u001b[1m16/16\u001b[0m \u001b[32m━━━━━━━━━━━━━━━━━━━━\u001b[0m\u001b[37m\u001b[0m \u001b[1m0s\u001b[0m 6ms/step - accuracy: 0.8790 - loss: 0.5593 - val_accuracy: 0.8040 - val_loss: 0.9013\n",
            "Epoch 8/20\n",
            "\u001b[1m16/16\u001b[0m \u001b[32m━━━━━━━━━━━━━━━━━━━━\u001b[0m\u001b[37m\u001b[0m \u001b[1m0s\u001b[0m 6ms/step - accuracy: 0.8967 - loss: 0.4694 - val_accuracy: 0.8070 - val_loss: 0.8810\n",
            "Epoch 9/20\n",
            "\u001b[1m16/16\u001b[0m \u001b[32m━━━━━━━━━━━━━━━━━━━━\u001b[0m\u001b[37m\u001b[0m \u001b[1m0s\u001b[0m 7ms/step - accuracy: 0.9150 - loss: 0.3962 - val_accuracy: 0.8070 - val_loss: 0.8724\n",
            "Epoch 10/20\n",
            "\u001b[1m16/16\u001b[0m \u001b[32m━━━━━━━━━━━━━━━━━━━━\u001b[0m\u001b[37m\u001b[0m \u001b[1m0s\u001b[0m 8ms/step - accuracy: 0.9240 - loss: 0.3378 - val_accuracy: 0.8050 - val_loss: 0.8750\n",
            "Epoch 11/20\n",
            "\u001b[1m16/16\u001b[0m \u001b[32m━━━━━━━━━━━━━━━━━━━━\u001b[0m\u001b[37m\u001b[0m \u001b[1m0s\u001b[0m 6ms/step - accuracy: 0.9322 - loss: 0.2913 - val_accuracy: 0.8060 - val_loss: 0.8781\n",
            "Epoch 12/20\n",
            "\u001b[1m16/16\u001b[0m \u001b[32m━━━━━━━━━━━━━━━━━━━━\u001b[0m\u001b[37m\u001b[0m \u001b[1m0s\u001b[0m 5ms/step - accuracy: 0.9391 - loss: 0.2543 - val_accuracy: 0.8100 - val_loss: 0.8916\n",
            "Epoch 13/20\n",
            "\u001b[1m16/16\u001b[0m \u001b[32m━━━━━━━━━━━━━━━━━━━━\u001b[0m\u001b[37m\u001b[0m \u001b[1m0s\u001b[0m 6ms/step - accuracy: 0.9439 - loss: 0.2253 - val_accuracy: 0.8130 - val_loss: 0.9004\n",
            "Epoch 14/20\n",
            "\u001b[1m16/16\u001b[0m \u001b[32m━━━━━━━━━━━━━━━━━━━━\u001b[0m\u001b[37m\u001b[0m \u001b[1m0s\u001b[0m 6ms/step - accuracy: 0.9479 - loss: 0.2021 - val_accuracy: 0.8130 - val_loss: 0.9131\n",
            "Epoch 15/20\n",
            "\u001b[1m16/16\u001b[0m \u001b[32m━━━━━━━━━━━━━━━━━━━━\u001b[0m\u001b[37m\u001b[0m \u001b[1m0s\u001b[0m 6ms/step - accuracy: 0.9501 - loss: 0.1848 - val_accuracy: 0.8170 - val_loss: 0.9233\n",
            "Epoch 16/20\n",
            "\u001b[1m16/16\u001b[0m \u001b[32m━━━━━━━━━━━━━━━━━━━━\u001b[0m\u001b[37m\u001b[0m \u001b[1m0s\u001b[0m 7ms/step - accuracy: 0.9505 - loss: 0.1701 - val_accuracy: 0.8130 - val_loss: 0.9380\n",
            "Epoch 17/20\n",
            "\u001b[1m16/16\u001b[0m \u001b[32m━━━━━━━━━━━━━━━━━━━━\u001b[0m\u001b[37m\u001b[0m \u001b[1m0s\u001b[0m 7ms/step - accuracy: 0.9530 - loss: 0.1597 - val_accuracy: 0.8120 - val_loss: 0.9461\n",
            "Epoch 18/20\n",
            "\u001b[1m16/16\u001b[0m \u001b[32m━━━━━━━━━━━━━━━━━━━━\u001b[0m\u001b[37m\u001b[0m \u001b[1m0s\u001b[0m 6ms/step - accuracy: 0.9539 - loss: 0.1507 - val_accuracy: 0.8110 - val_loss: 0.9606\n",
            "Epoch 19/20\n",
            "\u001b[1m16/16\u001b[0m \u001b[32m━━━━━━━━━━━━━━━━━━━━\u001b[0m\u001b[37m\u001b[0m \u001b[1m0s\u001b[0m 6ms/step - accuracy: 0.9549 - loss: 0.1438 - val_accuracy: 0.8100 - val_loss: 0.9702\n",
            "Epoch 20/20\n",
            "\u001b[1m16/16\u001b[0m \u001b[32m━━━━━━━━━━━━━━━━━━━━\u001b[0m\u001b[37m\u001b[0m \u001b[1m0s\u001b[0m 6ms/step - accuracy: 0.9540 - loss: 0.1381 - val_accuracy: 0.8080 - val_loss: 0.9845\n"
          ]
        }
      ],
      "source": [
        "### Setting aside a validation set\n",
        "x_val = x_train[:1000]\n",
        "partial_x_train = x_train[1000:]\n",
        "y_val = one_hot_train_labels[:1000]\n",
        "partial_y_train = one_hot_train_labels[1000:]\n",
        "\n",
        "### Training the model\n",
        "history = model.fit(partial_x_train, partial_y_train,\n",
        "epochs=20, batch_size=512, validation_data=(x_val, y_val))"
      ]
    },
    {
      "cell_type": "code",
      "execution_count": 9,
      "metadata": {
        "colab": {
          "base_uri": "https://localhost:8080/",
          "height": 472
        },
        "id": "DOKuCibccHDc",
        "outputId": "5107e558-147d-4355-8ba2-a0db03409bdd"
      },
      "outputs": [
        {
          "data": {
            "image/png": "[encoded data removed]",
            "text/plain": [
              "<Figure size 640x480 with 1 Axes>"
            ]
          },
          "metadata": {},
          "output_type": "display_data"
        }
      ],
      "source": [
        "###Plotting the training and validation loss\n",
        "import matplotlib.pyplot as plt\n",
        "loss = history.history['loss']\n",
        "val_loss = history.history['val_loss']\n",
        "epochs = range(1, len(loss) + 1)\n",
        "plt.plot(epochs, loss, 'bo', label='Training loss')\n",
        "plt.plot(epochs, val_loss, 'b', label='Validation loss')\n",
        "plt.title('Training and validation loss')\n",
        "plt.xlabel('Epochs')\n",
        "plt.ylabel('Loss')\n",
        "plt.legend()\n",
        "plt.show()"
      ]
    },
    {
      "cell_type": "code",
      "execution_count": 10,
      "metadata": {
        "colab": {
          "base_uri": "https://localhost:8080/",
          "height": 489
        },
        "id": "s_NWb4B_cKR_",
        "outputId": "b88f6e82-4aff-49a5-eb89-91a58bb31ddd"
      },
      "outputs": [
        {
          "name": "stdout",
          "output_type": "stream",
          "text": [
            "dict_keys(['accuracy', 'loss', 'val_accuracy', 'val_loss'])\n"
          ]
        },
        {
          "data": {
            "image/png": "[encoded data removed]",
            "text/plain": [
              "<Figure size 640x480 with 1 Axes>"
            ]
          },
          "metadata": {},
          "output_type": "display_data"
        }
      ],
      "source": [
        "###Plotting the training and validation accuracy\n",
        "plt.clf()\n",
        "history_dict = history.history\n",
        "print(history_dict.keys())\n",
        "acc = history_dict['accuracy']\n",
        "val_acc = history_dict['val_accuracy']\n",
        "plt.plot(epochs, acc, 'bo', label='Training acc')\n",
        "plt.plot(epochs, val_acc, 'b', label='Validation acc')\n",
        "plt.title('Training and validation accuracy')\n",
        "plt.xlabel('Epochs')\n",
        "plt.ylabel('Loss')\n",
        "plt.legend()\n",
        "plt.show()"
      ]
    },
    {
      "cell_type": "markdown",
      "metadata": {
        "id": "Q8-r10Doeh7l"
      },
      "source": [
        "A rede começa a sofrer *overfitting* após nove épocas. Vamos treinar uma nova rede do zero por nove épocas e depois avaliá-la no conjunto de teste."
      ]
    },
    {
      "cell_type": "code",
      "execution_count": 11,
      "metadata": {
        "colab": {
          "base_uri": "https://localhost:8080/"
        },
        "id": "qJ1dVW3QgR2M",
        "outputId": "7066d799-7056-4c03-d86c-ea00731be731"
      },
      "outputs": [
        {
          "name": "stdout",
          "output_type": "stream",
          "text": [
            "Epoch 1/9\n"
          ]
        },
        {
          "name": "stderr",
          "output_type": "stream",
          "text": [
            "c:\\Users\\lucas\\AppData\\Local\\Programs\\Python\\Python39\\lib\\site-packages\\keras\\src\\layers\\core\\dense.py:85: UserWarning: Do not pass an `input_shape`/`input_dim` argument to a layer. When using Sequential models, prefer using an `Input(shape)` object as the first layer in the model instead.\n",
            "  super().__init__(activity_regularizer=activity_regularizer, **kwargs)\n"
          ]
        },
        {
          "name": "stdout",
          "output_type": "stream",
          "text": [
            "\u001b[1m16/16\u001b[0m \u001b[32m━━━━━━━━━━━━━━━━━━━━\u001b[0m\u001b[37m\u001b[0m \u001b[1m1s\u001b[0m 14ms/step - accuracy: 0.3949 - loss: 3.2254 - val_accuracy: 0.6350 - val_loss: 1.8264\n",
            "Epoch 2/9\n",
            "\u001b[1m16/16\u001b[0m \u001b[32m━━━━━━━━━━━━━━━━━━━━\u001b[0m\u001b[37m\u001b[0m \u001b[1m0s\u001b[0m 7ms/step - accuracy: 0.6756 - loss: 1.5964 - val_accuracy: 0.6970 - val_loss: 1.3877\n",
            "Epoch 3/9\n",
            "\u001b[1m16/16\u001b[0m \u001b[32m━━━━━━━━━━━━━━━━━━━━\u001b[0m\u001b[37m\u001b[0m \u001b[1m0s\u001b[0m 7ms/step - accuracy: 0.7330 - loss: 1.1944 - val_accuracy: 0.7360 - val_loss: 1.2085\n",
            "Epoch 4/9\n",
            "\u001b[1m16/16\u001b[0m \u001b[32m━━━━━━━━━━━━━━━━━━━━\u001b[0m\u001b[37m\u001b[0m \u001b[1m0s\u001b[0m 7ms/step - accuracy: 0.7870 - loss: 0.9756 - val_accuracy: 0.7690 - val_loss: 1.0926\n",
            "Epoch 5/9\n",
            "\u001b[1m16/16\u001b[0m \u001b[32m━━━━━━━━━━━━━━━━━━━━\u001b[0m\u001b[37m\u001b[0m \u001b[1m0s\u001b[0m 7ms/step - accuracy: 0.8237 - loss: 0.8073 - val_accuracy: 0.7950 - val_loss: 1.0110\n",
            "Epoch 6/9\n",
            "\u001b[1m16/16\u001b[0m \u001b[32m━━━━━━━━━━━━━━━━━━━━\u001b[0m\u001b[37m\u001b[0m \u001b[1m0s\u001b[0m 6ms/step - accuracy: 0.8547 - loss: 0.6691 - val_accuracy: 0.8010 - val_loss: 0.9528\n",
            "Epoch 7/9\n",
            "\u001b[1m16/16\u001b[0m \u001b[32m━━━━━━━━━━━━━━━━━━━━\u001b[0m\u001b[37m\u001b[0m \u001b[1m0s\u001b[0m 7ms/step - accuracy: 0.8822 - loss: 0.5529 - val_accuracy: 0.8120 - val_loss: 0.9113\n",
            "Epoch 8/9\n",
            "\u001b[1m16/16\u001b[0m \u001b[32m━━━━━━━━━━━━━━━━━━━━\u001b[0m\u001b[37m\u001b[0m \u001b[1m0s\u001b[0m 7ms/step - accuracy: 0.9054 - loss: 0.4574 - val_accuracy: 0.8110 - val_loss: 0.8896\n",
            "Epoch 9/9\n",
            "\u001b[1m16/16\u001b[0m \u001b[32m━━━━━━━━━━━━━━━━━━━━\u001b[0m\u001b[37m\u001b[0m \u001b[1m0s\u001b[0m 7ms/step - accuracy: 0.9201 - loss: 0.3856 - val_accuracy: 0.8040 - val_loss: 0.8891\n",
            "\u001b[1m71/71\u001b[0m \u001b[32m━━━━━━━━━━━━━━━━━━━━\u001b[0m\u001b[37m\u001b[0m \u001b[1m0s\u001b[0m 1ms/step - accuracy: 0.8027 - loss: 0.9357\n",
            "[0.9797928333282471, 0.7885128855705261]\n"
          ]
        }
      ],
      "source": [
        "### Retraining a model from scratch\n",
        "\n",
        "model = models.Sequential()\n",
        "model.add(layers.Dense(64, activation='relu', input_shape=(10000,)))\n",
        "model.add(layers.Dense(64, activation='relu'))\n",
        "model.add(layers.Dense(46, activation='softmax'))\n",
        "model.compile(optimizer='rmsprop',\n",
        "loss='categorical_crossentropy',\n",
        "metrics=['accuracy'])\n",
        "model.fit(partial_x_train,\n",
        "partial_y_train,\n",
        "epochs=9,\n",
        "batch_size=512,\n",
        "validation_data=(x_val, y_val))\n",
        "results = model.evaluate(x_test, one_hot_test_labels)\n",
        "print(results)"
      ]
    },
    {
      "cell_type": "markdown",
      "metadata": {
        "id": "6NupGevRgjLN"
      },
      "source": [
        "Essa abordagem atinge uma precisão de ~80%. Com um problema de classificação binária equilibrado, a precisão alcançada por um classificador totalmente aleatório seria de 50%. Mas, neste caso, está mais próxima de 19%, então os resultados parecem bastante bons, pelo menos quando comparados a uma abordagem aleatória."
      ]
    },
    {
      "cell_type": "code",
      "execution_count": 12,
      "metadata": {
        "colab": {
          "base_uri": "https://localhost:8080/"
        },
        "id": "Rl0zPWnDhKl5",
        "outputId": "51466836-2b41-4ebf-e234-cb874316b7ac"
      },
      "outputs": [
        {
          "data": {
            "text/plain": [
              "0.1861086375779163"
            ]
          },
          "execution_count": 12,
          "metadata": {},
          "output_type": "execute_result"
        }
      ],
      "source": [
        "import copy\n",
        "test_labels_copy = copy.copy(test_labels)\n",
        "np.random.shuffle(test_labels_copy)\n",
        "hits_array = np.array(test_labels) == np.array(test_labels_copy)\n",
        "float(np.sum(hits_array)) / len(test_labels)"
      ]
    },
    {
      "cell_type": "markdown",
      "metadata": {
        "id": "zRNnGbbmhgPv"
      },
      "source": [
        "**Usando uma rede treinada para gerar previsões a partir de novos dados**"
      ]
    },
    {
      "cell_type": "code",
      "execution_count": 13,
      "metadata": {
        "colab": {
          "base_uri": "https://localhost:8080/"
        },
        "id": "PWNiwioahkVK",
        "outputId": "b1b416f1-1bc7-48ba-ed83-aa3b72277a29"
      },
      "outputs": [
        {
          "name": "stdout",
          "output_type": "stream",
          "text": [
            "\u001b[1m71/71\u001b[0m \u001b[32m━━━━━━━━━━━━━━━━━━━━\u001b[0m\u001b[37m\u001b[0m \u001b[1m0s\u001b[0m 1ms/step  \n",
            "(46,)\n",
            "0.9999999\n",
            "3\n"
          ]
        }
      ],
      "source": [
        "predictions = model.predict(x_test)\n",
        "print(predictions[0].shape)\n",
        "print(np.sum(predictions[0]))\n",
        "print(np.argmax(predictions[0]))"
      ]
    },
    {
      "cell_type": "markdown",
      "metadata": {
        "id": "lA6YYDv0h4zy"
      },
      "source": [
        "**Uma maneira diferente de lidar com os rótulos e a função de perda**\n",
        "\n",
        "Mencionamos anteriormente que outra maneira de codificar os rótulos seria convertê-los em um tensor de inteiros, assim:"
      ]
    },
    {
      "cell_type": "code",
      "execution_count": 14,
      "metadata": {
        "id": "r6K8SNT-iItr"
      },
      "outputs": [],
      "source": [
        "y_train = np.array(train_labels)\n",
        "y_test = np.array(test_labels)"
      ]
    },
    {
      "cell_type": "markdown",
      "metadata": {
        "id": "eLgz0IEliQSq"
      },
      "source": [
        "A única coisa que mudaria nessa abordagem é a escolha da função de perda. A função de perda usada anteriormente é a `categorical_crossentropy`, a qual espera que os rótulos sigam uma codificação categórica. Com rótulos inteiros, você deve usar `sparse_categorical_crossentropy`:"
      ]
    },
    {
      "cell_type": "code",
      "execution_count": 15,
      "metadata": {
        "id": "bMEyrajniZ9a"
      },
      "outputs": [],
      "source": [
        "model.compile(optimizer='rmsprop', loss='sparse_categorical_crossentropy', metrics=['acc'])"
      ]
    },
    {
      "cell_type": "markdown",
      "metadata": {
        "id": "3t1Y_qI-ihhQ"
      },
      "source": [
        "**A importância de se ter camadas intermediárias suficientemente grandes**\n",
        "\n",
        "Mencionamos anteriormente que, devido às saídas finais serem de 46 dimensões, deve-se evitar camadas intermediárias com muito menos de 46 unidades ocultas. Agora, vamos ver o que acontece quando se introduz um gargalo de informação ao ter camadas intermediárias significativamente menores, por exemplo, com 4 dimensões."
      ]
    },
    {
      "cell_type": "code",
      "execution_count": 16,
      "metadata": {
        "colab": {
          "base_uri": "https://localhost:8080/"
        },
        "id": "MFGGVdgzi9yR",
        "outputId": "7d205921-d8a6-46f6-a6bf-06166bb594bf"
      },
      "outputs": [
        {
          "name": "stdout",
          "output_type": "stream",
          "text": [
            "Epoch 1/20\n",
            "\u001b[1m63/63\u001b[0m \u001b[32m━━━━━━━━━━━━━━━━━━━━\u001b[0m\u001b[37m\u001b[0m \u001b[1m1s\u001b[0m 5ms/step - accuracy: 0.0644 - loss: 3.5448 - val_accuracy: 0.2920 - val_loss: 2.8368\n",
            "Epoch 2/20\n",
            "\u001b[1m63/63\u001b[0m \u001b[32m━━━━━━━━━━━━━━━━━━━━\u001b[0m\u001b[37m\u001b[0m \u001b[1m0s\u001b[0m 4ms/step - accuracy: 0.3016 - loss: 2.5915 - val_accuracy: 0.3030 - val_loss: 2.1318\n",
            "Epoch 3/20\n",
            "\u001b[1m63/63\u001b[0m \u001b[32m━━━━━━━━━━━━━━━━━━━━\u001b[0m\u001b[37m\u001b[0m \u001b[1m0s\u001b[0m 3ms/step - accuracy: 0.3951 - loss: 1.8432 - val_accuracy: 0.6330 - val_loss: 1.5842\n",
            "Epoch 4/20\n",
            "\u001b[1m63/63\u001b[0m \u001b[32m━━━━━━━━━━━━━━━━━━━━\u001b[0m\u001b[37m\u001b[0m \u001b[1m0s\u001b[0m 3ms/step - accuracy: 0.6572 - loss: 1.3625 - val_accuracy: 0.6510 - val_loss: 1.4843\n",
            "Epoch 5/20\n",
            "\u001b[1m63/63\u001b[0m \u001b[32m━━━━━━━━━━━━━━━━━━━━\u001b[0m\u001b[37m\u001b[0m \u001b[1m0s\u001b[0m 3ms/step - accuracy: 0.6791 - loss: 1.2257 - val_accuracy: 0.6560 - val_loss: 1.4623\n",
            "Epoch 6/20\n",
            "\u001b[1m63/63\u001b[0m \u001b[32m━━━━━━━━━━━━━━━━━━━━\u001b[0m\u001b[37m\u001b[0m \u001b[1m0s\u001b[0m 3ms/step - accuracy: 0.6978 - loss: 1.1492 - val_accuracy: 0.6570 - val_loss: 1.4573\n",
            "Epoch 7/20\n",
            "\u001b[1m63/63\u001b[0m \u001b[32m━━━━━━━━━━━━━━━━━━━━\u001b[0m\u001b[37m\u001b[0m \u001b[1m0s\u001b[0m 3ms/step - accuracy: 0.7131 - loss: 1.0863 - val_accuracy: 0.6620 - val_loss: 1.4603\n",
            "Epoch 8/20\n",
            "\u001b[1m63/63\u001b[0m \u001b[32m━━━━━━━━━━━━━━━━━━━━\u001b[0m\u001b[37m\u001b[0m \u001b[1m0s\u001b[0m 3ms/step - accuracy: 0.7303 - loss: 1.0305 - val_accuracy: 0.6660 - val_loss: 1.4684\n",
            "Epoch 9/20\n",
            "\u001b[1m63/63\u001b[0m \u001b[32m━━━━━━━━━━━━━━━━━━━━\u001b[0m\u001b[37m\u001b[0m \u001b[1m0s\u001b[0m 3ms/step - accuracy: 0.7472 - loss: 0.9800 - val_accuracy: 0.6640 - val_loss: 1.4812\n",
            "Epoch 10/20\n",
            "\u001b[1m63/63\u001b[0m \u001b[32m━━━━━━━━━━━━━━━━━━━━\u001b[0m\u001b[37m\u001b[0m \u001b[1m0s\u001b[0m 3ms/step - accuracy: 0.7542 - loss: 0.9335 - val_accuracy: 0.6600 - val_loss: 1.4793\n",
            "Epoch 11/20\n",
            "\u001b[1m63/63\u001b[0m \u001b[32m━━━━━━━━━━━━━━━━━━━━\u001b[0m\u001b[37m\u001b[0m \u001b[1m0s\u001b[0m 3ms/step - accuracy: 0.7621 - loss: 0.8906 - val_accuracy: 0.6640 - val_loss: 1.5128\n",
            "Epoch 12/20\n",
            "\u001b[1m63/63\u001b[0m \u001b[32m━━━━━━━━━━━━━━━━━━━━\u001b[0m\u001b[37m\u001b[0m \u001b[1m0s\u001b[0m 3ms/step - accuracy: 0.7726 - loss: 0.8528 - val_accuracy: 0.6590 - val_loss: 1.5317\n",
            "Epoch 13/20\n",
            "\u001b[1m63/63\u001b[0m \u001b[32m━━━━━━━━━━━━━━━━━━━━\u001b[0m\u001b[37m\u001b[0m \u001b[1m0s\u001b[0m 3ms/step - accuracy: 0.7775 - loss: 0.8180 - val_accuracy: 0.6670 - val_loss: 1.5526\n",
            "Epoch 14/20\n",
            "\u001b[1m63/63\u001b[0m \u001b[32m━━━━━━━━━━━━━━━━━━━━\u001b[0m\u001b[37m\u001b[0m \u001b[1m0s\u001b[0m 4ms/step - accuracy: 0.7835 - loss: 0.7871 - val_accuracy: 0.6700 - val_loss: 1.5738\n",
            "Epoch 15/20\n",
            "\u001b[1m63/63\u001b[0m \u001b[32m━━━━━━━━━━━━━━━━━━━━\u001b[0m\u001b[37m\u001b[0m \u001b[1m0s\u001b[0m 3ms/step - accuracy: 0.7928 - loss: 0.7600 - val_accuracy: 0.6700 - val_loss: 1.6145\n",
            "Epoch 16/20\n",
            "\u001b[1m63/63\u001b[0m \u001b[32m━━━━━━━━━━━━━━━━━━━━\u001b[0m\u001b[37m\u001b[0m \u001b[1m0s\u001b[0m 3ms/step - accuracy: 0.7948 - loss: 0.7367 - val_accuracy: 0.6680 - val_loss: 1.6546\n",
            "Epoch 17/20\n",
            "\u001b[1m63/63\u001b[0m \u001b[32m━━━━━━━━━━━━━━━━━━━━\u001b[0m\u001b[37m\u001b[0m \u001b[1m0s\u001b[0m 3ms/step - accuracy: 0.7954 - loss: 0.7150 - val_accuracy: 0.6680 - val_loss: 1.6857\n",
            "Epoch 18/20\n",
            "\u001b[1m63/63\u001b[0m \u001b[32m━━━━━━━━━━━━━━━━━━━━\u001b[0m\u001b[37m\u001b[0m \u001b[1m0s\u001b[0m 3ms/step - accuracy: 0.7968 - loss: 0.6982 - val_accuracy: 0.6670 - val_loss: 1.7293\n",
            "Epoch 19/20\n",
            "\u001b[1m63/63\u001b[0m \u001b[32m━━━━━━━━━━━━━━━━━━━━\u001b[0m\u001b[37m\u001b[0m \u001b[1m0s\u001b[0m 4ms/step - accuracy: 0.7981 - loss: 0.6795 - val_accuracy: 0.6660 - val_loss: 1.7591\n",
            "Epoch 20/20\n",
            "\u001b[1m63/63\u001b[0m \u001b[32m━━━━━━━━━━━━━━━━━━━━\u001b[0m\u001b[37m\u001b[0m \u001b[1m0s\u001b[0m 3ms/step - accuracy: 0.8001 - loss: 0.6673 - val_accuracy: 0.6660 - val_loss: 1.8057\n"
          ]
        },
        {
          "data": {
            "text/plain": [
              "<keras.src.callbacks.history.History at 0x1fa95a76e50>"
            ]
          },
          "execution_count": 16,
          "metadata": {},
          "output_type": "execute_result"
        }
      ],
      "source": [
        "### A model with an information bottleneck\n",
        "\n",
        "model = models.Sequential()\n",
        "model.add(layers.Dense(64, activation='relu', input_shape=(10000,)))\n",
        "model.add(layers.Dense(4, activation='relu'))\n",
        "model.add(layers.Dense(46, activation='softmax'))\n",
        "model.compile(optimizer='rmsprop',\n",
        "loss='categorical_crossentropy',\n",
        "metrics=['accuracy'])\n",
        "model.fit(partial_x_train,\n",
        "partial_y_train,\n",
        "epochs=20,\n",
        "batch_size=128,\n",
        "validation_data=(x_val, y_val))"
      ]
    },
    {
      "cell_type": "markdown",
      "metadata": {
        "id": "4Us0uBMhjSUv"
      },
      "source": [
        "A rede atinge agora cerca de 71% de precisão na validação, uma queda absoluta de 8%. Essa queda se deve principalmente ao fato de que você está tentando comprimir muitas informações (informações suficientes para recuperar os hiperplanos de separação de 46 classes) em um espaço intermediário que tem dimensões muito reduzidas. A rede consegue condensar a maioria das informações necessárias nessas representações de 4 dimensões, mas não todas."
      ]
    },
    {
      "cell_type": "markdown",
      "metadata": {},
      "source": [
        "## Exercícios\n",
        "\n",
        "### 1. Use camadas maiores ou menores: 32 unidades, 128 unidades, e assim por diante."
      ]
    },
    {
      "cell_type": "code",
      "execution_count": 17,
      "metadata": {},
      "outputs": [],
      "source": [
        "def create_model(architecture, early_stopping_patience=3):\n",
        "    \"\"\"Creates a model from a given architecture and fits it to the training data\"\"\"\n",
        "    set_random_seed(0)\n",
        "    np.random.seed(0)\n",
        "    model = models.Sequential()\n",
        "        \n",
        "    for i, layer in enumerate(architecture['layers']):\n",
        "        if i == 0:\n",
        "            model.add(layers.Dense(**layer))\n",
        "        else:\n",
        "            model.add(layers.Dense(**layer))\n",
        "\n",
        "    model.compile(optimizer=architecture['optimizer'],\n",
        "                    loss=architecture['loss'],\n",
        "                    metrics=architecture['metrics'])\n",
        "    \n",
        "    return model"
      ]
    },
    {
      "cell_type": "code",
      "execution_count": 18,
      "metadata": {},
      "outputs": [],
      "source": [
        "def fit_model(model, x_train, y_train, x_val, y_val, epochs=20, batch_size=512, early_stopping_patience=3):\n",
        "    set_random_seed(0)\n",
        "    np.random.seed(0)\n",
        "    early_stopping = [EarlyStopping(monitor='val_loss', patience=early_stopping_patience)]\n",
        "    \n",
        "    return model.fit(x_train, y_train, epochs=epochs, batch_size=batch_size,\n",
        "                    validation_data=(x_val, y_val), callbacks=early_stopping)"
      ]
    },
    {
      "cell_type": "markdown",
      "metadata": {},
      "source": [
        "Primeiramente, vamos testar uma arquitetura com 32 unidades"
      ]
    },
    {
      "cell_type": "code",
      "execution_count": 19,
      "metadata": {},
      "outputs": [],
      "source": [
        "# Testando arquitetura com 32 unidades\n",
        "architecture_32u = {\n",
        "    'layers': [\n",
        "        {'units': 32, 'activation': 'relu', 'input_shape': (10000,)},\n",
        "        {'units': 32, 'activation': 'relu'},\n",
        "        {'units': 46, 'activation': 'softmax'}\n",
        "    ],\n",
        "    'loss': 'categorical_crossentropy',\n",
        "    'optimizer': 'rmsprop',\n",
        "    'metrics': ['accuracy']\n",
        "}"
      ]
    },
    {
      "cell_type": "code",
      "execution_count": 20,
      "metadata": {},
      "outputs": [],
      "source": [
        "model_32u = create_model(architecture_32u)"
      ]
    },
    {
      "cell_type": "code",
      "execution_count": 21,
      "metadata": {},
      "outputs": [
        {
          "name": "stdout",
          "output_type": "stream",
          "text": [
            "Epoch 1/100\n",
            "\u001b[1m16/16\u001b[0m \u001b[32m━━━━━━━━━━━━━━━━━━━━\u001b[0m\u001b[37m\u001b[0m \u001b[1m1s\u001b[0m 13ms/step - accuracy: 0.3036 - loss: 3.4575 - val_accuracy: 0.5740 - val_loss: 2.4206\n",
            "Epoch 2/100\n",
            "\u001b[1m16/16\u001b[0m \u001b[32m━━━━━━━━━━━━━━━━━━━━\u001b[0m\u001b[37m\u001b[0m \u001b[1m0s\u001b[0m 6ms/step - accuracy: 0.5974 - loss: 2.1619 - val_accuracy: 0.6430 - val_loss: 1.7257\n",
            "Epoch 3/100\n",
            "\u001b[1m16/16\u001b[0m \u001b[32m━━━━━━━━━━━━━━━━━━━━\u001b[0m\u001b[37m\u001b[0m \u001b[1m0s\u001b[0m 6ms/step - accuracy: 0.6845 - loss: 1.5514 - val_accuracy: 0.6910 - val_loss: 1.4316\n",
            "Epoch 4/100\n",
            "\u001b[1m16/16\u001b[0m \u001b[32m━━━━━━━━━━━━━━━━━━━━\u001b[0m\u001b[37m\u001b[0m \u001b[1m0s\u001b[0m 5ms/step - accuracy: 0.7370 - loss: 1.2554 - val_accuracy: 0.7220 - val_loss: 1.2737\n",
            "Epoch 5/100\n",
            "\u001b[1m16/16\u001b[0m \u001b[32m━━━━━━━━━━━━━━━━━━━━\u001b[0m\u001b[37m\u001b[0m \u001b[1m0s\u001b[0m 5ms/step - accuracy: 0.7735 - loss: 1.0727 - val_accuracy: 0.7490 - val_loss: 1.1745\n",
            "Epoch 6/100\n",
            "\u001b[1m16/16\u001b[0m \u001b[32m━━━━━━━━━━━━━━━━━━━━\u001b[0m\u001b[37m\u001b[0m \u001b[1m0s\u001b[0m 6ms/step - accuracy: 0.8021 - loss: 0.9389 - val_accuracy: 0.7620 - val_loss: 1.1026\n",
            "Epoch 7/100\n",
            "\u001b[1m16/16\u001b[0m \u001b[32m━━━━━━━━━━━━━━━━━━━━\u001b[0m\u001b[37m\u001b[0m \u001b[1m0s\u001b[0m 6ms/step - accuracy: 0.8237 - loss: 0.8290 - val_accuracy: 0.7710 - val_loss: 1.0463\n",
            "Epoch 8/100\n",
            "\u001b[1m16/16\u001b[0m \u001b[32m━━━━━━━━━━━━━━━━━━━━\u001b[0m\u001b[37m\u001b[0m \u001b[1m0s\u001b[0m 6ms/step - accuracy: 0.8419 - loss: 0.7350 - val_accuracy: 0.7870 - val_loss: 1.0035\n",
            "Epoch 9/100\n",
            "\u001b[1m16/16\u001b[0m \u001b[32m━━━━━━━━━━━━━━━━━━━━\u001b[0m\u001b[37m\u001b[0m \u001b[1m0s\u001b[0m 5ms/step - accuracy: 0.8591 - loss: 0.6526 - val_accuracy: 0.7940 - val_loss: 0.9705\n",
            "Epoch 10/100\n",
            "\u001b[1m16/16\u001b[0m \u001b[32m━━━━━━━━━━━━━━━━━━━━\u001b[0m\u001b[37m\u001b[0m \u001b[1m0s\u001b[0m 5ms/step - accuracy: 0.8742 - loss: 0.5785 - val_accuracy: 0.8030 - val_loss: 0.9437\n",
            "Epoch 11/100\n",
            "\u001b[1m16/16\u001b[0m \u001b[32m━━━━━━━━━━━━━━━━━━━━\u001b[0m\u001b[37m\u001b[0m \u001b[1m0s\u001b[0m 6ms/step - accuracy: 0.8893 - loss: 0.5123 - val_accuracy: 0.8100 - val_loss: 0.9273\n",
            "Epoch 12/100\n",
            "\u001b[1m16/16\u001b[0m \u001b[32m━━━━━━━━━━━━━━━━━━━━\u001b[0m\u001b[37m\u001b[0m \u001b[1m0s\u001b[0m 5ms/step - accuracy: 0.9027 - loss: 0.4545 - val_accuracy: 0.8080 - val_loss: 0.9150\n",
            "Epoch 13/100\n",
            "\u001b[1m16/16\u001b[0m \u001b[32m━━━━━━━━━━━━━━━━━━━━\u001b[0m\u001b[37m\u001b[0m \u001b[1m0s\u001b[0m 5ms/step - accuracy: 0.9131 - loss: 0.4045 - val_accuracy: 0.8070 - val_loss: 0.9102\n",
            "Epoch 14/100\n",
            "\u001b[1m16/16\u001b[0m \u001b[32m━━━━━━━━━━━━━━━━━━━━\u001b[0m\u001b[37m\u001b[0m \u001b[1m0s\u001b[0m 5ms/step - accuracy: 0.9196 - loss: 0.3613 - val_accuracy: 0.8080 - val_loss: 0.9076\n",
            "Epoch 15/100\n",
            "\u001b[1m16/16\u001b[0m \u001b[32m━━━━━━━━━━━━━━━━━━━━\u001b[0m\u001b[37m\u001b[0m \u001b[1m0s\u001b[0m 6ms/step - accuracy: 0.9293 - loss: 0.3243 - val_accuracy: 0.8070 - val_loss: 0.9114\n",
            "Epoch 16/100\n",
            "\u001b[1m16/16\u001b[0m \u001b[32m━━━━━━━━━━━━━━━━━━━━\u001b[0m\u001b[37m\u001b[0m \u001b[1m0s\u001b[0m 6ms/step - accuracy: 0.9343 - loss: 0.2928 - val_accuracy: 0.8040 - val_loss: 0.9142\n",
            "Epoch 17/100\n",
            "\u001b[1m16/16\u001b[0m \u001b[32m━━━━━━━━━━━━━━━━━━━━\u001b[0m\u001b[37m\u001b[0m \u001b[1m0s\u001b[0m 6ms/step - accuracy: 0.9365 - loss: 0.2655 - val_accuracy: 0.8020 - val_loss: 0.9228\n"
          ]
        }
      ],
      "source": [
        "# Fit model with one layer\n",
        "history_32u = fit_model(model_32u, partial_x_train, partial_y_train, x_val, y_val, epochs=100)"
      ]
    },
    {
      "cell_type": "code",
      "execution_count": 22,
      "metadata": {},
      "outputs": [
        {
          "name": "stdout",
          "output_type": "stream",
          "text": [
            "\u001b[1m71/71\u001b[0m \u001b[32m━━━━━━━━━━━━━━━━━━━━\u001b[0m\u001b[37m\u001b[0m \u001b[1m0s\u001b[0m 826us/step - accuracy: 0.7894 - loss: 1.0210\n"
          ]
        },
        {
          "data": {
            "text/plain": [
              "[1.0492380857467651, 0.7782725095748901]"
            ]
          },
          "execution_count": 22,
          "metadata": {},
          "output_type": "execute_result"
        }
      ],
      "source": [
        "# Evaluate model: test loss and accuracy\n",
        "model_32u.evaluate(x_test, one_hot_test_labels)"
      ]
    },
    {
      "cell_type": "markdown",
      "metadata": {},
      "source": [
        "Testando arquitetura com 128 unidades"
      ]
    },
    {
      "cell_type": "code",
      "execution_count": 23,
      "metadata": {},
      "outputs": [],
      "source": [
        "# Testando arquitetura com 128 unidades\n",
        "architecture_128u = {\n",
        "    'layers': [\n",
        "        {'units': 128, 'activation': 'relu', 'input_shape': (10000,)},\n",
        "        {'units': 128, 'activation': 'relu'},\n",
        "        {'units': 46, 'activation': 'softmax'}\n",
        "    ],\n",
        "    'loss': 'categorical_crossentropy',\n",
        "    'optimizer': 'rmsprop',\n",
        "    'metrics': ['accuracy']\n",
        "}"
      ]
    },
    {
      "cell_type": "code",
      "execution_count": 24,
      "metadata": {},
      "outputs": [],
      "source": [
        "model_128u = create_model(architecture_128u)"
      ]
    },
    {
      "cell_type": "code",
      "execution_count": 25,
      "metadata": {},
      "outputs": [
        {
          "name": "stdout",
          "output_type": "stream",
          "text": [
            "Epoch 1/100\n",
            "\u001b[1m16/16\u001b[0m \u001b[32m━━━━━━━━━━━━━━━━━━━━\u001b[0m\u001b[37m\u001b[0m \u001b[1m1s\u001b[0m 25ms/step - accuracy: 0.4202 - loss: 2.8577 - val_accuracy: 0.6660 - val_loss: 1.4976\n",
            "Epoch 2/100\n",
            "\u001b[1m16/16\u001b[0m \u001b[32m━━━━━━━━━━━━━━━━━━━━\u001b[0m\u001b[37m\u001b[0m \u001b[1m0s\u001b[0m 10ms/step - accuracy: 0.7052 - loss: 1.3336 - val_accuracy: 0.7530 - val_loss: 1.1852\n",
            "Epoch 3/100\n",
            "\u001b[1m16/16\u001b[0m \u001b[32m━━━━━━━━━━━━━━━━━━━━\u001b[0m\u001b[37m\u001b[0m \u001b[1m0s\u001b[0m 10ms/step - accuracy: 0.7833 - loss: 0.9896 - val_accuracy: 0.7930 - val_loss: 1.0306\n",
            "Epoch 4/100\n",
            "\u001b[1m16/16\u001b[0m \u001b[32m━━━━━━━━━━━━━━━━━━━━\u001b[0m\u001b[37m\u001b[0m \u001b[1m0s\u001b[0m 9ms/step - accuracy: 0.8307 - loss: 0.7667 - val_accuracy: 0.8040 - val_loss: 0.9349\n",
            "Epoch 5/100\n",
            "\u001b[1m16/16\u001b[0m \u001b[32m━━━━━━━━━━━━━━━━━━━━\u001b[0m\u001b[37m\u001b[0m \u001b[1m0s\u001b[0m 9ms/step - accuracy: 0.8680 - loss: 0.6052 - val_accuracy: 0.8160 - val_loss: 0.8809\n",
            "Epoch 6/100\n",
            "\u001b[1m16/16\u001b[0m \u001b[32m━━━━━━━━━━━━━━━━━━━━\u001b[0m\u001b[37m\u001b[0m \u001b[1m0s\u001b[0m 9ms/step - accuracy: 0.8975 - loss: 0.4747 - val_accuracy: 0.8190 - val_loss: 0.8512\n",
            "Epoch 7/100\n",
            "\u001b[1m16/16\u001b[0m \u001b[32m━━━━━━━━━━━━━━━━━━━━\u001b[0m\u001b[37m\u001b[0m \u001b[1m0s\u001b[0m 10ms/step - accuracy: 0.9217 - loss: 0.3669 - val_accuracy: 0.8230 - val_loss: 0.8490\n",
            "Epoch 8/100\n",
            "\u001b[1m16/16\u001b[0m \u001b[32m━━━━━━━━━━━━━━━━━━━━\u001b[0m\u001b[37m\u001b[0m \u001b[1m0s\u001b[0m 9ms/step - accuracy: 0.9305 - loss: 0.3038 - val_accuracy: 0.8200 - val_loss: 0.8543\n",
            "Epoch 9/100\n",
            "\u001b[1m16/16\u001b[0m \u001b[32m━━━━━━━━━━━━━━━━━━━━\u001b[0m\u001b[37m\u001b[0m \u001b[1m0s\u001b[0m 9ms/step - accuracy: 0.9409 - loss: 0.2509 - val_accuracy: 0.8240 - val_loss: 0.8605\n",
            "Epoch 10/100\n",
            "\u001b[1m16/16\u001b[0m \u001b[32m━━━━━━━━━━━━━━━━━━━━\u001b[0m\u001b[37m\u001b[0m \u001b[1m0s\u001b[0m 8ms/step - accuracy: 0.9452 - loss: 0.2126 - val_accuracy: 0.8220 - val_loss: 0.8795\n"
          ]
        }
      ],
      "source": [
        "# Fit model with one layer\n",
        "history_128u = fit_model(model_128u, partial_x_train, partial_y_train, x_val, y_val, epochs=100)"
      ]
    },
    {
      "cell_type": "code",
      "execution_count": 26,
      "metadata": {},
      "outputs": [
        {
          "name": "stdout",
          "output_type": "stream",
          "text": [
            "\u001b[1m71/71\u001b[0m \u001b[32m━━━━━━━━━━━━━━━━━━━━\u001b[0m\u001b[37m\u001b[0m \u001b[1m0s\u001b[0m 1ms/step - accuracy: 0.8129 - loss: 0.9431\n"
          ]
        },
        {
          "data": {
            "text/plain": [
              "[0.9782649278640747, 0.799198567867279]"
            ]
          },
          "execution_count": 26,
          "metadata": {},
          "output_type": "execute_result"
        }
      ],
      "source": [
        "# Evaluate model: test loss and accuracy\n",
        "model_128u.evaluate(x_test, one_hot_test_labels)"
      ]
    },
    {
      "cell_type": "markdown",
      "metadata": {},
      "source": [
        "Testando arquitetura com 256 unidades"
      ]
    },
    {
      "cell_type": "code",
      "execution_count": 27,
      "metadata": {},
      "outputs": [],
      "source": [
        "architecture_256u = {\n",
        "    'layers': [\n",
        "        {'units': 256, 'activation': 'relu', 'input_shape': (10000,)},\n",
        "        {'units': 256, 'activation': 'relu'},\n",
        "        {'units': 46, 'activation': 'softmax'}\n",
        "    ],\n",
        "    'loss': 'categorical_crossentropy',\n",
        "    'optimizer': 'rmsprop',\n",
        "    'metrics': ['accuracy']\n",
        "}"
      ]
    },
    {
      "cell_type": "code",
      "execution_count": 28,
      "metadata": {},
      "outputs": [],
      "source": [
        "model_256u = create_model(architecture_256u)"
      ]
    },
    {
      "cell_type": "code",
      "execution_count": 29,
      "metadata": {},
      "outputs": [
        {
          "name": "stdout",
          "output_type": "stream",
          "text": [
            "Epoch 1/100\n",
            "\u001b[1m16/16\u001b[0m \u001b[32m━━━━━━━━━━━━━━━━━━━━\u001b[0m\u001b[37m\u001b[0m \u001b[1m1s\u001b[0m 24ms/step - accuracy: 0.4220 - loss: 2.6867 - val_accuracy: 0.6940 - val_loss: 1.3669\n",
            "Epoch 2/100\n",
            "\u001b[1m16/16\u001b[0m \u001b[32m━━━━━━━━━━━━━━━━━━━━\u001b[0m\u001b[37m\u001b[0m \u001b[1m0s\u001b[0m 16ms/step - accuracy: 0.7321 - loss: 1.1972 - val_accuracy: 0.7640 - val_loss: 1.0849\n",
            "Epoch 3/100\n",
            "\u001b[1m16/16\u001b[0m \u001b[32m━━━━━━━━━━━━━━━━━━━━\u001b[0m\u001b[37m\u001b[0m \u001b[1m0s\u001b[0m 16ms/step - accuracy: 0.8065 - loss: 0.8580 - val_accuracy: 0.7900 - val_loss: 0.9493\n",
            "Epoch 4/100\n",
            "\u001b[1m16/16\u001b[0m \u001b[32m━━━━━━━━━━━━━━━━━━━━\u001b[0m\u001b[37m\u001b[0m \u001b[1m0s\u001b[0m 15ms/step - accuracy: 0.8525 - loss: 0.6402 - val_accuracy: 0.8160 - val_loss: 0.8691\n",
            "Epoch 5/100\n",
            "\u001b[1m16/16\u001b[0m \u001b[32m━━━━━━━━━━━━━━━━━━━━\u001b[0m\u001b[37m\u001b[0m \u001b[1m0s\u001b[0m 16ms/step - accuracy: 0.8926 - loss: 0.4844 - val_accuracy: 0.8090 - val_loss: 0.8419\n",
            "Epoch 6/100\n",
            "\u001b[1m16/16\u001b[0m \u001b[32m━━━━━━━━━━━━━━━━━━━━\u001b[0m\u001b[37m\u001b[0m \u001b[1m0s\u001b[0m 15ms/step - accuracy: 0.9141 - loss: 0.3710 - val_accuracy: 0.8190 - val_loss: 0.8374\n",
            "Epoch 7/100\n",
            "\u001b[1m16/16\u001b[0m \u001b[32m━━━━━━━━━━━━━━━━━━━━\u001b[0m\u001b[37m\u001b[0m \u001b[1m0s\u001b[0m 16ms/step - accuracy: 0.9352 - loss: 0.2709 - val_accuracy: 0.8190 - val_loss: 0.8554\n",
            "Epoch 8/100\n",
            "\u001b[1m16/16\u001b[0m \u001b[32m━━━━━━━━━━━━━━━━━━━━\u001b[0m\u001b[37m\u001b[0m \u001b[1m0s\u001b[0m 15ms/step - accuracy: 0.9417 - loss: 0.2295 - val_accuracy: 0.8280 - val_loss: 0.8402\n",
            "Epoch 9/100\n",
            "\u001b[1m16/16\u001b[0m \u001b[32m━━━━━━━━━━━━━━━━━━━━\u001b[0m\u001b[37m\u001b[0m \u001b[1m0s\u001b[0m 15ms/step - accuracy: 0.9475 - loss: 0.1873 - val_accuracy: 0.8230 - val_loss: 0.8743\n"
          ]
        }
      ],
      "source": [
        "history_256u = fit_model(model_256u, partial_x_train, partial_y_train, x_val, y_val, epochs=100)"
      ]
    },
    {
      "cell_type": "code",
      "execution_count": 30,
      "metadata": {},
      "outputs": [
        {
          "name": "stdout",
          "output_type": "stream",
          "text": [
            "\u001b[1m71/71\u001b[0m \u001b[32m━━━━━━━━━━━━━━━━━━━━\u001b[0m\u001b[37m\u001b[0m \u001b[1m0s\u001b[0m 2ms/step - accuracy: 0.8136 - loss: 0.9383\n"
          ]
        },
        {
          "data": {
            "text/plain": [
              "[0.9694114923477173, 0.8036509156227112]"
            ]
          },
          "execution_count": 30,
          "metadata": {},
          "output_type": "execute_result"
        }
      ],
      "source": [
        "# Evaluate model: test loss and accuracy\n",
        "model_256u.evaluate(x_test, one_hot_test_labels)"
      ]
    },
    {
      "cell_type": "markdown",
      "metadata": {},
      "source": [
        "Testando arquitetura com 512 unidades"
      ]
    },
    {
      "cell_type": "code",
      "execution_count": 31,
      "metadata": {},
      "outputs": [],
      "source": [
        "architecture_512u = {\n",
        "    'layers': [\n",
        "        {'units': 512, 'activation': 'relu', 'input_shape': (10000,)},\n",
        "        {'units': 512, 'activation': 'relu'},\n",
        "        {'units': 46, 'activation': 'softmax'}\n",
        "    ],\n",
        "    'loss': 'categorical_crossentropy',\n",
        "    'optimizer': 'rmsprop',\n",
        "    'metrics': ['accuracy']\n",
        "}"
      ]
    },
    {
      "cell_type": "code",
      "execution_count": 32,
      "metadata": {},
      "outputs": [],
      "source": [
        "model_512u = create_model(architecture_512u)"
      ]
    },
    {
      "cell_type": "code",
      "execution_count": 33,
      "metadata": {},
      "outputs": [
        {
          "name": "stdout",
          "output_type": "stream",
          "text": [
            "Epoch 1/100\n",
            "\u001b[1m16/16\u001b[0m \u001b[32m━━━━━━━━━━━━━━━━━━━━\u001b[0m\u001b[37m\u001b[0m \u001b[1m1s\u001b[0m 36ms/step - accuracy: 0.4273 - loss: 2.5615 - val_accuracy: 0.7030 - val_loss: 1.2896\n",
            "Epoch 2/100\n",
            "\u001b[1m16/16\u001b[0m \u001b[32m━━━━━━━━━━━━━━━━━━━━\u001b[0m\u001b[37m\u001b[0m \u001b[1m0s\u001b[0m 27ms/step - accuracy: 0.7444 - loss: 1.1284 - val_accuracy: 0.7780 - val_loss: 1.0263\n",
            "Epoch 3/100\n",
            "\u001b[1m16/16\u001b[0m \u001b[32m━━━━━━━━━━━━━━━━━━━━\u001b[0m\u001b[37m\u001b[0m \u001b[1m0s\u001b[0m 26ms/step - accuracy: 0.8171 - loss: 0.7827 - val_accuracy: 0.8110 - val_loss: 0.8832\n",
            "Epoch 4/100\n",
            "\u001b[1m16/16\u001b[0m \u001b[32m━━━━━━━━━━━━━━━━━━━━\u001b[0m\u001b[37m\u001b[0m \u001b[1m0s\u001b[0m 26ms/step - accuracy: 0.8606 - loss: 0.5919 - val_accuracy: 0.8210 - val_loss: 0.8244\n",
            "Epoch 5/100\n",
            "\u001b[1m16/16\u001b[0m \u001b[32m━━━━━━━━━━━━━━━━━━━━\u001b[0m\u001b[37m\u001b[0m \u001b[1m0s\u001b[0m 26ms/step - accuracy: 0.9055 - loss: 0.4057 - val_accuracy: 0.8150 - val_loss: 0.8367\n",
            "Epoch 6/100\n",
            "\u001b[1m16/16\u001b[0m \u001b[32m━━━━━━━━━━━━━━━━━━━━\u001b[0m\u001b[37m\u001b[0m \u001b[1m0s\u001b[0m 27ms/step - accuracy: 0.9299 - loss: 0.2936 - val_accuracy: 0.8300 - val_loss: 0.8125\n",
            "Epoch 7/100\n",
            "\u001b[1m16/16\u001b[0m \u001b[32m━━━━━━━━━━━━━━━━━━━━\u001b[0m\u001b[37m\u001b[0m \u001b[1m0s\u001b[0m 26ms/step - accuracy: 0.9418 - loss: 0.2299 - val_accuracy: 0.8200 - val_loss: 0.8264\n",
            "Epoch 8/100\n",
            "\u001b[1m16/16\u001b[0m \u001b[32m━━━━━━━━━━━━━━━━━━━━\u001b[0m\u001b[37m\u001b[0m \u001b[1m0s\u001b[0m 26ms/step - accuracy: 0.9474 - loss: 0.1878 - val_accuracy: 0.8230 - val_loss: 0.8355\n",
            "Epoch 9/100\n",
            "\u001b[1m16/16\u001b[0m \u001b[32m━━━━━━━━━━━━━━━━━━━━\u001b[0m\u001b[37m\u001b[0m \u001b[1m0s\u001b[0m 26ms/step - accuracy: 0.9515 - loss: 0.1641 - val_accuracy: 0.8190 - val_loss: 0.8685\n"
          ]
        }
      ],
      "source": [
        "history_512u = fit_model(model_512u, partial_x_train, partial_y_train, x_val, y_val, epochs=100)"
      ]
    },
    {
      "cell_type": "code",
      "execution_count": 34,
      "metadata": {},
      "outputs": [
        {
          "name": "stdout",
          "output_type": "stream",
          "text": [
            "\u001b[1m71/71\u001b[0m \u001b[32m━━━━━━━━━━━━━━━━━━━━\u001b[0m\u001b[37m\u001b[0m \u001b[1m0s\u001b[0m 3ms/step - accuracy: 0.8130 - loss: 0.9546\n"
          ]
        },
        {
          "data": {
            "text/plain": [
              "[0.9942951202392578, 0.8027604818344116]"
            ]
          },
          "execution_count": 34,
          "metadata": {},
          "output_type": "execute_result"
        }
      ],
      "source": [
        "# Evaluate model: test loss and accuracy\n",
        "model_512u.evaluate(x_test, one_hot_test_labels)"
      ]
    },
    {
      "cell_type": "code",
      "execution_count": 35,
      "metadata": {},
      "outputs": [],
      "source": [
        "def plot_bar_stats_chart(models: list, labels: list, x_test, y_test, title: str='Comparação de modelos',\n",
        "                         precision: int=2, save_path: str=None):\n",
        "    \"\"\"Plots a bar chart with the test accuracy, f1 -core, roc_auc_score of the models\n",
        "    The x values are the metrics and the bar colors are the models\"\"\"\n",
        "\n",
        "    # Change plot style\n",
        "    plt.style.use('ggplot')\n",
        "\n",
        "    metrics = ['accuracy', 'f1_score', 'roc_auc_score']\n",
        "    scores = []\n",
        "    \n",
        "    for model in models:\n",
        "        y_pred = model.predict(x_test)\n",
        "        y_pred_argmax = np.argmax(y_pred, axis=1)\n",
        "        scores.append(\n",
        "            [\n",
        "                accuracy_score(y_test, y_pred_argmax),\n",
        "                f1_score(y_test, y_pred_argmax, average='weighted'),\n",
        "                roc_auc_score(y_test, y_pred, average='weighted', multi_class='ovr')\n",
        "                ]\n",
        "                )\n",
        "        \n",
        "    scores = np.array(scores)\n",
        "    \n",
        "    fig, ax = plt.subplots()\n",
        "    width = 1 / (len(labels) + 1)\n",
        "    x = np.arange(len(metrics))\n",
        "    \n",
        "    for i, label in enumerate(labels):\n",
        "        ax.bar(x + i*width, scores[i], width, label=label)\n",
        "\n",
        "\n",
        "    # Add bar values to the top of the bars\n",
        "    for i, score in enumerate(scores):\n",
        "        for j, value in enumerate(score):\n",
        "            ax.text(j + i*width, value + 0.01, str(round(value, precision)), ha='center', va='bottom')\n",
        "    \n",
        "    ax.set_xticks(x + width)\n",
        "    ax.set_xticklabels(metrics)\n",
        "    \n",
        "    # Plot legend on the right outside of the plot\n",
        "    ax.legend(title='Tipos de modelo', loc='center left', bbox_to_anchor=(1, 0.5))\n",
        "\n",
        "    if title:\n",
        "        plt.title(title)\n",
        "\n",
        "    if save_path:\n",
        "        plt.savefig(save_path, bbox_inches='tight')\n",
        "    \n",
        "    plt.show()"
      ]
    },
    {
      "cell_type": "code",
      "execution_count": 36,
      "metadata": {},
      "outputs": [
        {
          "name": "stdout",
          "output_type": "stream",
          "text": [
            "\u001b[1m71/71\u001b[0m \u001b[32m━━━━━━━━━━━━━━━━━━━━\u001b[0m\u001b[37m\u001b[0m \u001b[1m0s\u001b[0m 997us/step\n",
            "\u001b[1m71/71\u001b[0m \u001b[32m━━━━━━━━━━━━━━━━━━━━\u001b[0m\u001b[37m\u001b[0m \u001b[1m0s\u001b[0m 1ms/step\n",
            "\u001b[1m71/71\u001b[0m \u001b[32m━━━━━━━━━━━━━━━━━━━━\u001b[0m\u001b[37m\u001b[0m \u001b[1m0s\u001b[0m 2ms/step\n",
            "\u001b[1m71/71\u001b[0m \u001b[32m━━━━━━━━━━━━━━━━━━━━\u001b[0m\u001b[37m\u001b[0m \u001b[1m0s\u001b[0m 3ms/step\n"
          ]
        },
        {
          "data": {
            "image/png": "[encoded data removed]",
            "text/plain": [
              "<Figure size 640x480 with 1 Axes>"
            ]
          },
          "metadata": {},
          "output_type": "display_data"
        }
      ],
      "source": [
        "n_units_models = [model_32u, model_128u, model_256u, model_512u]\n",
        "n_units_labels = ['32 Units', '128 Units', '256 Units', '512 Units']\n",
        "plot_bar_stats_chart(n_units_models, n_units_labels, x_test, y_test,\n",
        "                     title='Número de unidades x Performance', save_path='./img/comparacao_n_unidades.png')"
      ]
    },
    {
      "cell_type": "code",
      "execution_count": 37,
      "metadata": {},
      "outputs": [],
      "source": [
        "def generate_model_stats_table(models: list, labels: list, x_test, y_test, precision: int=2):\n",
        "    \"\"\"Generates a table with the test accuracy, f1 -core, roc_auc_score of the models\"\"\"\n",
        "\n",
        "    metrics = ['accuracy', 'f1_score', 'roc_auc_score']\n",
        "    scores = []\n",
        "    \n",
        "    for model in models:\n",
        "        y_pred = model.predict(x_test)\n",
        "        y_pred_argmax = np.argmax(y_pred, axis=1)\n",
        "        scores.append(\n",
        "            [\n",
        "                accuracy_score(y_test, y_pred_argmax),\n",
        "                f1_score(y_test, y_pred_argmax, average='weighted'),\n",
        "                roc_auc_score(y_test, y_pred, average='weighted', multi_class='ovr')\n",
        "                ]\n",
        "                )\n",
        "        \n",
        "    scores = np.array(scores)\n",
        "    \n",
        "    table = pd.DataFrame(scores, columns=metrics, index=labels)\n",
        "    table = table.round(precision)\n",
        "    \n",
        "    return table"
      ]
    },
    {
      "cell_type": "code",
      "execution_count": 38,
      "metadata": {},
      "outputs": [
        {
          "name": "stdout",
          "output_type": "stream",
          "text": [
            "\u001b[1m71/71\u001b[0m \u001b[32m━━━━━━━━━━━━━━━━━━━━\u001b[0m\u001b[37m\u001b[0m \u001b[1m0s\u001b[0m 686us/step\n",
            "\u001b[1m71/71\u001b[0m \u001b[32m━━━━━━━━━━━━━━━━━━━━\u001b[0m\u001b[37m\u001b[0m \u001b[1m0s\u001b[0m 1ms/step\n",
            "\u001b[1m71/71\u001b[0m \u001b[32m━━━━━━━━━━━━━━━━━━━━\u001b[0m\u001b[37m\u001b[0m \u001b[1m0s\u001b[0m 1ms/step\n",
            "\u001b[1m71/71\u001b[0m \u001b[32m━━━━━━━━━━━━━━━━━━━━\u001b[0m\u001b[37m\u001b[0m \u001b[1m0s\u001b[0m 2ms/step\n"
          ]
        },
        {
          "data": {
            "text/html": [
              "<div>\n",
              "<style scoped>\n",
              "    .dataframe tbody tr th:only-of-type {\n",
              "        vertical-align: middle;\n",
              "    }\n",
              "\n",
              "    .dataframe tbody tr th {\n",
              "        vertical-align: top;\n",
              "    }\n",
              "\n",
              "    .dataframe thead th {\n",
              "        text-align: right;\n",
              "    }\n",
              "</style>\n",
              "<table border=\"1\" class=\"dataframe\">\n",
              "  <thead>\n",
              "    <tr style=\"text-align: right;\">\n",
              "      <th></th>\n",
              "      <th>accuracy</th>\n",
              "      <th>f1_score</th>\n",
              "      <th>roc_auc_score</th>\n",
              "    </tr>\n",
              "  </thead>\n",
              "  <tbody>\n",
              "    <tr>\n",
              "      <th>32 Units</th>\n",
              "      <td>0.778</td>\n",
              "      <td>0.763</td>\n",
              "      <td>0.955</td>\n",
              "    </tr>\n",
              "    <tr>\n",
              "      <th>128 Units</th>\n",
              "      <td>0.799</td>\n",
              "      <td>0.787</td>\n",
              "      <td>0.957</td>\n",
              "    </tr>\n",
              "    <tr>\n",
              "      <th>256 Units</th>\n",
              "      <td>0.804</td>\n",
              "      <td>0.793</td>\n",
              "      <td>0.958</td>\n",
              "    </tr>\n",
              "    <tr>\n",
              "      <th>512 Units</th>\n",
              "      <td>0.803</td>\n",
              "      <td>0.792</td>\n",
              "      <td>0.959</td>\n",
              "    </tr>\n",
              "  </tbody>\n",
              "</table>\n",
              "</div>"
            ],
            "text/plain": [
              "           accuracy  f1_score  roc_auc_score\n",
              "32 Units      0.778     0.763          0.955\n",
              "128 Units     0.799     0.787          0.957\n",
              "256 Units     0.804     0.793          0.958\n",
              "512 Units     0.803     0.792          0.959"
            ]
          },
          "execution_count": 38,
          "metadata": {},
          "output_type": "execute_result"
        }
      ],
      "source": [
        "generate_model_stats_table(n_units_models, n_units_labels, x_test, y_test, precision=3)"
      ]
    },
    {
      "cell_type": "markdown",
      "metadata": {},
      "source": [
        "### Análise\n",
        "\n",
        "A arquitetura com 256 unidades foi a que obteve o melhor resultado, o que indica que arquiteturas menores não tem complexidade suficiente para aprender todos os padrões presentes nos dados para separar as 46 classes. Contudo, é notável que a diferença entre as arquiteturas de 256 e 512 unidades é muito pequena, o que indica que a arquitetura com 256 unidades já é suficiente para resolver o problema.\n",
        "\n",
        "| Arquitetura | accuracy | f1_score | roc_auc_score |\n",
        "|-------------|----------|----------|---------------|\n",
        "| 32 Units    | 77.8%    | 76.3%    | 95.5%         |\n",
        "| 128 Units   | 79.9%    | 78.7%    | 95.7%         |\n",
        "| 256 Units   | 80.4%    | 79.3%    | 95.8%         |\n",
        "| 512 Units   | 80.1%    | 79.1%    | 95.9%         |"
      ]
    },
    {
      "cell_type": "markdown",
      "metadata": {},
      "source": [
        "### 2. Usamos duas camadas ocultas `Dense`. Agora, use uma única camada oculta ou três camadas ocultas."
      ]
    },
    {
      "cell_type": "markdown",
      "metadata": {},
      "source": [
        "Primeiramente, vamos testar uma arquitetura com uma única camada oculta"
      ]
    },
    {
      "cell_type": "code",
      "execution_count": 39,
      "metadata": {},
      "outputs": [],
      "source": [
        "arquitecture_1layer = {\n",
        "    'layers': [\n",
        "        {'units': 32, 'activation': 'relu', 'input_shape': (10000,)},\n",
        "        {'units': 46, 'activation': 'softmax'}\n",
        "    ],\n",
        "    'loss': 'categorical_crossentropy',\n",
        "    'optimizer': 'rmsprop',\n",
        "    'metrics': ['accuracy']\n",
        "}"
      ]
    },
    {
      "cell_type": "code",
      "execution_count": 40,
      "metadata": {},
      "outputs": [
        {
          "name": "stderr",
          "output_type": "stream",
          "text": [
            "c:\\Users\\lucas\\AppData\\Local\\Programs\\Python\\Python39\\lib\\site-packages\\keras\\src\\layers\\core\\dense.py:85: UserWarning: Do not pass an `input_shape`/`input_dim` argument to a layer. When using Sequential models, prefer using an `Input(shape)` object as the first layer in the model instead.\n",
            "  super().__init__(activity_regularizer=activity_regularizer, **kwargs)\n"
          ]
        }
      ],
      "source": [
        "model_1layer = create_model(arquitecture_1layer)"
      ]
    },
    {
      "cell_type": "code",
      "execution_count": 41,
      "metadata": {},
      "outputs": [
        {
          "name": "stdout",
          "output_type": "stream",
          "text": [
            "Epoch 1/100\n",
            "\u001b[1m16/16\u001b[0m \u001b[32m━━━━━━━━━━━━━━━━━━━━\u001b[0m\u001b[37m\u001b[0m \u001b[1m0s\u001b[0m 14ms/step - accuracy: 0.3693 - loss: 3.4502 - val_accuracy: 0.5370 - val_loss: 2.5250\n",
            "Epoch 2/100\n",
            "\u001b[1m16/16\u001b[0m \u001b[32m━━━━━━━━━━━━━━━━━━━━\u001b[0m\u001b[37m\u001b[0m \u001b[1m0s\u001b[0m 6ms/step - accuracy: 0.6003 - loss: 2.2789 - val_accuracy: 0.6540 - val_loss: 1.8804\n",
            "Epoch 3/100\n",
            "\u001b[1m16/16\u001b[0m \u001b[32m━━━━━━━━━━━━━━━━━━━━\u001b[0m\u001b[37m\u001b[0m \u001b[1m0s\u001b[0m 7ms/step - accuracy: 0.6938 - loss: 1.6795 - val_accuracy: 0.6860 - val_loss: 1.5472\n",
            "Epoch 4/100\n",
            "\u001b[1m16/16\u001b[0m \u001b[32m━━━━━━━━━━━━━━━━━━━━\u001b[0m\u001b[37m\u001b[0m \u001b[1m0s\u001b[0m 5ms/step - accuracy: 0.7357 - loss: 1.3492 - val_accuracy: 0.7220 - val_loss: 1.3450\n",
            "Epoch 5/100\n",
            "\u001b[1m16/16\u001b[0m \u001b[32m━━━━━━━━━━━━━━━━━━━━\u001b[0m\u001b[37m\u001b[0m \u001b[1m0s\u001b[0m 5ms/step - accuracy: 0.7725 - loss: 1.1324 - val_accuracy: 0.7480 - val_loss: 1.2139\n",
            "Epoch 6/100\n",
            "\u001b[1m16/16\u001b[0m \u001b[32m━━━━━━━━━━━━━━━━━━━━\u001b[0m\u001b[37m\u001b[0m \u001b[1m0s\u001b[0m 4ms/step - accuracy: 0.7984 - loss: 0.9783 - val_accuracy: 0.7610 - val_loss: 1.1242\n",
            "Epoch 7/100\n",
            "\u001b[1m16/16\u001b[0m \u001b[32m━━━━━━━━━━━━━━━━━━━━\u001b[0m\u001b[37m\u001b[0m \u001b[1m0s\u001b[0m 5ms/step - accuracy: 0.8147 - loss: 0.8601 - val_accuracy: 0.7750 - val_loss: 1.0584\n",
            "Epoch 8/100\n",
            "\u001b[1m16/16\u001b[0m \u001b[32m━━━━━━━━━━━━━━━━━━━━\u001b[0m\u001b[37m\u001b[0m \u001b[1m0s\u001b[0m 5ms/step - accuracy: 0.8382 - loss: 0.7640 - val_accuracy: 0.7870 - val_loss: 1.0076\n",
            "Epoch 9/100\n",
            "\u001b[1m16/16\u001b[0m \u001b[32m━━━━━━━━━━━━━━━━━━━━\u001b[0m\u001b[37m\u001b[0m \u001b[1m0s\u001b[0m 4ms/step - accuracy: 0.8586 - loss: 0.6826 - val_accuracy: 0.7930 - val_loss: 0.9668\n",
            "Epoch 10/100\n",
            "\u001b[1m16/16\u001b[0m \u001b[32m━━━━━━━━━━━━━━━━━━━━\u001b[0m\u001b[37m\u001b[0m \u001b[1m0s\u001b[0m 5ms/step - accuracy: 0.8793 - loss: 0.6123 - val_accuracy: 0.8050 - val_loss: 0.9340\n",
            "Epoch 11/100\n",
            "\u001b[1m16/16\u001b[0m \u001b[32m━━━━━━━━━━━━━━━━━━━━\u001b[0m\u001b[37m\u001b[0m \u001b[1m0s\u001b[0m 5ms/step - accuracy: 0.8895 - loss: 0.5509 - val_accuracy: 0.8150 - val_loss: 0.9070\n",
            "Epoch 12/100\n",
            "\u001b[1m16/16\u001b[0m \u001b[32m━━━━━━━━━━━━━━━━━━━━\u001b[0m\u001b[37m\u001b[0m \u001b[1m0s\u001b[0m 5ms/step - accuracy: 0.8997 - loss: 0.4971 - val_accuracy: 0.8200 - val_loss: 0.8846\n",
            "Epoch 13/100\n",
            "\u001b[1m16/16\u001b[0m \u001b[32m━━━━━━━━━━━━━━━━━━━━\u001b[0m\u001b[37m\u001b[0m \u001b[1m0s\u001b[0m 5ms/step - accuracy: 0.9083 - loss: 0.4498 - val_accuracy: 0.8280 - val_loss: 0.8668\n",
            "Epoch 14/100\n",
            "\u001b[1m16/16\u001b[0m \u001b[32m━━━━━━━━━━━━━━━━━━━━\u001b[0m\u001b[37m\u001b[0m \u001b[1m0s\u001b[0m 5ms/step - accuracy: 0.9173 - loss: 0.4081 - val_accuracy: 0.8240 - val_loss: 0.8526\n",
            "Epoch 15/100\n",
            "\u001b[1m16/16\u001b[0m \u001b[32m━━━━━━━━━━━━━━━━━━━━\u001b[0m\u001b[37m\u001b[0m \u001b[1m0s\u001b[0m 5ms/step - accuracy: 0.9240 - loss: 0.3712 - val_accuracy: 0.8280 - val_loss: 0.8412\n",
            "Epoch 16/100\n",
            "\u001b[1m16/16\u001b[0m \u001b[32m━━━━━━━━━━━━━━━━━━━━\u001b[0m\u001b[37m\u001b[0m \u001b[1m0s\u001b[0m 4ms/step - accuracy: 0.9281 - loss: 0.3387 - val_accuracy: 0.8310 - val_loss: 0.8332\n",
            "Epoch 17/100\n",
            "\u001b[1m16/16\u001b[0m \u001b[32m━━━━━━━━━━━━━━━━━━━━\u001b[0m\u001b[37m\u001b[0m \u001b[1m0s\u001b[0m 5ms/step - accuracy: 0.9313 - loss: 0.3099 - val_accuracy: 0.8310 - val_loss: 0.8274\n",
            "Epoch 18/100\n",
            "\u001b[1m16/16\u001b[0m \u001b[32m━━━━━━━━━━━━━━━━━━━━\u001b[0m\u001b[37m\u001b[0m \u001b[1m0s\u001b[0m 4ms/step - accuracy: 0.9352 - loss: 0.2846 - val_accuracy: 0.8350 - val_loss: 0.8235\n",
            "Epoch 19/100\n",
            "\u001b[1m16/16\u001b[0m \u001b[32m━━━━━━━━━━━━━━━━━━━━\u001b[0m\u001b[37m\u001b[0m \u001b[1m0s\u001b[0m 4ms/step - accuracy: 0.9382 - loss: 0.2623 - val_accuracy: 0.8330 - val_loss: 0.8211\n",
            "Epoch 20/100\n",
            "\u001b[1m16/16\u001b[0m \u001b[32m━━━━━━━━━━━━━━━━━━━━\u001b[0m\u001b[37m\u001b[0m \u001b[1m0s\u001b[0m 5ms/step - accuracy: 0.9410 - loss: 0.2426 - val_accuracy: 0.8330 - val_loss: 0.8205\n",
            "Epoch 21/100\n",
            "\u001b[1m16/16\u001b[0m \u001b[32m━━━━━━━━━━━━━━━━━━━━\u001b[0m\u001b[37m\u001b[0m \u001b[1m0s\u001b[0m 6ms/step - accuracy: 0.9454 - loss: 0.2253 - val_accuracy: 0.8330 - val_loss: 0.8203\n",
            "Epoch 22/100\n",
            "\u001b[1m16/16\u001b[0m \u001b[32m━━━━━━━━━━━━━━━━━━━━\u001b[0m\u001b[37m\u001b[0m \u001b[1m0s\u001b[0m 4ms/step - accuracy: 0.9470 - loss: 0.2101 - val_accuracy: 0.8310 - val_loss: 0.8217\n",
            "Epoch 23/100\n",
            "\u001b[1m16/16\u001b[0m \u001b[32m━━━━━━━━━━━━━━━━━━━━\u001b[0m\u001b[37m\u001b[0m \u001b[1m0s\u001b[0m 5ms/step - accuracy: 0.9487 - loss: 0.1967 - val_accuracy: 0.8300 - val_loss: 0.8235\n",
            "Epoch 24/100\n",
            "\u001b[1m16/16\u001b[0m \u001b[32m━━━━━━━━━━━━━━━━━━━━\u001b[0m\u001b[37m\u001b[0m \u001b[1m0s\u001b[0m 5ms/step - accuracy: 0.9507 - loss: 0.1847 - val_accuracy: 0.8290 - val_loss: 0.8263\n"
          ]
        }
      ],
      "source": [
        "history_1layer = fit_model(model_1layer, partial_x_train, partial_y_train, x_val, y_val, epochs=100)"
      ]
    },
    {
      "cell_type": "markdown",
      "metadata": {},
      "source": [
        "Agora, vamos testar uma arquitetura com três camadas ocultas"
      ]
    },
    {
      "cell_type": "code",
      "execution_count": 42,
      "metadata": {},
      "outputs": [
        {
          "name": "stdout",
          "output_type": "stream",
          "text": [
            "\u001b[1m71/71\u001b[0m \u001b[32m━━━━━━━━━━━━━━━━━━━━\u001b[0m\u001b[37m\u001b[0m \u001b[1m0s\u001b[0m 756us/step - accuracy: 0.8118 - loss: 0.8848\n"
          ]
        },
        {
          "data": {
            "text/plain": [
              "[0.9313241839408875, 0.7974176406860352]"
            ]
          },
          "execution_count": 42,
          "metadata": {},
          "output_type": "execute_result"
        }
      ],
      "source": [
        "model_1layer.evaluate(x_test, one_hot_test_labels)"
      ]
    },
    {
      "cell_type": "code",
      "execution_count": 43,
      "metadata": {},
      "outputs": [],
      "source": [
        "arquitecture_3layers = {\n",
        "    'layers': [\n",
        "        {'units': 32, 'activation': 'relu'},\n",
        "        {'units': 32, 'activation': 'relu'},\n",
        "        {'units': 32, 'activation': 'relu'},\n",
        "        {'units': 46, 'activation': 'softmax'}\n",
        "    ],\n",
        "    'loss': 'categorical_crossentropy',\n",
        "    'optimizer': 'rmsprop',\n",
        "    'metrics': ['accuracy']\n",
        "}\n"
      ]
    },
    {
      "cell_type": "code",
      "execution_count": 44,
      "metadata": {},
      "outputs": [],
      "source": [
        "model_3layers = create_model(arquitecture_3layers)"
      ]
    },
    {
      "cell_type": "code",
      "execution_count": 45,
      "metadata": {},
      "outputs": [
        {
          "name": "stdout",
          "output_type": "stream",
          "text": [
            "Epoch 1/100\n",
            "\u001b[1m16/16\u001b[0m \u001b[32m━━━━━━━━━━━━━━━━━━━━\u001b[0m\u001b[37m\u001b[0m \u001b[1m1s\u001b[0m 13ms/step - accuracy: 0.2693 - loss: 3.5425 - val_accuracy: 0.4850 - val_loss: 2.5408\n",
            "Epoch 2/100\n",
            "\u001b[1m16/16\u001b[0m \u001b[32m━━━━━━━━━━━━━━━━━━━━\u001b[0m\u001b[37m\u001b[0m \u001b[1m0s\u001b[0m 6ms/step - accuracy: 0.5416 - loss: 2.2508 - val_accuracy: 0.6140 - val_loss: 1.7950\n",
            "Epoch 3/100\n",
            "\u001b[1m16/16\u001b[0m \u001b[32m━━━━━━━━━━━━━━━━━━━━\u001b[0m\u001b[37m\u001b[0m \u001b[1m0s\u001b[0m 6ms/step - accuracy: 0.6634 - loss: 1.6066 - val_accuracy: 0.6840 - val_loss: 1.4920\n",
            "Epoch 4/100\n",
            "\u001b[1m16/16\u001b[0m \u001b[32m━━━━━━━━━━━━━━━━━━━━\u001b[0m\u001b[37m\u001b[0m \u001b[1m0s\u001b[0m 5ms/step - accuracy: 0.7238 - loss: 1.3068 - val_accuracy: 0.7080 - val_loss: 1.3348\n",
            "Epoch 5/100\n",
            "\u001b[1m16/16\u001b[0m \u001b[32m━━━━━━━━━━━━━━━━━━━━\u001b[0m\u001b[37m\u001b[0m \u001b[1m0s\u001b[0m 6ms/step - accuracy: 0.7537 - loss: 1.1187 - val_accuracy: 0.7270 - val_loss: 1.2327\n",
            "Epoch 6/100\n",
            "\u001b[1m16/16\u001b[0m \u001b[32m━━━━━━━━━━━━━━━━━━━━\u001b[0m\u001b[37m\u001b[0m \u001b[1m0s\u001b[0m 5ms/step - accuracy: 0.7781 - loss: 0.9769 - val_accuracy: 0.7430 - val_loss: 1.1574\n",
            "Epoch 7/100\n",
            "\u001b[1m16/16\u001b[0m \u001b[32m━━━━━━━━━━━━━━━━━━━━\u001b[0m\u001b[37m\u001b[0m \u001b[1m0s\u001b[0m 5ms/step - accuracy: 0.8018 - loss: 0.8579 - val_accuracy: 0.7650 - val_loss: 1.1018\n",
            "Epoch 8/100\n",
            "\u001b[1m16/16\u001b[0m \u001b[32m━━━━━━━━━━━━━━━━━━━━\u001b[0m\u001b[37m\u001b[0m \u001b[1m0s\u001b[0m 5ms/step - accuracy: 0.8254 - loss: 0.7544 - val_accuracy: 0.7770 - val_loss: 1.0613\n",
            "Epoch 9/100\n",
            "\u001b[1m16/16\u001b[0m \u001b[32m━━━━━━━━━━━━━━━━━━━━\u001b[0m\u001b[37m\u001b[0m \u001b[1m0s\u001b[0m 5ms/step - accuracy: 0.8466 - loss: 0.6639 - val_accuracy: 0.7820 - val_loss: 1.0343\n",
            "Epoch 10/100\n",
            "\u001b[1m16/16\u001b[0m \u001b[32m━━━━━━━━━━━━━━━━━━━━\u001b[0m\u001b[37m\u001b[0m \u001b[1m0s\u001b[0m 5ms/step - accuracy: 0.8618 - loss: 0.5838 - val_accuracy: 0.7880 - val_loss: 1.0178\n",
            "Epoch 11/100\n",
            "\u001b[1m16/16\u001b[0m \u001b[32m━━━━━━━━━━━━━━━━━━━━\u001b[0m\u001b[37m\u001b[0m \u001b[1m0s\u001b[0m 5ms/step - accuracy: 0.8763 - loss: 0.5131 - val_accuracy: 0.7940 - val_loss: 1.0105\n",
            "Epoch 12/100\n",
            "\u001b[1m16/16\u001b[0m \u001b[32m━━━━━━━━━━━━━━━━━━━━\u001b[0m\u001b[37m\u001b[0m \u001b[1m0s\u001b[0m 5ms/step - accuracy: 0.8937 - loss: 0.4522 - val_accuracy: 0.8020 - val_loss: 1.0081\n",
            "Epoch 13/100\n",
            "\u001b[1m16/16\u001b[0m \u001b[32m━━━━━━━━━━━━━━━━━━━━\u001b[0m\u001b[37m\u001b[0m \u001b[1m0s\u001b[0m 5ms/step - accuracy: 0.9101 - loss: 0.4010 - val_accuracy: 0.8030 - val_loss: 1.0123\n",
            "Epoch 14/100\n",
            "\u001b[1m16/16\u001b[0m \u001b[32m━━━━━━━━━━━━━━━━━━━━\u001b[0m\u001b[37m\u001b[0m \u001b[1m0s\u001b[0m 5ms/step - accuracy: 0.9211 - loss: 0.3540 - val_accuracy: 0.7980 - val_loss: 1.0211\n",
            "Epoch 15/100\n",
            "\u001b[1m16/16\u001b[0m \u001b[32m━━━━━━━━━━━━━━━━━━━━\u001b[0m\u001b[37m\u001b[0m \u001b[1m0s\u001b[0m 5ms/step - accuracy: 0.9287 - loss: 0.3146 - val_accuracy: 0.8020 - val_loss: 1.0295\n"
          ]
        }
      ],
      "source": [
        "history_3layers = fit_model(model_3layers, partial_x_train, partial_y_train, x_val, y_val, epochs=100)"
      ]
    },
    {
      "cell_type": "code",
      "execution_count": 46,
      "metadata": {},
      "outputs": [
        {
          "name": "stdout",
          "output_type": "stream",
          "text": [
            "\u001b[1m71/71\u001b[0m \u001b[32m━━━━━━━━━━━━━━━━━━━━\u001b[0m\u001b[37m\u001b[0m \u001b[1m0s\u001b[0m 861us/step - accuracy: 0.7873 - loss: 1.0192\n"
          ]
        },
        {
          "data": {
            "text/plain": [
              "[1.0626031160354614, 0.7756010890007019]"
            ]
          },
          "execution_count": 46,
          "metadata": {},
          "output_type": "execute_result"
        }
      ],
      "source": [
        "model_3layers.evaluate(x_test, one_hot_test_labels)"
      ]
    },
    {
      "cell_type": "markdown",
      "metadata": {},
      "source": [
        "#### Análise"
      ]
    },
    {
      "cell_type": "markdown",
      "metadata": {},
      "source": [
        "O modelo com uma única camada oculta teve acurácia de 79,7%, enquanto o modelo de 3 camadas ocultas teve acurácia de 77,6%. Isso provavelmente ocorreu porque o modelo com uma única camada oculta tem complexidade suficiente para aprender os padrões presentes nos dados e separar as 46 classes, enquanto o modelo com 3 camadas ocultas pode ser mais complexo do que o necessário, teve mais overfitting - o que é uma tendência para o aumento do número de camadas.\n",
        "\n",
        "Uma solução para o overfitting seria adicionar regularização às camadas ocultas. Vamos testar isso."
      ]
    },
    {
      "cell_type": "markdown",
      "metadata": {},
      "source": [
        "Arquitetura com regularização L1"
      ]
    },
    {
      "cell_type": "code",
      "execution_count": 56,
      "metadata": {},
      "outputs": [],
      "source": [
        "reg_weight = 10e-6\n",
        "architecture_3layers_reg_l1 = {\n",
        "    'layers': [\n",
        "        {'units': 32, 'activation': 'relu',\n",
        "         'kernel_regularizer': regularizers.L1(reg_weight), 'activity_regularizer': regularizers.L1(reg_weight),\n",
        "         'input_shape': (10000,)},\n",
        "        {'units': 32, 'activation': 'relu',\n",
        "         'kernel_regularizer': regularizers.L1(reg_weight), 'activity_regularizer': regularizers.L1(reg_weight)\n",
        "         },\n",
        "        {'units': 32, 'activation': 'relu',\n",
        "         'kernel_regularizer': regularizers.L1(reg_weight), 'activity_regularizer': regularizers.L1(reg_weight)},\n",
        "        {'units': 46, 'activation': 'softmax'}\n",
        "    ],\n",
        "    'loss': 'categorical_crossentropy',\n",
        "    'optimizer': 'rmsprop',\n",
        "    'metrics': ['accuracy']\n",
        "} "
      ]
    },
    {
      "cell_type": "code",
      "execution_count": 57,
      "metadata": {},
      "outputs": [],
      "source": [
        "model_3layers_reg_l1 = create_model(architecture_3layers_reg_l1)"
      ]
    },
    {
      "cell_type": "code",
      "execution_count": 58,
      "metadata": {},
      "outputs": [
        {
          "name": "stdout",
          "output_type": "stream",
          "text": [
            "Epoch 1/200\n",
            "\u001b[1m16/16\u001b[0m \u001b[32m━━━━━━━━━━━━━━━━━━━━\u001b[0m\u001b[37m\u001b[0m \u001b[1m1s\u001b[0m 14ms/step - accuracy: 0.2811 - loss: 3.6822 - val_accuracy: 0.4840 - val_loss: 2.8297\n",
            "Epoch 2/200\n",
            "\u001b[1m16/16\u001b[0m \u001b[32m━━━━━━━━━━━━━━━━━━━━\u001b[0m\u001b[37m\u001b[0m \u001b[1m0s\u001b[0m 5ms/step - accuracy: 0.5364 - loss: 2.5853 - val_accuracy: 0.6030 - val_loss: 2.1527\n",
            "Epoch 3/200\n",
            "\u001b[1m16/16\u001b[0m \u001b[32m━━━━━━━━━━━━━━━━━━━━\u001b[0m\u001b[37m\u001b[0m \u001b[1m0s\u001b[0m 5ms/step - accuracy: 0.6497 - loss: 1.9906 - val_accuracy: 0.6630 - val_loss: 1.8770\n",
            "Epoch 4/200\n",
            "\u001b[1m16/16\u001b[0m \u001b[32m━━━━━━━━━━━━━━━━━━━━\u001b[0m\u001b[37m\u001b[0m \u001b[1m0s\u001b[0m 5ms/step - accuracy: 0.7066 - loss: 1.7120 - val_accuracy: 0.6970 - val_loss: 1.7265\n",
            "Epoch 5/200\n",
            "\u001b[1m16/16\u001b[0m \u001b[32m━━━━━━━━━━━━━━━━━━━━\u001b[0m\u001b[37m\u001b[0m \u001b[1m0s\u001b[0m 5ms/step - accuracy: 0.7401 - loss: 1.5298 - val_accuracy: 0.7100 - val_loss: 1.6229\n",
            "Epoch 6/200\n",
            "\u001b[1m16/16\u001b[0m \u001b[32m━━━━━━━━━━━━━━━━━━━━\u001b[0m\u001b[37m\u001b[0m \u001b[1m0s\u001b[0m 4ms/step - accuracy: 0.7632 - loss: 1.3856 - val_accuracy: 0.7270 - val_loss: 1.5460\n",
            "Epoch 7/200\n",
            "\u001b[1m16/16\u001b[0m \u001b[32m━━━━━━━━━━━━━━━━━━━━\u001b[0m\u001b[37m\u001b[0m \u001b[1m0s\u001b[0m 5ms/step - accuracy: 0.7861 - loss: 1.2642 - val_accuracy: 0.7430 - val_loss: 1.4837\n",
            "Epoch 8/200\n",
            "\u001b[1m16/16\u001b[0m \u001b[32m━━━━━━━━━━━━━━━━━━━━\u001b[0m\u001b[37m\u001b[0m \u001b[1m0s\u001b[0m 5ms/step - accuracy: 0.8081 - loss: 1.1612 - val_accuracy: 0.7530 - val_loss: 1.4311\n",
            "Epoch 9/200\n",
            "\u001b[1m16/16\u001b[0m \u001b[32m━━━━━━━━━━━━━━━━━━━━\u001b[0m\u001b[37m\u001b[0m \u001b[1m0s\u001b[0m 4ms/step - accuracy: 0.8208 - loss: 1.0736 - val_accuracy: 0.7630 - val_loss: 1.3977\n",
            "Epoch 10/200\n",
            "\u001b[1m16/16\u001b[0m \u001b[32m━━━━━━━━━━━━━━━━━━━━\u001b[0m\u001b[37m\u001b[0m \u001b[1m0s\u001b[0m 5ms/step - accuracy: 0.8304 - loss: 0.9967 - val_accuracy: 0.7640 - val_loss: 1.3645\n",
            "Epoch 11/200\n",
            "\u001b[1m16/16\u001b[0m \u001b[32m━━━━━━━━━━━━━━━━━━━━\u001b[0m\u001b[37m\u001b[0m \u001b[1m0s\u001b[0m 4ms/step - accuracy: 0.8415 - loss: 0.9295 - val_accuracy: 0.7760 - val_loss: 1.3415\n",
            "Epoch 12/200\n",
            "\u001b[1m16/16\u001b[0m \u001b[32m━━━━━━━━━━━━━━━━━━━━\u001b[0m\u001b[37m\u001b[0m \u001b[1m0s\u001b[0m 6ms/step - accuracy: 0.8546 - loss: 0.8700 - val_accuracy: 0.7840 - val_loss: 1.3177\n",
            "Epoch 13/200\n",
            "\u001b[1m16/16\u001b[0m \u001b[32m━━━━━━━━━━━━━━━━━━━━\u001b[0m\u001b[37m\u001b[0m \u001b[1m0s\u001b[0m 5ms/step - accuracy: 0.8673 - loss: 0.8180 - val_accuracy: 0.7840 - val_loss: 1.3108\n",
            "Epoch 14/200\n",
            "\u001b[1m16/16\u001b[0m \u001b[32m━━━━━━━━━━━━━━━━━━━━\u001b[0m\u001b[37m\u001b[0m \u001b[1m0s\u001b[0m 5ms/step - accuracy: 0.8779 - loss: 0.7707 - val_accuracy: 0.7900 - val_loss: 1.2878\n",
            "Epoch 15/200\n",
            "\u001b[1m16/16\u001b[0m \u001b[32m━━━━━━━━━━━━━━━━━━━━\u001b[0m\u001b[37m\u001b[0m \u001b[1m0s\u001b[0m 4ms/step - accuracy: 0.8895 - loss: 0.7260 - val_accuracy: 0.7930 - val_loss: 1.2835\n",
            "Epoch 16/200\n",
            "\u001b[1m16/16\u001b[0m \u001b[32m━━━━━━━━━━━━━━━━━━━━\u001b[0m\u001b[37m\u001b[0m \u001b[1m0s\u001b[0m 5ms/step - accuracy: 0.9017 - loss: 0.6851 - val_accuracy: 0.7960 - val_loss: 1.2722\n",
            "Epoch 17/200\n",
            "\u001b[1m16/16\u001b[0m \u001b[32m━━━━━━━━━━━━━━━━━━━━\u001b[0m\u001b[37m\u001b[0m \u001b[1m0s\u001b[0m 6ms/step - accuracy: 0.9118 - loss: 0.6487 - val_accuracy: 0.7960 - val_loss: 1.2708\n",
            "Epoch 18/200\n",
            "\u001b[1m16/16\u001b[0m \u001b[32m━━━━━━━━━━━━━━━━━━━━\u001b[0m\u001b[37m\u001b[0m \u001b[1m0s\u001b[0m 5ms/step - accuracy: 0.9185 - loss: 0.6161 - val_accuracy: 0.8000 - val_loss: 1.2655\n",
            "Epoch 19/200\n",
            "\u001b[1m16/16\u001b[0m \u001b[32m━━━━━━━━━━━━━━━━━━━━\u001b[0m\u001b[37m\u001b[0m \u001b[1m0s\u001b[0m 5ms/step - accuracy: 0.9250 - loss: 0.5858 - val_accuracy: 0.8030 - val_loss: 1.2595\n",
            "Epoch 20/200\n",
            "\u001b[1m16/16\u001b[0m \u001b[32m━━━━━━━━━━━━━━━━━━━━\u001b[0m\u001b[37m\u001b[0m \u001b[1m0s\u001b[0m 5ms/step - accuracy: 0.9320 - loss: 0.5608 - val_accuracy: 0.7980 - val_loss: 1.2564\n",
            "Epoch 21/200\n",
            "\u001b[1m16/16\u001b[0m \u001b[32m━━━━━━━━━━━━━━━━━━━━\u001b[0m\u001b[37m\u001b[0m \u001b[1m0s\u001b[0m 5ms/step - accuracy: 0.9362 - loss: 0.5364 - val_accuracy: 0.8040 - val_loss: 1.2475\n",
            "Epoch 22/200\n",
            "\u001b[1m16/16\u001b[0m \u001b[32m━━━━━━━━━━━━━━━━━━━━\u001b[0m\u001b[37m\u001b[0m \u001b[1m0s\u001b[0m 5ms/step - accuracy: 0.9398 - loss: 0.5159 - val_accuracy: 0.8040 - val_loss: 1.2462\n",
            "Epoch 23/200\n",
            "\u001b[1m16/16\u001b[0m \u001b[32m━━━━━━━━━━━━━━━━━━━━\u001b[0m\u001b[37m\u001b[0m \u001b[1m0s\u001b[0m 5ms/step - accuracy: 0.9412 - loss: 0.4968 - val_accuracy: 0.8030 - val_loss: 1.2376\n",
            "Epoch 24/200\n",
            "\u001b[1m16/16\u001b[0m \u001b[32m━━━━━━━━━━━━━━━━━━━━\u001b[0m\u001b[37m\u001b[0m \u001b[1m0s\u001b[0m 5ms/step - accuracy: 0.9444 - loss: 0.4790 - val_accuracy: 0.8040 - val_loss: 1.2308\n",
            "Epoch 25/200\n",
            "\u001b[1m16/16\u001b[0m \u001b[32m━━━━━━━━━━━━━━━━━━━━\u001b[0m\u001b[37m\u001b[0m \u001b[1m0s\u001b[0m 5ms/step - accuracy: 0.9458 - loss: 0.4645 - val_accuracy: 0.8030 - val_loss: 1.2256\n",
            "Epoch 26/200\n",
            "\u001b[1m16/16\u001b[0m \u001b[32m━━━━━━━━━━━━━━━━━━━━\u001b[0m\u001b[37m\u001b[0m \u001b[1m0s\u001b[0m 5ms/step - accuracy: 0.9470 - loss: 0.4505 - val_accuracy: 0.8070 - val_loss: 1.2202\n",
            "Epoch 27/200\n",
            "\u001b[1m16/16\u001b[0m \u001b[32m━━━━━━━━━━━━━━━━━━━━\u001b[0m\u001b[37m\u001b[0m \u001b[1m0s\u001b[0m 5ms/step - accuracy: 0.9492 - loss: 0.4378 - val_accuracy: 0.8080 - val_loss: 1.2161\n",
            "Epoch 28/200\n",
            "\u001b[1m16/16\u001b[0m \u001b[32m━━━━━━━━━━━━━━━━━━━━\u001b[0m\u001b[37m\u001b[0m \u001b[1m0s\u001b[0m 5ms/step - accuracy: 0.9503 - loss: 0.4269 - val_accuracy: 0.8050 - val_loss: 1.2103\n",
            "Epoch 29/200\n",
            "\u001b[1m16/16\u001b[0m \u001b[32m━━━━━━━━━━━━━━━━━━━━\u001b[0m\u001b[37m\u001b[0m \u001b[1m0s\u001b[0m 5ms/step - accuracy: 0.9522 - loss: 0.4153 - val_accuracy: 0.8040 - val_loss: 1.2093\n",
            "Epoch 30/200\n",
            "\u001b[1m16/16\u001b[0m \u001b[32m━━━━━━━━━━━━━━━━━━━━\u001b[0m\u001b[37m\u001b[0m \u001b[1m0s\u001b[0m 5ms/step - accuracy: 0.9530 - loss: 0.4056 - val_accuracy: 0.8090 - val_loss: 1.2057\n",
            "Epoch 31/200\n",
            "\u001b[1m16/16\u001b[0m \u001b[32m━━━━━━━━━━━━━━━━━━━━\u001b[0m\u001b[37m\u001b[0m \u001b[1m0s\u001b[0m 5ms/step - accuracy: 0.9534 - loss: 0.3966 - val_accuracy: 0.8070 - val_loss: 1.2024\n",
            "Epoch 32/200\n",
            "\u001b[1m16/16\u001b[0m \u001b[32m━━━━━━━━━━━━━━━━━━━━\u001b[0m\u001b[37m\u001b[0m \u001b[1m0s\u001b[0m 6ms/step - accuracy: 0.9533 - loss: 0.3886 - val_accuracy: 0.8040 - val_loss: 1.2018\n",
            "Epoch 33/200\n",
            "\u001b[1m16/16\u001b[0m \u001b[32m━━━━━━━━━━━━━━━━━━━━\u001b[0m\u001b[37m\u001b[0m \u001b[1m0s\u001b[0m 5ms/step - accuracy: 0.9529 - loss: 0.3817 - val_accuracy: 0.8000 - val_loss: 1.2008\n",
            "Epoch 34/200\n",
            "\u001b[1m16/16\u001b[0m \u001b[32m━━━━━━━━━━━━━━━━━━━━\u001b[0m\u001b[37m\u001b[0m \u001b[1m0s\u001b[0m 6ms/step - accuracy: 0.9538 - loss: 0.3745 - val_accuracy: 0.7990 - val_loss: 1.1976\n",
            "Epoch 35/200\n",
            "\u001b[1m16/16\u001b[0m \u001b[32m━━━━━━━━━━━━━━━━━━━━\u001b[0m\u001b[37m\u001b[0m \u001b[1m0s\u001b[0m 4ms/step - accuracy: 0.9531 - loss: 0.3675 - val_accuracy: 0.7950 - val_loss: 1.2043\n",
            "Epoch 36/200\n",
            "\u001b[1m16/16\u001b[0m \u001b[32m━━━━━━━━━━━━━━━━━━━━\u001b[0m\u001b[37m\u001b[0m \u001b[1m0s\u001b[0m 5ms/step - accuracy: 0.9540 - loss: 0.3609 - val_accuracy: 0.8010 - val_loss: 1.1954\n",
            "Epoch 37/200\n",
            "\u001b[1m16/16\u001b[0m \u001b[32m━━━━━━━━━━━━━━━━━━━━\u001b[0m\u001b[37m\u001b[0m \u001b[1m0s\u001b[0m 4ms/step - accuracy: 0.9536 - loss: 0.3565 - val_accuracy: 0.7980 - val_loss: 1.1992\n",
            "Epoch 38/200\n",
            "\u001b[1m16/16\u001b[0m \u001b[32m━━━━━━━━━━━━━━━━━━━━\u001b[0m\u001b[37m\u001b[0m \u001b[1m0s\u001b[0m 6ms/step - accuracy: 0.9530 - loss: 0.3509 - val_accuracy: 0.7990 - val_loss: 1.1927\n",
            "Epoch 39/200\n",
            "\u001b[1m16/16\u001b[0m \u001b[32m━━━━━━━━━━━━━━━━━━━━\u001b[0m\u001b[37m\u001b[0m \u001b[1m0s\u001b[0m 5ms/step - accuracy: 0.9543 - loss: 0.3451 - val_accuracy: 0.7950 - val_loss: 1.1986\n",
            "Epoch 40/200\n",
            "\u001b[1m16/16\u001b[0m \u001b[32m━━━━━━━━━━━━━━━━━━━━\u001b[0m\u001b[37m\u001b[0m \u001b[1m0s\u001b[0m 5ms/step - accuracy: 0.9538 - loss: 0.3400 - val_accuracy: 0.8000 - val_loss: 1.1899\n",
            "Epoch 41/200\n",
            "\u001b[1m16/16\u001b[0m \u001b[32m━━━━━━━━━━━━━━━━━━━━\u001b[0m\u001b[37m\u001b[0m \u001b[1m0s\u001b[0m 5ms/step - accuracy: 0.9545 - loss: 0.3358 - val_accuracy: 0.7970 - val_loss: 1.1949\n",
            "Epoch 42/200\n",
            "\u001b[1m16/16\u001b[0m \u001b[32m━━━━━━━━━━━━━━━━━━━━\u001b[0m\u001b[37m\u001b[0m \u001b[1m0s\u001b[0m 5ms/step - accuracy: 0.9544 - loss: 0.3320 - val_accuracy: 0.8030 - val_loss: 1.1881\n",
            "Epoch 43/200\n",
            "\u001b[1m16/16\u001b[0m \u001b[32m━━━━━━━━━━━━━━━━━━━━\u001b[0m\u001b[37m\u001b[0m \u001b[1m0s\u001b[0m 5ms/step - accuracy: 0.9533 - loss: 0.3283 - val_accuracy: 0.8020 - val_loss: 1.1866\n",
            "Epoch 44/200\n",
            "\u001b[1m16/16\u001b[0m \u001b[32m━━━━━━━━━━━━━━━━━━━━\u001b[0m\u001b[37m\u001b[0m \u001b[1m0s\u001b[0m 5ms/step - accuracy: 0.9539 - loss: 0.3238 - val_accuracy: 0.8010 - val_loss: 1.1867\n",
            "Epoch 45/200\n",
            "\u001b[1m16/16\u001b[0m \u001b[32m━━━━━━━━━━━━━━━━━━━━\u001b[0m\u001b[37m\u001b[0m \u001b[1m0s\u001b[0m 6ms/step - accuracy: 0.9542 - loss: 0.3211 - val_accuracy: 0.8030 - val_loss: 1.1896\n",
            "Epoch 46/200\n",
            "\u001b[1m16/16\u001b[0m \u001b[32m━━━━━━━━━━━━━━━━━━━━\u001b[0m\u001b[37m\u001b[0m \u001b[1m0s\u001b[0m 6ms/step - accuracy: 0.9545 - loss: 0.3170 - val_accuracy: 0.8020 - val_loss: 1.1837\n",
            "Epoch 47/200\n",
            "\u001b[1m16/16\u001b[0m \u001b[32m━━━━━━━━━━━━━━━━━━━━\u001b[0m\u001b[37m\u001b[0m \u001b[1m0s\u001b[0m 5ms/step - accuracy: 0.9536 - loss: 0.3150 - val_accuracy: 0.8020 - val_loss: 1.1818\n",
            "Epoch 48/200\n",
            "\u001b[1m16/16\u001b[0m \u001b[32m━━━━━━━━━━━━━━━━━━━━\u001b[0m\u001b[37m\u001b[0m \u001b[1m0s\u001b[0m 5ms/step - accuracy: 0.9545 - loss: 0.3127 - val_accuracy: 0.8030 - val_loss: 1.1768\n",
            "Epoch 49/200\n",
            "\u001b[1m16/16\u001b[0m \u001b[32m━━━━━━━━━━━━━━━━━━━━\u001b[0m\u001b[37m\u001b[0m \u001b[1m0s\u001b[0m 5ms/step - accuracy: 0.9542 - loss: 0.3081 - val_accuracy: 0.7990 - val_loss: 1.1788\n",
            "Epoch 50/200\n",
            "\u001b[1m16/16\u001b[0m \u001b[32m━━━━━━━━━━━━━━━━━━━━\u001b[0m\u001b[37m\u001b[0m \u001b[1m0s\u001b[0m 5ms/step - accuracy: 0.9539 - loss: 0.3058 - val_accuracy: 0.8000 - val_loss: 1.1798\n",
            "Epoch 51/200\n",
            "\u001b[1m16/16\u001b[0m \u001b[32m━━━━━━━━━━━━━━━━━━━━\u001b[0m\u001b[37m\u001b[0m \u001b[1m0s\u001b[0m 6ms/step - accuracy: 0.9547 - loss: 0.3032 - val_accuracy: 0.8010 - val_loss: 1.1767\n",
            "Epoch 52/200\n",
            "\u001b[1m16/16\u001b[0m \u001b[32m━━━━━━━━━━━━━━━━━━━━\u001b[0m\u001b[37m\u001b[0m \u001b[1m0s\u001b[0m 5ms/step - accuracy: 0.9546 - loss: 0.3012 - val_accuracy: 0.7990 - val_loss: 1.1749\n",
            "Epoch 53/200\n",
            "\u001b[1m16/16\u001b[0m \u001b[32m━━━━━━━━━━━━━━━━━━━━\u001b[0m\u001b[37m\u001b[0m \u001b[1m0s\u001b[0m 5ms/step - accuracy: 0.9533 - loss: 0.2996 - val_accuracy: 0.7960 - val_loss: 1.1748\n",
            "Epoch 54/200\n",
            "\u001b[1m16/16\u001b[0m \u001b[32m━━━━━━━━━━━━━━━━━━━━\u001b[0m\u001b[37m\u001b[0m \u001b[1m0s\u001b[0m 5ms/step - accuracy: 0.9539 - loss: 0.2956 - val_accuracy: 0.8010 - val_loss: 1.1739\n",
            "Epoch 55/200\n",
            "\u001b[1m16/16\u001b[0m \u001b[32m━━━━━━━━━━━━━━━━━━━━\u001b[0m\u001b[37m\u001b[0m \u001b[1m0s\u001b[0m 5ms/step - accuracy: 0.9553 - loss: 0.2948 - val_accuracy: 0.7970 - val_loss: 1.1729\n",
            "Epoch 56/200\n",
            "\u001b[1m16/16\u001b[0m \u001b[32m━━━━━━━━━━━━━━━━━━━━\u001b[0m\u001b[37m\u001b[0m \u001b[1m0s\u001b[0m 5ms/step - accuracy: 0.9547 - loss: 0.2915 - val_accuracy: 0.7960 - val_loss: 1.1748\n",
            "Epoch 57/200\n",
            "\u001b[1m16/16\u001b[0m \u001b[32m━━━━━━━━━━━━━━━━━━━━\u001b[0m\u001b[37m\u001b[0m \u001b[1m0s\u001b[0m 4ms/step - accuracy: 0.9538 - loss: 0.2900 - val_accuracy: 0.7990 - val_loss: 1.1702\n",
            "Epoch 58/200\n",
            "\u001b[1m16/16\u001b[0m \u001b[32m━━━━━━━━━━━━━━━━━━━━\u001b[0m\u001b[37m\u001b[0m \u001b[1m0s\u001b[0m 5ms/step - accuracy: 0.9544 - loss: 0.2877 - val_accuracy: 0.7940 - val_loss: 1.1753\n",
            "Epoch 59/200\n",
            "\u001b[1m16/16\u001b[0m \u001b[32m━━━━━━━━━━━━━━━━━━━━\u001b[0m\u001b[37m\u001b[0m \u001b[1m0s\u001b[0m 5ms/step - accuracy: 0.9538 - loss: 0.2855 - val_accuracy: 0.7950 - val_loss: 1.1756\n",
            "Epoch 60/200\n",
            "\u001b[1m16/16\u001b[0m \u001b[32m━━━━━━━━━━━━━━━━━━━━\u001b[0m\u001b[37m\u001b[0m \u001b[1m0s\u001b[0m 5ms/step - accuracy: 0.9555 - loss: 0.2819 - val_accuracy: 0.7950 - val_loss: 1.1729\n"
          ]
        }
      ],
      "source": [
        "history_3layers_reg_l1 = fit_model(model_3layers_reg_l1, partial_x_train, partial_y_train, x_val, y_val, epochs=200)"
      ]
    },
    {
      "cell_type": "code",
      "execution_count": 59,
      "metadata": {},
      "outputs": [
        {
          "name": "stdout",
          "output_type": "stream",
          "text": [
            "\u001b[1m71/71\u001b[0m \u001b[32m━━━━━━━━━━━━━━━━━━━━\u001b[0m\u001b[37m\u001b[0m \u001b[1m0s\u001b[0m 1ms/step - accuracy: 0.7847 - loss: 1.0939\n"
          ]
        },
        {
          "data": {
            "text/plain": [
              "[1.151314377784729, 0.7724844217300415]"
            ]
          },
          "execution_count": 59,
          "metadata": {},
          "output_type": "execute_result"
        }
      ],
      "source": [
        "# Evaluate model: test loss and accuracy\n",
        "model_3layers_reg_l1.evaluate(x_test, one_hot_test_labels)"
      ]
    },
    {
      "cell_type": "markdown",
      "metadata": {},
      "source": [
        "Arquitetura com regularização L2"
      ]
    },
    {
      "cell_type": "code",
      "execution_count": 60,
      "metadata": {},
      "outputs": [],
      "source": [
        "reg_weight = 10e-6\n",
        "architecture_3layers_reg_l2 = {\n",
        "    'layers': [\n",
        "        {'units': 32, 'activation': 'relu',\n",
        "         'kernel_regularizer': regularizers.L2(reg_weight), 'activity_regularizer': regularizers.L2(reg_weight),\n",
        "         'input_shape': (10000,)},\n",
        "        {'units': 32, 'activation': 'relu',\n",
        "         'kernel_regularizer': regularizers.L2(reg_weight), 'activity_regularizer': regularizers.L2(reg_weight)\n",
        "         },\n",
        "        {'units': 32, 'activation': 'relu',\n",
        "         'kernel_regularizer': regularizers.L2(reg_weight), 'activity_regularizer': regularizers.L2(reg_weight)},\n",
        "        {'units': 46, 'activation': 'softmax'}\n",
        "    ],\n",
        "    'loss': 'categorical_crossentropy',\n",
        "    'optimizer': 'rmsprop',\n",
        "    'metrics': ['accuracy']\n",
        "} "
      ]
    },
    {
      "cell_type": "code",
      "execution_count": 61,
      "metadata": {},
      "outputs": [],
      "source": [
        "model_3layers_reg_l2 = create_model(architecture_3layers_reg_l2)"
      ]
    },
    {
      "cell_type": "code",
      "execution_count": 62,
      "metadata": {},
      "outputs": [
        {
          "name": "stdout",
          "output_type": "stream",
          "text": [
            "Epoch 1/200\n",
            "\u001b[1m16/16\u001b[0m \u001b[32m━━━━━━━━━━━━━━━━━━━━\u001b[0m\u001b[37m\u001b[0m \u001b[1m1s\u001b[0m 13ms/step - accuracy: 0.2741 - loss: 3.5950 - val_accuracy: 0.4900 - val_loss: 2.7907\n",
            "Epoch 2/200\n",
            "\u001b[1m16/16\u001b[0m \u001b[32m━━━━━━━━━━━━━━━━━━━━\u001b[0m\u001b[37m\u001b[0m \u001b[1m0s\u001b[0m 6ms/step - accuracy: 0.5338 - loss: 2.5700 - val_accuracy: 0.5930 - val_loss: 2.1930\n",
            "Epoch 3/200\n",
            "\u001b[1m16/16\u001b[0m \u001b[32m━━━━━━━━━━━━━━━━━━━━\u001b[0m\u001b[37m\u001b[0m \u001b[1m0s\u001b[0m 5ms/step - accuracy: 0.6342 - loss: 2.0307 - val_accuracy: 0.6530 - val_loss: 1.9142\n",
            "Epoch 4/200\n",
            "\u001b[1m16/16\u001b[0m \u001b[32m━━━━━━━━━━━━━━━━━━━━\u001b[0m\u001b[37m\u001b[0m \u001b[1m0s\u001b[0m 6ms/step - accuracy: 0.6955 - loss: 1.7372 - val_accuracy: 0.6830 - val_loss: 1.7647\n",
            "Epoch 5/200\n",
            "\u001b[1m16/16\u001b[0m \u001b[32m━━━━━━━━━━━━━━━━━━━━\u001b[0m\u001b[37m\u001b[0m \u001b[1m0s\u001b[0m 6ms/step - accuracy: 0.7357 - loss: 1.5385 - val_accuracy: 0.7050 - val_loss: 1.6194\n",
            "Epoch 6/200\n",
            "\u001b[1m16/16\u001b[0m \u001b[32m━━━━━━━━━━━━━━━━━━━━\u001b[0m\u001b[37m\u001b[0m \u001b[1m0s\u001b[0m 6ms/step - accuracy: 0.7652 - loss: 1.3771 - val_accuracy: 0.7250 - val_loss: 1.5152\n",
            "Epoch 7/200\n",
            "\u001b[1m16/16\u001b[0m \u001b[32m━━━━━━━━━━━━━━━━━━━━\u001b[0m\u001b[37m\u001b[0m \u001b[1m0s\u001b[0m 5ms/step - accuracy: 0.7920 - loss: 1.2482 - val_accuracy: 0.7360 - val_loss: 1.4482\n",
            "Epoch 8/200\n",
            "\u001b[1m16/16\u001b[0m \u001b[32m━━━━━━━━━━━━━━━━━━━━\u001b[0m\u001b[37m\u001b[0m \u001b[1m0s\u001b[0m 5ms/step - accuracy: 0.8077 - loss: 1.1355 - val_accuracy: 0.7500 - val_loss: 1.3858\n",
            "Epoch 9/200\n",
            "\u001b[1m16/16\u001b[0m \u001b[32m━━━━━━━━━━━━━━━━━━━━\u001b[0m\u001b[37m\u001b[0m \u001b[1m0s\u001b[0m 5ms/step - accuracy: 0.8166 - loss: 1.0455 - val_accuracy: 0.7480 - val_loss: 1.3519\n",
            "Epoch 10/200\n",
            "\u001b[1m16/16\u001b[0m \u001b[32m━━━━━━━━━━━━━━━━━━━━\u001b[0m\u001b[37m\u001b[0m \u001b[1m0s\u001b[0m 6ms/step - accuracy: 0.8272 - loss: 0.9692 - val_accuracy: 0.7540 - val_loss: 1.3076\n",
            "Epoch 11/200\n",
            "\u001b[1m16/16\u001b[0m \u001b[32m━━━━━━━━━━━━━━━━━━━━\u001b[0m\u001b[37m\u001b[0m \u001b[1m0s\u001b[0m 6ms/step - accuracy: 0.8359 - loss: 0.8966 - val_accuracy: 0.7660 - val_loss: 1.2726\n",
            "Epoch 12/200\n",
            "\u001b[1m16/16\u001b[0m \u001b[32m━━━━━━━━━━━━━━━━━━━━\u001b[0m\u001b[37m\u001b[0m \u001b[1m0s\u001b[0m 5ms/step - accuracy: 0.8454 - loss: 0.8363 - val_accuracy: 0.7680 - val_loss: 1.2492\n",
            "Epoch 13/200\n",
            "\u001b[1m16/16\u001b[0m \u001b[32m━━━━━━━━━━━━━━━━━━━━\u001b[0m\u001b[37m\u001b[0m \u001b[1m0s\u001b[0m 5ms/step - accuracy: 0.8573 - loss: 0.7808 - val_accuracy: 0.7760 - val_loss: 1.2250\n",
            "Epoch 14/200\n",
            "\u001b[1m16/16\u001b[0m \u001b[32m━━━━━━━━━━━━━━━━━━━━\u001b[0m\u001b[37m\u001b[0m \u001b[1m0s\u001b[0m 5ms/step - accuracy: 0.8683 - loss: 0.7345 - val_accuracy: 0.7730 - val_loss: 1.2172\n",
            "Epoch 15/200\n",
            "\u001b[1m16/16\u001b[0m \u001b[32m━━━━━━━━━━━━━━━━━━━━\u001b[0m\u001b[37m\u001b[0m \u001b[1m0s\u001b[0m 5ms/step - accuracy: 0.8760 - loss: 0.6919 - val_accuracy: 0.7840 - val_loss: 1.1962\n",
            "Epoch 16/200\n",
            "\u001b[1m16/16\u001b[0m \u001b[32m━━━━━━━━━━━━━━━━━━━━\u001b[0m\u001b[37m\u001b[0m \u001b[1m0s\u001b[0m 6ms/step - accuracy: 0.8835 - loss: 0.6491 - val_accuracy: 0.7830 - val_loss: 1.1865\n",
            "Epoch 17/200\n",
            "\u001b[1m16/16\u001b[0m \u001b[32m━━━━━━━━━━━━━━━━━━━━\u001b[0m\u001b[37m\u001b[0m \u001b[1m0s\u001b[0m 6ms/step - accuracy: 0.8897 - loss: 0.6129 - val_accuracy: 0.7840 - val_loss: 1.1784\n",
            "Epoch 18/200\n",
            "\u001b[1m16/16\u001b[0m \u001b[32m━━━━━━━━━━━━━━━━━━━━\u001b[0m\u001b[37m\u001b[0m \u001b[1m0s\u001b[0m 5ms/step - accuracy: 0.8962 - loss: 0.5785 - val_accuracy: 0.7820 - val_loss: 1.1698\n",
            "Epoch 19/200\n",
            "\u001b[1m16/16\u001b[0m \u001b[32m━━━━━━━━━━━━━━━━━━━━\u001b[0m\u001b[37m\u001b[0m \u001b[1m0s\u001b[0m 5ms/step - accuracy: 0.9057 - loss: 0.5471 - val_accuracy: 0.7820 - val_loss: 1.1670\n",
            "Epoch 20/200\n",
            "\u001b[1m16/16\u001b[0m \u001b[32m━━━━━━━━━━━━━━━━━━━━\u001b[0m\u001b[37m\u001b[0m \u001b[1m0s\u001b[0m 4ms/step - accuracy: 0.9128 - loss: 0.5174 - val_accuracy: 0.7840 - val_loss: 1.1566\n",
            "Epoch 21/200\n",
            "\u001b[1m16/16\u001b[0m \u001b[32m━━━━━━━━━━━━━━━━━━━━\u001b[0m\u001b[37m\u001b[0m \u001b[1m0s\u001b[0m 5ms/step - accuracy: 0.9208 - loss: 0.4938 - val_accuracy: 0.7820 - val_loss: 1.1528\n",
            "Epoch 22/200\n",
            "\u001b[1m16/16\u001b[0m \u001b[32m━━━━━━━━━━━━━━━━━━━━\u001b[0m\u001b[37m\u001b[0m \u001b[1m0s\u001b[0m 5ms/step - accuracy: 0.9268 - loss: 0.4676 - val_accuracy: 0.7870 - val_loss: 1.1464\n",
            "Epoch 23/200\n",
            "\u001b[1m16/16\u001b[0m \u001b[32m━━━━━━━━━━━━━━━━━━━━\u001b[0m\u001b[37m\u001b[0m \u001b[1m0s\u001b[0m 6ms/step - accuracy: 0.9295 - loss: 0.4444 - val_accuracy: 0.7810 - val_loss: 1.1392\n",
            "Epoch 24/200\n",
            "\u001b[1m16/16\u001b[0m \u001b[32m━━━━━━━━━━━━━━━━━━━━\u001b[0m\u001b[37m\u001b[0m \u001b[1m0s\u001b[0m 5ms/step - accuracy: 0.9341 - loss: 0.4241 - val_accuracy: 0.7850 - val_loss: 1.1320\n",
            "Epoch 25/200\n",
            "\u001b[1m16/16\u001b[0m \u001b[32m━━━━━━━━━━━━━━━━━━━━\u001b[0m\u001b[37m\u001b[0m \u001b[1m0s\u001b[0m 5ms/step - accuracy: 0.9374 - loss: 0.4060 - val_accuracy: 0.7840 - val_loss: 1.1309\n",
            "Epoch 26/200\n",
            "\u001b[1m16/16\u001b[0m \u001b[32m━━━━━━━━━━━━━━━━━━━━\u001b[0m\u001b[37m\u001b[0m \u001b[1m0s\u001b[0m 5ms/step - accuracy: 0.9401 - loss: 0.3894 - val_accuracy: 0.7810 - val_loss: 1.1307\n",
            "Epoch 27/200\n",
            "\u001b[1m16/16\u001b[0m \u001b[32m━━━━━━━━━━━━━━━━━━━━\u001b[0m\u001b[37m\u001b[0m \u001b[1m0s\u001b[0m 5ms/step - accuracy: 0.9421 - loss: 0.3757 - val_accuracy: 0.7840 - val_loss: 1.1205\n",
            "Epoch 28/200\n",
            "\u001b[1m16/16\u001b[0m \u001b[32m━━━━━━━━━━━━━━━━━━━━\u001b[0m\u001b[37m\u001b[0m \u001b[1m0s\u001b[0m 5ms/step - accuracy: 0.9449 - loss: 0.3627 - val_accuracy: 0.7840 - val_loss: 1.1160\n",
            "Epoch 29/200\n",
            "\u001b[1m16/16\u001b[0m \u001b[32m━━━━━━━━━━━━━━━━━━━━\u001b[0m\u001b[37m\u001b[0m \u001b[1m0s\u001b[0m 5ms/step - accuracy: 0.9462 - loss: 0.3497 - val_accuracy: 0.7860 - val_loss: 1.1140\n",
            "Epoch 30/200\n",
            "\u001b[1m16/16\u001b[0m \u001b[32m━━━━━━━━━━━━━━━━━━━━\u001b[0m\u001b[37m\u001b[0m \u001b[1m0s\u001b[0m 5ms/step - accuracy: 0.9472 - loss: 0.3377 - val_accuracy: 0.7880 - val_loss: 1.1109\n",
            "Epoch 31/200\n",
            "\u001b[1m16/16\u001b[0m \u001b[32m━━━━━━━━━━━━━━━━━━━━\u001b[0m\u001b[37m\u001b[0m \u001b[1m0s\u001b[0m 5ms/step - accuracy: 0.9475 - loss: 0.3273 - val_accuracy: 0.7840 - val_loss: 1.1108\n",
            "Epoch 32/200\n",
            "\u001b[1m16/16\u001b[0m \u001b[32m━━━━━━━━━━━━━━━━━━━━\u001b[0m\u001b[37m\u001b[0m \u001b[1m0s\u001b[0m 5ms/step - accuracy: 0.9497 - loss: 0.3163 - val_accuracy: 0.7850 - val_loss: 1.1105\n",
            "Epoch 33/200\n",
            "\u001b[1m16/16\u001b[0m \u001b[32m━━━━━━━━━━━━━━━━━━━━\u001b[0m\u001b[37m\u001b[0m \u001b[1m0s\u001b[0m 5ms/step - accuracy: 0.9498 - loss: 0.3079 - val_accuracy: 0.7830 - val_loss: 1.1077\n",
            "Epoch 34/200\n",
            "\u001b[1m16/16\u001b[0m \u001b[32m━━━━━━━━━━━━━━━━━━━━\u001b[0m\u001b[37m\u001b[0m \u001b[1m0s\u001b[0m 5ms/step - accuracy: 0.9509 - loss: 0.2994 - val_accuracy: 0.7870 - val_loss: 1.1115\n",
            "Epoch 35/200\n",
            "\u001b[1m16/16\u001b[0m \u001b[32m━━━━━━━━━━━━━━━━━━━━\u001b[0m\u001b[37m\u001b[0m \u001b[1m0s\u001b[0m 5ms/step - accuracy: 0.9512 - loss: 0.2915 - val_accuracy: 0.7870 - val_loss: 1.1057\n",
            "Epoch 36/200\n",
            "\u001b[1m16/16\u001b[0m \u001b[32m━━━━━━━━━━━━━━━━━━━━\u001b[0m\u001b[37m\u001b[0m \u001b[1m0s\u001b[0m 5ms/step - accuracy: 0.9531 - loss: 0.2845 - val_accuracy: 0.7880 - val_loss: 1.1096\n",
            "Epoch 37/200\n",
            "\u001b[1m16/16\u001b[0m \u001b[32m━━━━━━━━━━━━━━━━━━━━\u001b[0m\u001b[37m\u001b[0m \u001b[1m0s\u001b[0m 5ms/step - accuracy: 0.9529 - loss: 0.2773 - val_accuracy: 0.7860 - val_loss: 1.1029\n",
            "Epoch 38/200\n",
            "\u001b[1m16/16\u001b[0m \u001b[32m━━━━━━━━━━━━━━━━━━━━\u001b[0m\u001b[37m\u001b[0m \u001b[1m0s\u001b[0m 5ms/step - accuracy: 0.9546 - loss: 0.2701 - val_accuracy: 0.7870 - val_loss: 1.1111\n",
            "Epoch 39/200\n",
            "\u001b[1m16/16\u001b[0m \u001b[32m━━━━━━━━━━━━━━━━━━━━\u001b[0m\u001b[37m\u001b[0m \u001b[1m0s\u001b[0m 5ms/step - accuracy: 0.9528 - loss: 0.2656 - val_accuracy: 0.7850 - val_loss: 1.1069\n",
            "Epoch 40/200\n",
            "\u001b[1m16/16\u001b[0m \u001b[32m━━━━━━━━━━━━━━━━━━━━\u001b[0m\u001b[37m\u001b[0m \u001b[1m0s\u001b[0m 6ms/step - accuracy: 0.9545 - loss: 0.2607 - val_accuracy: 0.7880 - val_loss: 1.1110\n"
          ]
        }
      ],
      "source": [
        "history_3layers_reg_l2 = fit_model(model_3layers_reg_l2, partial_x_train, partial_y_train, x_val, y_val, epochs=200)"
      ]
    },
    {
      "cell_type": "code",
      "execution_count": 63,
      "metadata": {},
      "outputs": [
        {
          "name": "stdout",
          "output_type": "stream",
          "text": [
            "\u001b[1m71/71\u001b[0m \u001b[32m━━━━━━━━━━━━━━━━━━━━\u001b[0m\u001b[37m\u001b[0m \u001b[1m0s\u001b[0m 863us/step - accuracy: 0.7813 - loss: 1.0558\n"
          ]
        },
        {
          "data": {
            "text/plain": [
              "[1.1248080730438232, 0.7666963338851929]"
            ]
          },
          "execution_count": 63,
          "metadata": {},
          "output_type": "execute_result"
        }
      ],
      "source": [
        "model_3layers_reg_l2.evaluate(x_test, one_hot_test_labels)"
      ]
    },
    {
      "cell_type": "code",
      "execution_count": 65,
      "metadata": {},
      "outputs": [
        {
          "name": "stdout",
          "output_type": "stream",
          "text": [
            "\u001b[1m71/71\u001b[0m \u001b[32m━━━━━━━━━━━━━━━━━━━━\u001b[0m\u001b[37m\u001b[0m \u001b[1m0s\u001b[0m 1ms/step\n",
            "\u001b[1m71/71\u001b[0m \u001b[32m━━━━━━━━━━━━━━━━━━━━\u001b[0m\u001b[37m\u001b[0m \u001b[1m0s\u001b[0m 852us/step\n",
            "\u001b[1m71/71\u001b[0m \u001b[32m━━━━━━━━━━━━━━━━━━━━\u001b[0m\u001b[37m\u001b[0m \u001b[1m0s\u001b[0m 778us/step\n",
            "\u001b[1m71/71\u001b[0m \u001b[32m━━━━━━━━━━━━━━━━━━━━\u001b[0m\u001b[37m\u001b[0m \u001b[1m0s\u001b[0m 860us/step\n"
          ]
        },
        {
          "data": {
            "image/png": "[encoded data removed]",
            "text/plain": [
              "<Figure size 640x480 with 1 Axes>"
            ]
          },
          "metadata": {},
          "output_type": "display_data"
        }
      ],
      "source": [
        "n_layers_models = [model_1layer, model_3layers, model_3layers_reg_l1, model_3layers_reg_l2]\n",
        "n_layers_labels = ['1 Layer', '3 Layers', '3 Layers + L1 Regularization','3 Layers + L2 Regularization']\n",
        "plot_bar_stats_chart(n_layers_models, n_layers_labels, x_test, y_test,\n",
        "                        title='Número de camadas x Performance', save_path='./img/comparacao_n_camadas.png')"
      ]
    },
    {
      "cell_type": "code",
      "execution_count": 66,
      "metadata": {},
      "outputs": [
        {
          "name": "stdout",
          "output_type": "stream",
          "text": [
            "\u001b[1m71/71\u001b[0m \u001b[32m━━━━━━━━━━━━━━━━━━━━\u001b[0m\u001b[37m\u001b[0m \u001b[1m0s\u001b[0m 869us/step\n",
            "\u001b[1m71/71\u001b[0m \u001b[32m━━━━━━━━━━━━━━━━━━━━\u001b[0m\u001b[37m\u001b[0m \u001b[1m0s\u001b[0m 775us/step\n",
            "\u001b[1m71/71\u001b[0m \u001b[32m━━━━━━━━━━━━━━━━━━━━\u001b[0m\u001b[37m\u001b[0m \u001b[1m0s\u001b[0m 784us/step\n",
            "\u001b[1m71/71\u001b[0m \u001b[32m━━━━━━━━━━━━━━━━━━━━\u001b[0m\u001b[37m\u001b[0m \u001b[1m0s\u001b[0m 879us/step\n"
          ]
        },
        {
          "data": {
            "text/html": [
              "<div>\n",
              "<style scoped>\n",
              "    .dataframe tbody tr th:only-of-type {\n",
              "        vertical-align: middle;\n",
              "    }\n",
              "\n",
              "    .dataframe tbody tr th {\n",
              "        vertical-align: top;\n",
              "    }\n",
              "\n",
              "    .dataframe thead th {\n",
              "        text-align: right;\n",
              "    }\n",
              "</style>\n",
              "<table border=\"1\" class=\"dataframe\">\n",
              "  <thead>\n",
              "    <tr style=\"text-align: right;\">\n",
              "      <th></th>\n",
              "      <th>accuracy</th>\n",
              "      <th>f1_score</th>\n",
              "      <th>roc_auc_score</th>\n",
              "    </tr>\n",
              "  </thead>\n",
              "  <tbody>\n",
              "    <tr>\n",
              "      <th>1 Layer</th>\n",
              "      <td>0.797</td>\n",
              "      <td>0.785</td>\n",
              "      <td>0.958</td>\n",
              "    </tr>\n",
              "    <tr>\n",
              "      <th>3 Layers</th>\n",
              "      <td>0.776</td>\n",
              "      <td>0.756</td>\n",
              "      <td>0.954</td>\n",
              "    </tr>\n",
              "    <tr>\n",
              "      <th>3 Layers + L1 Regularization</th>\n",
              "      <td>0.772</td>\n",
              "      <td>0.763</td>\n",
              "      <td>0.948</td>\n",
              "    </tr>\n",
              "    <tr>\n",
              "      <th>3 Layers + L2 Regularization</th>\n",
              "      <td>0.767</td>\n",
              "      <td>0.753</td>\n",
              "      <td>0.942</td>\n",
              "    </tr>\n",
              "  </tbody>\n",
              "</table>\n",
              "</div>"
            ],
            "text/plain": [
              "                              accuracy  f1_score  roc_auc_score\n",
              "1 Layer                          0.797     0.785          0.958\n",
              "3 Layers                         0.776     0.756          0.954\n",
              "3 Layers + L1 Regularization     0.772     0.763          0.948\n",
              "3 Layers + L2 Regularization     0.767     0.753          0.942"
            ]
          },
          "execution_count": 66,
          "metadata": {},
          "output_type": "execute_result"
        }
      ],
      "source": [
        "generate_model_stats_table(n_layers_models, n_layers_labels, x_test, y_test, precision=3)"
      ]
    },
    {
      "cell_type": "markdown",
      "metadata": {},
      "source": [
        "Os modelos com 3 camadas ocultas + regularização (L1 e L2) tiveram uma acurácia um pior que o modelo com 3 camadas ocultas sem regularização. Isso demonstra que regulaziação nem sempre é a solução para overfitting e que é necessário testar diferentes arquiteturas para encontrar a melhor solução.\n",
        "\n",
        "Um ponto importante também é que baseando-se na métrica `roc_auc_score`, o modelo com 1 camada oculta obteve o melhor resultado, o que indica que ele pode ser o mais adequado para esse problema.\n",
        "\n",
        "| Arquitetura                     | accuracy | f1_score | roc_auc_score |\n",
        "|---------------------------------|----------|----------|---------------|\n",
        "| 1 Camada                        | 79.7%    | 78.5%    | 95.8%         |\n",
        "| 3 Camadas                       | 77.6%    | 75.6%    | 95.4%         |\n",
        "| 3 Camadas + Regularização L1    | 77.2%    | 76.3%    | 94.8%         |\n",
        "| 3 Camadas + Regularização L2    | 76.7%    | 75.3%    | 94.2%         |"
      ]
    }
  ],
  "metadata": {
    "colab": {
      "provenance": []
    },
    "kernelspec": {
      "display_name": "Python 3",
      "name": "python3"
    },
    "language_info": {
      "codemirror_mode": {
        "name": "ipython",
        "version": 3
      },
      "file_extension": ".py",
      "mimetype": "text/x-python",
      "name": "python",
      "nbconvert_exporter": "python",
      "pygments_lexer": "ipython3",
      "version": "3.9.13"
    }
  },
  "nbformat": 4,
  "nbformat_minor": 0
}
