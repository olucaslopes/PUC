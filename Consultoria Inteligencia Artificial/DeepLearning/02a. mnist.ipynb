{
 "nbformat": 4,
 "nbformat_minor": 0,
 "metadata": {
  "colab": {
   "provenance": []
  },
  "kernelspec": {
   "name": "python3",
   "language": "python",
   "display_name": "Python 3 (ipykernel)"
  },
  "language_info": {
   "name": "python"
  }
 },
 "cells": [
  {
   "cell_type": "code",
   "execution_count": 3,
   "metadata": {
    "colab": {
     "base_uri": "https://localhost:8080/",
     "height": 552
    },
    "id": "r4yvH0LHSAfW",
    "outputId": "feea4112-cecd-41fa-852d-3fd63650890b",
    "ExecuteTime": {
     "end_time": "2024-03-15T12:21:20.116197Z",
     "start_time": "2024-03-15T12:21:18.850218Z"
    }
   },
   "outputs": [
    {
     "name": "stdout",
     "output_type": "stream",
     "text": [
      "(60000, 28, 28)\n",
      "60000\n",
      "[5 0 4 ... 5 6 8]\n",
      "uint8\n",
      "(10000, 28, 28)\n",
      "10000\n",
      "[7 2 1 ... 4 5 6]\n"
     ]
    },
    {
     "data": {
      "text/plain": "<Figure size 640x480 with 1 Axes>",
      "image/png": "[encoded data removed]"
     },
     "metadata": {},
     "output_type": "display_data"
    }
   ],
   "source": [
    "### Loading the MNIST dataset in Keras\n",
    "\n",
    "from keras.datasets import mnist\n",
    "\n",
    "#loading the training set and the test set\n",
    "(train_images, train_labels), (test_images, test_labels) = mnist.load_data()\n",
    "\n",
    "#looking at the training set\n",
    "print(train_images.shape)\n",
    "print(len(train_labels))\n",
    "print(train_labels)\n",
    "print(train_images.dtype)\n",
    "\n",
    "#looking at the test set\n",
    "print(test_images.shape)\n",
    "print(len(test_labels))\n",
    "print(test_labels)\n",
    "\n",
    "#displaying the fourth digit\n",
    "digit = train_images[4]\n",
    "import matplotlib.pyplot as plt\n",
    "plt.imshow(digit, cmap=plt.cm.binary)\n",
    "plt.show()"
   ]
  },
  {
   "cell_type": "code",
   "source": [
    "### The network architecture\n",
    "from keras import Input\n",
    "from keras import models\n",
    "from keras import layers\n",
    "\n",
    "network = models.Sequential()\n",
    "# Uma camada densa significa que todos os neuronios da camada anterior estão conectados com todos os neuronios da camada atual\n",
    "network.add(Input(shape=(28 * 28,)))  # Specify the input shape here\n",
    "network.add(layers.Dense(512, activation='relu'))\n",
    "network.add(layers.Dense(10, activation='softmax'))"
   ],
   "metadata": {
    "id": "C-VIzs3QUxez",
    "ExecuteTime": {
     "end_time": "2024-03-15T12:21:20.211570Z",
     "start_time": "2024-03-15T12:21:20.116197Z"
    }
   },
   "execution_count": 4,
   "outputs": []
  },
  {
   "cell_type": "markdown",
   "source": [
    "**Camadas** extraem **representações** dos dados - idealmente, representações mais significativas para o problema em questão. A maior parte do aprendizado profundo consiste em encadear camadas simples que implementarão uma forma de **destilação** progressiva de dados. Um modelo de aprendizado profundo é como uma peneira para processamento de dados, feito de uma sucessão de filtros de dados - as camadas - cada vez mais refinados.\n",
    "\n",
    "Aqui, nossa rede consiste em uma sequência de duas camadas `Dense`, que são camadas neurais densamente conectadas (também chamadas de **totalmente conectadas**). A segunda (e última) camada é uma camada **softmax** de 10 vias, o que significa que ela retornará uma matriz de 10 pontuações de probabilidade (somando 1). Cada pontuação será a probabilidade de que a imagem atual do dígito pertença a uma de nossas 10 classes de dígitos.\n",
    "\n",
    "Para preparar a rede para o treinamento, precisamos escolher mais três coisas como parte da etapa de compilação:\n",
    "- **Função de perda (loss function)**: como a rede será capaz de medir seu desempenho nos dados de treinamento e, assim, como ela será capaz de se orientar na direção certa.\n",
    "- **Otimizador (optimizer)**: o mecanismo por meio do qual a rede se atualizará com base nos dados que ela vê e em sua função de perda.\n",
    "- **Métricas para monitorar durante o treinamento e teste**: Aqui, nos importaremos apenas com a precisão (a fração das imagens que foram classificadas corretamente)."
   ],
   "metadata": {
    "id": "XXTc2VwXVPyN"
   }
  },
  {
   "cell_type": "code",
   "source": [
    "### The compilation step\n",
    "network.compile(optimizer='rmsprop', loss='categorical_crossentropy', metrics=['accuracy'])"
   ],
   "metadata": {
    "id": "A2eJMUXGXpNm",
    "ExecuteTime": {
     "end_time": "2024-03-15T12:21:20.723218Z",
     "start_time": "2024-03-15T12:21:20.707336Z"
    }
   },
   "execution_count": 5,
   "outputs": []
  },
  {
   "cell_type": "markdown",
   "source": [
    "Antes do treinamento, pré-processaremos os dados remodelando-os na forma que a rede espera e dimensionando-os para que todos os valores estejam no intervalo `[0, 1]`. Anteriormente, nossas imagens de treinamento, por exemplo, eram armazenadas em uma matriz de dimensão `(60000, 28, 28)` do tipo `uint8` com valores no intervalo `[0, 255]`. Transformamos isso em uma matriz `float32` de dimensão `(60000, 28 * 28)` com valores entre 0 e 1."
   ],
   "metadata": {
    "id": "Aqyo1k6tX1cB"
   }
  },
  {
   "cell_type": "code",
   "source": [
    "### Preparing the image data\n",
    "\n",
    "train_images = train_images.reshape((60000, 28 * 28))\n",
    "train_images = train_images.astype('float32') / 255\n",
    "test_images = test_images.reshape((10000, 28 * 28))\n",
    "test_images = test_images.astype('float32') / 255"
   ],
   "metadata": {
    "id": "RJmiB8uqYTCi",
    "ExecuteTime": {
     "end_time": "2024-03-15T12:21:22.417835Z",
     "start_time": "2024-03-15T12:21:22.269575Z"
    }
   },
   "execution_count": 6,
   "outputs": []
  },
  {
   "cell_type": "markdown",
   "source": [
    "Também precisamos codificar categoricamente os rótulos, um passo que será explicado em momento oportuno."
   ],
   "metadata": {
    "id": "XiGPwSzIYjjz"
   }
  },
  {
   "cell_type": "code",
   "source": [
    "### Preparing the labels\n",
    "\n",
    "from tensorflow.keras.utils import to_categorical\n",
    "train_labels = to_categorical(train_labels)\n",
    "test_labels = to_categorical(test_labels)"
   ],
   "metadata": {
    "id": "WFpzfhFhYwEz",
    "ExecuteTime": {
     "end_time": "2024-03-15T12:21:24.113084Z",
     "start_time": "2024-03-15T12:21:24.102698Z"
    }
   },
   "execution_count": 7,
   "outputs": []
  },
  {
   "cell_type": "markdown",
   "source": [
    "Agora estamos prontos para treinar a rede, o que no Keras é feito por meio de uma chamada ao método `fit` da rede - ajustamos o modelo aos dados de treinamento."
   ],
   "metadata": {
    "id": "snIAfojIZFGA"
   }
  },
  {
   "cell_type": "code",
   "source": [
    "network.fit(train_images, train_labels, epochs=5, batch_size=128)"
   ],
   "metadata": {
    "colab": {
     "base_uri": "https://localhost:8080/"
    },
    "id": "jnYhH1AFZIgA",
    "outputId": "94070251-ea3f-4ea4-ce3e-af6b298a58a5",
    "ExecuteTime": {
     "end_time": "2024-03-15T12:22:03.888287Z",
     "start_time": "2024-03-15T12:21:51.783125Z"
    }
   },
   "execution_count": 9,
   "outputs": [
    {
     "name": "stdout",
     "output_type": "stream",
     "text": [
      "Epoch 1/5\n",
      "\u001B[1m469/469\u001B[0m \u001B[32m━━━━━━━━━━━━━━━━━━━━\u001B[0m\u001B[37m\u001B[0m \u001B[1m2s\u001B[0m 3ms/step - accuracy: 0.9921 - loss: 0.0282\n",
      "Epoch 2/5\n",
      "\u001B[1m469/469\u001B[0m \u001B[32m━━━━━━━━━━━━━━━━━━━━\u001B[0m\u001B[37m\u001B[0m \u001B[1m2s\u001B[0m 3ms/step - accuracy: 0.9939 - loss: 0.0220\n",
      "Epoch 3/5\n",
      "\u001B[1m469/469\u001B[0m \u001B[32m━━━━━━━━━━━━━━━━━━━━\u001B[0m\u001B[37m\u001B[0m \u001B[1m3s\u001B[0m 6ms/step - accuracy: 0.9959 - loss: 0.0158\n",
      "Epoch 4/5\n",
      "\u001B[1m469/469\u001B[0m \u001B[32m━━━━━━━━━━━━━━━━━━━━\u001B[0m\u001B[37m\u001B[0m \u001B[1m3s\u001B[0m 6ms/step - accuracy: 0.9968 - loss: 0.0113\n",
      "Epoch 5/5\n",
      "\u001B[1m469/469\u001B[0m \u001B[32m━━━━━━━━━━━━━━━━━━━━\u001B[0m\u001B[37m\u001B[0m \u001B[1m3s\u001B[0m 6ms/step - accuracy: 0.9982 - loss: 0.0084\n"
     ]
    },
    {
     "data": {
      "text/plain": "<keras.src.callbacks.history.History at 0x1e6b022a7e0>"
     },
     "execution_count": 9,
     "metadata": {},
     "output_type": "execute_result"
    }
   ]
  },
  {
   "cell_type": "markdown",
   "source": [
    "Vamos agora testar o modelo no `test set`."
   ],
   "metadata": {
    "id": "pAhNfH_sZatz"
   }
  },
  {
   "cell_type": "code",
   "source": [
    "test_loss, test_acc = network.evaluate(test_images, test_labels)"
   ],
   "metadata": {
    "colab": {
     "base_uri": "https://localhost:8080/"
    },
    "id": "dTdFRd4UZfD-",
    "outputId": "642f7a62-f9ae-40bd-88fb-a5151f738243",
    "ExecuteTime": {
     "end_time": "2024-03-15T12:53:57.338119Z",
     "start_time": "2024-03-15T12:53:56.774618Z"
    }
   },
   "execution_count": 11,
   "outputs": [
    {
     "name": "stdout",
     "output_type": "stream",
     "text": [
      "\u001B[1m313/313\u001B[0m \u001B[32m━━━━━━━━━━━━━━━━━━━━\u001B[0m\u001B[37m\u001B[0m \u001B[1m0s\u001B[0m 1ms/step - accuracy: 0.9762 - loss: 0.0826\n"
     ]
    },
    {
     "data": {
      "text/plain": "[0.06716083735227585, 0.980400025844574]"
     },
     "execution_count": 11,
     "metadata": {},
     "output_type": "execute_result"
    }
   ]
  }
 ]
}
