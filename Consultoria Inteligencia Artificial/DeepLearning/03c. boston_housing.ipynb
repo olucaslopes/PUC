{
 "nbformat": 4,
 "nbformat_minor": 0,
 "metadata": {
  "colab": {
   "provenance": []
  },
  "kernelspec": {
   "name": "python3",
   "display_name": "Python 3 (ipykernel)",
   "language": "python"
  },
  "language_info": {
   "name": "python"
  }
 },
 "cells": [
  {
   "cell_type": "code",
   "metadata": {
    "colab": {
     "base_uri": "https://localhost:8080/"
    },
    "id": "ZFvsbfZnpYsL",
    "outputId": "1ea7dbb9-7097-494a-bab2-1e9ff94d674f",
    "ExecuteTime": {
     "end_time": "2024-04-12T13:03:15.104375Z",
     "start_time": "2024-04-12T13:03:10.750189Z"
    }
   },
   "source": [
    "### Loading the Boston housing dataset\n",
    "from keras.datasets import boston_housing\n",
    "(train_data, train_targets), (test_data, test_targets) = boston_housing.load_data()\n",
    "\n",
    "#looking at the data\n",
    "print(train_data.shape)\n",
    "print(test_data.shape)\n",
    "\n",
    "#the targets are the median values of owner-occupied homes, in thousands of dollars\n",
    "print(train_targets)"
   ],
   "outputs": [
    {
     "name": "stdout",
     "output_type": "stream",
     "text": [
      "(404, 13)\n",
      "(102, 13)\n",
      "[15.2 42.3 50.  21.1 17.7 18.5 11.3 15.6 15.6 14.4 12.1 17.9 23.1 19.9\n",
      " 15.7  8.8 50.  22.5 24.1 27.5 10.9 30.8 32.9 24.  18.5 13.3 22.9 34.7\n",
      " 16.6 17.5 22.3 16.1 14.9 23.1 34.9 25.  13.9 13.1 20.4 20.  15.2 24.7\n",
      " 22.2 16.7 12.7 15.6 18.4 21.  30.1 15.1 18.7  9.6 31.5 24.8 19.1 22.\n",
      " 14.5 11.  32.  29.4 20.3 24.4 14.6 19.5 14.1 14.3 15.6 10.5  6.3 19.3\n",
      " 19.3 13.4 36.4 17.8 13.5 16.5  8.3 14.3 16.  13.4 28.6 43.5 20.2 22.\n",
      " 23.  20.7 12.5 48.5 14.6 13.4 23.7 50.  21.7 39.8 38.7 22.2 34.9 22.5\n",
      " 31.1 28.7 46.  41.7 21.  26.6 15.  24.4 13.3 21.2 11.7 21.7 19.4 50.\n",
      " 22.8 19.7 24.7 36.2 14.2 18.9 18.3 20.6 24.6 18.2  8.7 44.  10.4 13.2\n",
      " 21.2 37.  30.7 22.9 20.  19.3 31.7 32.  23.1 18.8 10.9 50.  19.6  5.\n",
      " 14.4 19.8 13.8 19.6 23.9 24.5 25.  19.9 17.2 24.6 13.5 26.6 21.4 11.9\n",
      " 22.6 19.6  8.5 23.7 23.1 22.4 20.5 23.6 18.4 35.2 23.1 27.9 20.6 23.7\n",
      " 28.  13.6 27.1 23.6 20.6 18.2 21.7 17.1  8.4 25.3 13.8 22.2 18.4 20.7\n",
      " 31.6 30.5 20.3  8.8 19.2 19.4 23.1 23.  14.8 48.8 22.6 33.4 21.1 13.6\n",
      " 32.2 13.1 23.4 18.9 23.9 11.8 23.3 22.8 19.6 16.7 13.4 22.2 20.4 21.8\n",
      " 26.4 14.9 24.1 23.8 12.3 29.1 21.  19.5 23.3 23.8 17.8 11.5 21.7 19.9\n",
      " 25.  33.4 28.5 21.4 24.3 27.5 33.1 16.2 23.3 48.3 22.9 22.8 13.1 12.7\n",
      " 22.6 15.  15.3 10.5 24.  18.5 21.7 19.5 33.2 23.2  5.  19.1 12.7 22.3\n",
      " 10.2 13.9 16.3 17.  20.1 29.9 17.2 37.3 45.4 17.8 23.2 29.  22.  18.\n",
      " 17.4 34.6 20.1 25.  15.6 24.8 28.2 21.2 21.4 23.8 31.  26.2 17.4 37.9\n",
      " 17.5 20.   8.3 23.9  8.4 13.8  7.2 11.7 17.1 21.6 50.  16.1 20.4 20.6\n",
      " 21.4 20.6 36.5  8.5 24.8 10.8 21.9 17.3 18.9 36.2 14.9 18.2 33.3 21.8\n",
      " 19.7 31.6 24.8 19.4 22.8  7.5 44.8 16.8 18.7 50.  50.  19.5 20.1 50.\n",
      " 17.2 20.8 19.3 41.3 20.4 20.5 13.8 16.5 23.9 20.6 31.5 23.3 16.8 14.\n",
      " 33.8 36.1 12.8 18.3 18.7 19.1 29.  30.1 50.  50.  22.  11.9 37.6 50.\n",
      " 22.7 20.8 23.5 27.9 50.  19.3 23.9 22.6 15.2 21.7 19.2 43.8 20.3 33.2\n",
      " 19.9 22.5 32.7 22.  17.1 19.  15.  16.1 25.1 23.7 28.7 37.2 22.6 16.4\n",
      " 25.  29.8 22.1 17.4 18.1 30.3 17.5 24.7 12.6 26.5 28.7 13.3 10.4 24.4\n",
      " 23.  20.  17.8  7.  11.8 24.4 13.8 19.4 25.2 19.4 19.4 29.1]\n"
     ]
    }
   ],
   "execution_count": 1
  },
  {
   "cell_type": "markdown",
   "source": [
    "**Preparando os dados**"
   ],
   "metadata": {
    "id": "j3gVT73V1snc"
   }
  },
  {
   "cell_type": "code",
   "source": [
    "### Normalizing the data\n",
    "\n",
    "mean = train_data.mean(axis=0)\n",
    "train_data -= mean\n",
    "std = train_data.std(axis=0)\n",
    "train_data /= std\n",
    "test_data -= mean\n",
    "test_data /= std"
   ],
   "metadata": {
    "id": "Wixjx6YX13Aq",
    "ExecuteTime": {
     "end_time": "2024-04-12T13:03:15.112740Z",
     "start_time": "2024-04-12T13:03:15.104375Z"
    }
   },
   "outputs": [],
   "execution_count": 2
  },
  {
   "cell_type": "markdown",
   "source": [
    "**Construindo a rede**\n",
    "Devido ao número limitado de amostras disponíveis, usaremos uma rede muito pequena com duas camadas ocultas, cada uma com 64 unidades. Em geral, quanto menos dados de treinamento houver, pior será o *overfitting*, e usar uma rede pequena é uma maneira de mitigar o *overfitting*."
   ],
   "metadata": {
    "id": "7zXbwKEH2EIO"
   }
  },
  {
   "metadata": {
    "ExecuteTime": {
     "end_time": "2024-04-12T13:03:15.126621Z",
     "start_time": "2024-04-12T13:03:15.112740Z"
    }
   },
   "cell_type": "code",
   "source": [
    "import tensorflow as tf\n",
    "print(\"Num GPUs Available: \", len(tf.config.list_physical_devices('GPU')))"
   ],
   "outputs": [
    {
     "name": "stdout",
     "output_type": "stream",
     "text": [
      "Num GPUs Available:  0\n"
     ]
    }
   ],
   "execution_count": 3
  },
  {
   "cell_type": "code",
   "source": [
    "from keras import models\n",
    "from keras import layers\n",
    "def build_model():\n",
    "  model = models.Sequential()\n",
    "  model.add(layers.Dense(64, activation='relu', input_shape=(train_data.shape[1],)))\n",
    "  model.add(layers.Dense(64, activation='relu'))\n",
    "  model.add(layers.Dense(1))\n",
    "  model.compile(optimizer='rmsprop', loss='mse', metrics=['mae'])\n",
    "  return model"
   ],
   "metadata": {
    "id": "j8zheEiMSEIh",
    "ExecuteTime": {
     "end_time": "2024-04-12T13:03:15.146091Z",
     "start_time": "2024-04-12T13:03:15.128134Z"
    }
   },
   "outputs": [],
   "execution_count": 4
  },
  {
   "cell_type": "markdown",
   "source": [
    "A rede termina com uma única unidade e sem ativação (será uma camada linear). Essa é uma configuração típica para regressão escalar (uma regressão em que você está tentando prever um único valor contínuo). Aplicar uma função de ativação restringiria o intervalo que a saída pode assumir; por exemplo, se você aplicasse uma função de ativação `sigmoid` à última camada, a rede só poderia aprender a prever valores entre 0 e 1. Aqui, porque a última camada é puramente linear, a rede está livre para aprender a prever valores em qualquer faixa.\n",
    "\n",
    "Observe que estamos compilando a rede com a função de perda `mse` (*erro médio quadrático*), o quadrado da diferença entre as previsões e os alvos. Esta é uma função de perda amplamente utilizada para problemas de regressão.\n",
    "Também estamos monitorando uma nova métrica durante o treinamento: o *erro médio absoluto* (`MAE`). É o valor absoluto da diferença entre as previsões e os alvos. Por exemplo, um `MAE` de 0.5 neste problema significaria que suas previsões têm um desvio médio de $500."
   ],
   "metadata": {
    "id": "zjCWwz2-STeI"
   }
  },
  {
   "cell_type": "markdown",
   "source": [
    "**Validando a abordagem usando validação K-fold**\n",
    "\n",
    "Para avaliar sua rede enquanto continua ajustando seus parâmetros (como o número de épocas usado para o treinamento), você poderia dividir os dados em um conjunto de treinamento e um conjunto de validação, como fez nos exemplos anteriores. Mas, devido ao número limitado de pontos de dados, o conjunto de validação acabaria sendo muito pequeno (por exemplo, cerca de 100 exemplos). Como consequência, as pontuações de validação podem variar bastante dependendo de quais pontos de dados você escolheu para usar na validação e quais você escolheu para o treinamento: as pontuações de validação podem ter uma alta **variância** em relação à divisão de validação. Isso impediria que você avaliasse confiavelmente seu modelo.\n",
    "\n",
    "A melhor prática em tais situações é usar a validação cruzada *K-fold*. Ela consiste em dividir os dados disponíveis em K partições (tipicamente K = 4 ou 5), instanciar K modelos idênticos e treinar cada um em K - 1 partições enquanto avalia na partição restante. A pontuação de validação para o modelo usado é então a média das K pontuações de validação obtidas. Em termos de código, isso é muito simples."
   ],
   "metadata": {
    "id": "f5UVAo9TS4sJ"
   }
  },
  {
   "cell_type": "code",
   "source": [
    "### K-fold validation\n",
    "import numpy as np\n",
    "k = 4\n",
    "num_val_samples = len(train_data) // k\n",
    "num_epochs = 100\n",
    "all_scores = []\n",
    "\n",
    "for i in range(k):\n",
    "  print('processing fold #', i)\n",
    "  val_data = train_data[i * num_val_samples: (i + 1) * num_val_samples]\n",
    "  val_targets = train_targets[i * num_val_samples: (i + 1) * num_val_samples]\n",
    "  partial_train_data = np.concatenate([train_data[:i * num_val_samples],\n",
    "    train_data[(i + 1) * num_val_samples:]],axis=0)\n",
    "  partial_train_targets = np.concatenate([train_targets[:i * num_val_samples],\n",
    "    train_targets[(i + 1) * num_val_samples:]],axis=0)\n",
    "  model = build_model()\n",
    "  model.fit(partial_train_data, partial_train_targets,\n",
    "  epochs=num_epochs, batch_size=32, verbose=0)\n",
    "  val_mse, val_mae = model.evaluate(val_data, val_targets, verbose=0)\n",
    "  all_scores.append(val_mae)\n",
    "print(all_scores)\n",
    "np.mean(all_scores)"
   ],
   "metadata": {
    "colab": {
     "base_uri": "https://localhost:8080/"
    },
    "id": "OCXPg-cbUKQ5",
    "outputId": "044c0c61-b72c-428f-c053-bcecfda5017e",
    "ExecuteTime": {
     "end_time": "2024-04-12T13:03:40.310965Z",
     "start_time": "2024-04-12T13:03:15.146091Z"
    }
   },
   "outputs": [
    {
     "name": "stdout",
     "output_type": "stream",
     "text": [
      "processing fold # 0\n"
     ]
    },
    {
     "name": "stderr",
     "output_type": "stream",
     "text": [
      "C:\\Users\\gugat\\PycharmProjects\\PUC\\venv\\Lib\\site-packages\\keras\\src\\layers\\core\\dense.py:85: UserWarning: Do not pass an `input_shape`/`input_dim` argument to a layer. When using Sequential models, prefer using an `Input(shape)` object as the first layer in the model instead.\n",
      "  super().__init__(activity_regularizer=activity_regularizer, **kwargs)\n"
     ]
    },
    {
     "name": "stdout",
     "output_type": "stream",
     "text": [
      "processing fold # 1\n",
      "processing fold # 2\n",
      "processing fold # 3\n",
      "[2.0134642124176025, 2.4808616638183594, 2.4920380115509033, 2.528165102005005]\n"
     ]
    },
    {
     "data": {
      "text/plain": [
       "2.3786322474479675"
      ]
     },
     "execution_count": 5,
     "metadata": {},
     "output_type": "execute_result"
    }
   ],
   "execution_count": 5
  },
  {
   "cell_type": "markdown",
   "source": [
    "As diferentes execuções realmente mostram pontuações de validação bastante diferentes, de 2.6 a 3.2. A média (3.0) é uma métrica muito mais confiável do que qualquer pontuação única - esse é o ponto principal da validação cruzada K-fold. Neste caso, você está errando em média \\$3000, o que é significativo considerando que os preços variam de \\$10000 a \\$50000.\n",
    "\n",
    "Vamos tentar treinar a rede um pouco mais: 500 épocas. Para manter um registro de quão bem o modelo se sai a cada época, modificaremos o loop de treinamento para salvar o registro da pontuação de validação por época."
   ],
   "metadata": {
    "id": "SysLh2xIaGzb"
   }
  },
  {
   "cell_type": "code",
   "source": [
    "### Saving the validation logs at each fold\n",
    "\n",
    "num_epochs = 500\n",
    "all_mae_histories = []\n",
    "for i in range(k):\n",
    "  print('processing fold #', i)\n",
    "  val_data = train_data[i * num_val_samples: (i + 1) * num_val_samples]\n",
    "  val_targets = train_targets[i * num_val_samples: (i + 1) * num_val_samples]\n",
    "  partial_train_data = np.concatenate([train_data[:i * num_val_samples],\n",
    "    train_data[(i + 1) * num_val_samples:]], axis=0)\n",
    "  partial_train_targets = np.concatenate([train_targets[:i * num_val_samples],\n",
    "    train_targets[(i + 1) * num_val_samples:]], axis=0)\n",
    "  model = build_model()\n",
    "  history = model.fit(partial_train_data, partial_train_targets,\n",
    "    validation_data=(val_data, val_targets),\n",
    "  epochs=num_epochs, batch_size=32, verbose=0)\n",
    "  mae_history = history.history['val_mae']\n",
    "  all_mae_histories.append(mae_history)\n",
    "\n",
    "### Building the history of successive mean K-fold validation scores\n",
    "average_mae_history = [\n",
    "np.mean([x[i] for x in all_mae_histories]) for i in range(num_epochs)]\n",
    "\n",
    "### Plotting validation scores\n",
    "import matplotlib.pyplot as plt\n",
    "plt.plot(range(1, len(average_mae_history) + 1), average_mae_history)\n",
    "plt.xlabel('Epochs')\n",
    "plt.ylabel('Validation MAE')\n",
    "plt.show()"
   ],
   "metadata": {
    "colab": {
     "base_uri": "https://localhost:8080/",
     "height": 518
    },
    "id": "CPY-YcwBaYTp",
    "outputId": "b8945a71-a4f5-4912-f583-44ada637d0ea",
    "ExecuteTime": {
     "end_time": "2024-04-12T13:07:49.981335Z",
     "start_time": "2024-04-12T13:03:40.310965Z"
    }
   },
   "outputs": [
    {
     "name": "stdout",
     "output_type": "stream",
     "text": [
      "processing fold # 0\n",
      "processing fold # 1\n",
      "processing fold # 2\n",
      "processing fold # 3\n"
     ]
    },
    {
     "data": {
      "text/plain": [
       "<Figure size 640x480 with 1 Axes>"
      ],
      "image/png": "[encoded data removed]"
     },
     "metadata": {},
     "output_type": "display_data"
    }
   ],
   "execution_count": 6
  },
  {
   "cell_type": "markdown",
   "source": [
    "Pode ser um pouco difícil ver o gráfico, devido a problemas de escala e variância relativamente alta. Vamos fazer o seguinte:\n",
    "- Omitir os primeiros 10 pontos de dados, que estão em uma escala diferente do resto da curva.\n",
    "- Substituir cada ponto por uma média móvel exponencial dos pontos anteriores para obter uma curva suave."
   ],
   "metadata": {
    "id": "U7sGPP8QclMq"
   }
  },
  {
   "cell_type": "code",
   "source": [
    "### Plotting validation scores, excluding the first 10 data points\n",
    "def smooth_curve(points, factor=0.9):\n",
    "  smoothed_points = []\n",
    "  for point in points:\n",
    "    if smoothed_points:\n",
    "      previous = smoothed_points[-1]\n",
    "      smoothed_points.append(previous * factor + point * (1 - factor))\n",
    "    else:\n",
    "      smoothed_points.append(point)\n",
    "  return smoothed_points\n",
    "smooth_mae_history = smooth_curve(average_mae_history[10:])\n",
    "plt.plot(range(1, len(smooth_mae_history) + 1), smooth_mae_history)\n",
    "plt.xlabel('Epochs')\n",
    "plt.ylabel('Validation MAE')\n",
    "plt.show()"
   ],
   "metadata": {
    "colab": {
     "base_uri": "https://localhost:8080/",
     "height": 449
    },
    "id": "gu2xP6RTcuQ1",
    "outputId": "dcf07050-d88a-4f35-ae5c-56ba7a10bd57",
    "ExecuteTime": {
     "end_time": "2024-04-12T13:07:50.178160Z",
     "start_time": "2024-04-12T13:07:49.983347Z"
    }
   },
   "outputs": [
    {
     "data": {
      "text/plain": [
       "<Figure size 640x480 with 1 Axes>"
      ],
      "image/png": "[encoded data removed]"
     },
     "metadata": {},
     "output_type": "display_data"
    }
   ],
   "execution_count": 7
  },
  {
   "cell_type": "markdown",
   "source": [
    "De acordo com este gráfico, a validação por MAE para de melhorar significativamente após 80 épocas. Após esse ponto, começa-se a ter *overfitting*. Assim que terminarmos de ajustar outros parâmetros do modelo (além do número de épocas, você também pode ajustar o tamanho das camadas ocultas), podemos treinar um modelo final em todos os dados de treinamento, com os melhores parâmetros, e então avaliar seu desempenho nos dados de teste."
   ],
   "metadata": {
    "id": "0CM9cUkfc_XV"
   }
  },
  {
   "cell_type": "code",
   "source": [
    "### Training the final model\n",
    "model = build_model()\n",
    "model.fit(train_data, train_targets,epochs=80, batch_size=32, verbose=0)\n",
    "test_mse_score, test_mae_score = model.evaluate(test_data, test_targets)\n",
    "print(test_mae_score)"
   ],
   "metadata": {
    "colab": {
     "base_uri": "https://localhost:8080/"
    },
    "id": "FWoVTeF4jt1C",
    "outputId": "006dd2f2-8d7f-4946-e495-28d969abe8e3",
    "ExecuteTime": {
     "end_time": "2024-04-12T13:07:55.531266Z",
     "start_time": "2024-04-12T13:07:50.180160Z"
    }
   },
   "outputs": [
    {
     "name": "stderr",
     "output_type": "stream",
     "text": [
      "C:\\Users\\gugat\\PycharmProjects\\PUC\\venv\\Lib\\site-packages\\keras\\src\\layers\\core\\dense.py:85: UserWarning: Do not pass an `input_shape`/`input_dim` argument to a layer. When using Sequential models, prefer using an `Input(shape)` object as the first layer in the model instead.\n",
      "  super().__init__(activity_regularizer=activity_regularizer, **kwargs)\n"
     ]
    },
    {
     "name": "stdout",
     "output_type": "stream",
     "text": [
      "\u001B[1m4/4\u001B[0m \u001B[32m━━━━━━━━━━━━━━━━━━━━\u001B[0m\u001B[37m\u001B[0m \u001B[1m0s\u001B[0m 3ms/step - loss: 26.1432 - mae: 2.7571 \n",
      "2.9170806407928467\n"
     ]
    }
   ],
   "execution_count": 8
  },
  {
   "cell_type": "markdown",
   "source": [
    "**Exercícios**\n",
    "\n",
    "1. Aumente o número de camadas da rede. Qual é o efeito dessa mudança no *overfitting* da rede?\n"
   ],
   "metadata": {
    "id": "LxmwS2XQlVTi"
   }
  },
  {
   "metadata": {
    "ExecuteTime": {
     "end_time": "2024-04-12T13:13:07.524507Z",
     "start_time": "2024-04-12T13:13:07.512039Z"
    }
   },
   "cell_type": "code",
   "source": [
    "from tensorflow.keras import models, layers\n",
    "\n",
    "from tensorflow.keras import models, layers\n",
    "import numpy as np\n",
    "\n",
    "class FlexibleModel:\n",
    "    def __init__(self, input_shape, num_hidden_layers=3, units_per_layer=64, optimizer='rmsprop', loss='mse', metrics=['mae']):\n",
    "        self.input_shape = input_shape\n",
    "        self.num_hidden_layers = num_hidden_layers\n",
    "        self.units_per_layer = units_per_layer\n",
    "        self.optimizer = optimizer\n",
    "        self.loss = loss\n",
    "        self.metrics = metrics\n",
    "\n",
    "    def build_model(self):\n",
    "        model = models.Sequential()\n",
    "        model.add(layers.Dense(self.units_per_layer, activation='relu', input_shape=(self.input_shape,)))\n",
    "        for _ in range(self.num_hidden_layers - 1):\n",
    "            model.add(layers.Dense(self.units_per_layer, activation='relu'))\n",
    "        model.add(layers.Dense(1))\n",
    "        model.compile(optimizer=self.optimizer, loss=self.loss, metrics=self.metrics)\n",
    "        return model\n",
    "\n",
    "def eval_model_k_fold(num_hidden_layers, k=4, num_epochs=100):\n",
    "    num_val_samples = len(train_data) // k\n",
    "    all_scores = []\n",
    "    \n",
    "    print('Evaluating model with', num_hidden_layers, 'hidden layers')\n",
    "    for i in range(k):\n",
    "        # print('Processing fold #', i)\n",
    "        val_data = train_data[i * num_val_samples: (i + 1) * num_val_samples]\n",
    "        val_targets = train_targets[i * num_val_samples: (i + 1) * num_val_samples]\n",
    "        partial_train_data = np.concatenate(\n",
    "            [train_data[:i * num_val_samples], train_data[(i + 1) * num_val_samples:]], axis=0)\n",
    "        partial_train_targets = np.concatenate(\n",
    "            [train_targets[:i * num_val_samples], train_targets[(i + 1) * num_val_samples:]], axis=0)\n",
    "        \n",
    "        model = FlexibleModel(train_data.shape[1], num_hidden_layers=num_hidden_layers).build_model()\n",
    "        model.fit(partial_train_data, partial_train_targets, epochs=num_epochs, batch_size=32, verbose=0)\n",
    "        val_mse, val_mae = model.evaluate(val_data, val_targets, verbose=0)\n",
    "        all_scores.append(val_mae)\n",
    "    \n",
    "    mean_mae = np.mean(all_scores)\n",
    "    print(f\"Mean MAE over {k} folds with {num_hidden_layers} layers:\", mean_mae)\n",
    "    return mean_mae"
   ],
   "outputs": [],
   "execution_count": 20
  },
  {
   "metadata": {
    "ExecuteTime": {
     "end_time": "2024-04-12T13:17:57.591992Z",
     "start_time": "2024-04-12T13:13:08.226092Z"
    }
   },
   "cell_type": "code",
   "source": [
    "possible_hidden_layers = [1, 2, 3, 4, 5, 6, 7, 8, 9, 10]\n",
    "mae_scores = [eval_model_k_fold(num_hidden_layers) for num_hidden_layers in possible_hidden_layers]\n",
    "mae_scores"
   ],
   "outputs": [
    {
     "name": "stdout",
     "output_type": "stream",
     "text": [
      "Evaluating model with 1 hidden layers\n",
      "Mean MAE over 4 folds with 1 layers: 2.7634207010269165\n",
      "Evaluating model with 2 hidden layers\n",
      "Mean MAE over 4 folds with 2 layers: 2.4350287318229675\n",
      "Evaluating model with 3 hidden layers\n",
      "Mean MAE over 4 folds with 3 layers: 2.422805428504944\n",
      "Evaluating model with 4 hidden layers\n",
      "Mean MAE over 4 folds with 4 layers: 2.583626478910446\n",
      "Evaluating model with 5 hidden layers\n",
      "Mean MAE over 4 folds with 5 layers: 2.349538505077362\n",
      "Evaluating model with 6 hidden layers\n",
      "Mean MAE over 4 folds with 6 layers: 2.501535326242447\n",
      "Evaluating model with 7 hidden layers\n",
      "Mean MAE over 4 folds with 7 layers: 2.5029186010360718\n",
      "Evaluating model with 8 hidden layers\n",
      "Mean MAE over 4 folds with 8 layers: 3.1588295102119446\n",
      "Evaluating model with 9 hidden layers\n",
      "Mean MAE over 4 folds with 9 layers: 2.8831002712249756\n",
      "Evaluating model with 10 hidden layers\n",
      "Mean MAE over 4 folds with 10 layers: 3.117382287979126\n"
     ]
    },
    {
     "data": {
      "text/plain": [
       "[2.7634207010269165,\n",
       " 2.4350287318229675,\n",
       " 2.422805428504944,\n",
       " 2.583626478910446,\n",
       " 2.349538505077362,\n",
       " 2.501535326242447,\n",
       " 2.5029186010360718,\n",
       " 3.1588295102119446,\n",
       " 2.8831002712249756,\n",
       " 3.117382287979126]"
      ]
     },
     "execution_count": 21,
     "metadata": {},
     "output_type": "execute_result"
    }
   ],
   "execution_count": 21
  },
  {
   "metadata": {},
   "cell_type": "markdown",
   "source": "Analizando os resultados, podemos ver que o melhor número de camadas ocultas é 3, com um *MAE* médio de 2.42. A partir de 4 camadas ocultas, o *MAE* médio começa a aumentar, indicando *overfitting*."
  }
 ]
}
